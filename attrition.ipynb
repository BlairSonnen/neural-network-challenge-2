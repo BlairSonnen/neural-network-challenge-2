{
 "cells": [
  {
   "cell_type": "markdown",
   "metadata": {
    "id": "alIIEHibGc3M"
   },
   "source": [
    "## Part 1: Preprocessing"
   ]
  },
  {
   "cell_type": "code",
   "execution_count": 2,
   "metadata": {
    "colab": {
     "base_uri": "https://localhost:8080/",
     "height": 325
    },
    "executionInfo": {
     "elapsed": 12323,
     "status": "ok",
     "timestamp": 1730699226906,
     "user": {
      "displayName": "Alexander Booth",
      "userId": "02269714993535573104"
     },
     "user_tz": 360
    },
    "id": "6eDUJ4NtGc3P",
    "outputId": "eeae54b5-3d17-442d-94ba-00dd55b89964"
   },
   "outputs": [
    {
     "name": "stderr",
     "output_type": "stream",
     "text": [
      "2025-04-21 19:01:35.629386: I tensorflow/core/platform/cpu_feature_guard.cc:210] This TensorFlow binary is optimized to use available CPU instructions in performance-critical operations.\n",
      "To enable the following instructions: AVX2 FMA, in other operations, rebuild TensorFlow with the appropriate compiler flags.\n"
     ]
    },
    {
     "data": {
      "text/html": [
       "<div>\n",
       "<style scoped>\n",
       "    .dataframe tbody tr th:only-of-type {\n",
       "        vertical-align: middle;\n",
       "    }\n",
       "\n",
       "    .dataframe tbody tr th {\n",
       "        vertical-align: top;\n",
       "    }\n",
       "\n",
       "    .dataframe thead th {\n",
       "        text-align: right;\n",
       "    }\n",
       "</style>\n",
       "<table border=\"1\" class=\"dataframe\">\n",
       "  <thead>\n",
       "    <tr style=\"text-align: right;\">\n",
       "      <th></th>\n",
       "      <th>Age</th>\n",
       "      <th>Attrition</th>\n",
       "      <th>BusinessTravel</th>\n",
       "      <th>Department</th>\n",
       "      <th>DistanceFromHome</th>\n",
       "      <th>Education</th>\n",
       "      <th>EducationField</th>\n",
       "      <th>EnvironmentSatisfaction</th>\n",
       "      <th>HourlyRate</th>\n",
       "      <th>JobInvolvement</th>\n",
       "      <th>...</th>\n",
       "      <th>PerformanceRating</th>\n",
       "      <th>RelationshipSatisfaction</th>\n",
       "      <th>StockOptionLevel</th>\n",
       "      <th>TotalWorkingYears</th>\n",
       "      <th>TrainingTimesLastYear</th>\n",
       "      <th>WorkLifeBalance</th>\n",
       "      <th>YearsAtCompany</th>\n",
       "      <th>YearsInCurrentRole</th>\n",
       "      <th>YearsSinceLastPromotion</th>\n",
       "      <th>YearsWithCurrManager</th>\n",
       "    </tr>\n",
       "  </thead>\n",
       "  <tbody>\n",
       "    <tr>\n",
       "      <th>0</th>\n",
       "      <td>41</td>\n",
       "      <td>Yes</td>\n",
       "      <td>Travel_Rarely</td>\n",
       "      <td>Sales</td>\n",
       "      <td>1</td>\n",
       "      <td>2</td>\n",
       "      <td>Life Sciences</td>\n",
       "      <td>2</td>\n",
       "      <td>94</td>\n",
       "      <td>3</td>\n",
       "      <td>...</td>\n",
       "      <td>3</td>\n",
       "      <td>1</td>\n",
       "      <td>0</td>\n",
       "      <td>8</td>\n",
       "      <td>0</td>\n",
       "      <td>1</td>\n",
       "      <td>6</td>\n",
       "      <td>4</td>\n",
       "      <td>0</td>\n",
       "      <td>5</td>\n",
       "    </tr>\n",
       "    <tr>\n",
       "      <th>1</th>\n",
       "      <td>49</td>\n",
       "      <td>No</td>\n",
       "      <td>Travel_Frequently</td>\n",
       "      <td>Research &amp; Development</td>\n",
       "      <td>8</td>\n",
       "      <td>1</td>\n",
       "      <td>Life Sciences</td>\n",
       "      <td>3</td>\n",
       "      <td>61</td>\n",
       "      <td>2</td>\n",
       "      <td>...</td>\n",
       "      <td>4</td>\n",
       "      <td>4</td>\n",
       "      <td>1</td>\n",
       "      <td>10</td>\n",
       "      <td>3</td>\n",
       "      <td>3</td>\n",
       "      <td>10</td>\n",
       "      <td>7</td>\n",
       "      <td>1</td>\n",
       "      <td>7</td>\n",
       "    </tr>\n",
       "    <tr>\n",
       "      <th>2</th>\n",
       "      <td>37</td>\n",
       "      <td>Yes</td>\n",
       "      <td>Travel_Rarely</td>\n",
       "      <td>Research &amp; Development</td>\n",
       "      <td>2</td>\n",
       "      <td>2</td>\n",
       "      <td>Other</td>\n",
       "      <td>4</td>\n",
       "      <td>92</td>\n",
       "      <td>2</td>\n",
       "      <td>...</td>\n",
       "      <td>3</td>\n",
       "      <td>2</td>\n",
       "      <td>0</td>\n",
       "      <td>7</td>\n",
       "      <td>3</td>\n",
       "      <td>3</td>\n",
       "      <td>0</td>\n",
       "      <td>0</td>\n",
       "      <td>0</td>\n",
       "      <td>0</td>\n",
       "    </tr>\n",
       "    <tr>\n",
       "      <th>3</th>\n",
       "      <td>33</td>\n",
       "      <td>No</td>\n",
       "      <td>Travel_Frequently</td>\n",
       "      <td>Research &amp; Development</td>\n",
       "      <td>3</td>\n",
       "      <td>4</td>\n",
       "      <td>Life Sciences</td>\n",
       "      <td>4</td>\n",
       "      <td>56</td>\n",
       "      <td>3</td>\n",
       "      <td>...</td>\n",
       "      <td>3</td>\n",
       "      <td>3</td>\n",
       "      <td>0</td>\n",
       "      <td>8</td>\n",
       "      <td>3</td>\n",
       "      <td>3</td>\n",
       "      <td>8</td>\n",
       "      <td>7</td>\n",
       "      <td>3</td>\n",
       "      <td>0</td>\n",
       "    </tr>\n",
       "    <tr>\n",
       "      <th>4</th>\n",
       "      <td>27</td>\n",
       "      <td>No</td>\n",
       "      <td>Travel_Rarely</td>\n",
       "      <td>Research &amp; Development</td>\n",
       "      <td>2</td>\n",
       "      <td>1</td>\n",
       "      <td>Medical</td>\n",
       "      <td>1</td>\n",
       "      <td>40</td>\n",
       "      <td>3</td>\n",
       "      <td>...</td>\n",
       "      <td>3</td>\n",
       "      <td>4</td>\n",
       "      <td>1</td>\n",
       "      <td>6</td>\n",
       "      <td>3</td>\n",
       "      <td>3</td>\n",
       "      <td>2</td>\n",
       "      <td>2</td>\n",
       "      <td>2</td>\n",
       "      <td>2</td>\n",
       "    </tr>\n",
       "  </tbody>\n",
       "</table>\n",
       "<p>5 rows × 27 columns</p>\n",
       "</div>"
      ],
      "text/plain": [
       "   Age Attrition     BusinessTravel              Department  DistanceFromHome  \\\n",
       "0   41       Yes      Travel_Rarely                   Sales                 1   \n",
       "1   49        No  Travel_Frequently  Research & Development                 8   \n",
       "2   37       Yes      Travel_Rarely  Research & Development                 2   \n",
       "3   33        No  Travel_Frequently  Research & Development                 3   \n",
       "4   27        No      Travel_Rarely  Research & Development                 2   \n",
       "\n",
       "   Education EducationField  EnvironmentSatisfaction  HourlyRate  \\\n",
       "0          2  Life Sciences                        2          94   \n",
       "1          1  Life Sciences                        3          61   \n",
       "2          2          Other                        4          92   \n",
       "3          4  Life Sciences                        4          56   \n",
       "4          1        Medical                        1          40   \n",
       "\n",
       "   JobInvolvement  ...  PerformanceRating RelationshipSatisfaction  \\\n",
       "0               3  ...                  3                        1   \n",
       "1               2  ...                  4                        4   \n",
       "2               2  ...                  3                        2   \n",
       "3               3  ...                  3                        3   \n",
       "4               3  ...                  3                        4   \n",
       "\n",
       "   StockOptionLevel TotalWorkingYears  TrainingTimesLastYear WorkLifeBalance  \\\n",
       "0                 0                 8                      0               1   \n",
       "1                 1                10                      3               3   \n",
       "2                 0                 7                      3               3   \n",
       "3                 0                 8                      3               3   \n",
       "4                 1                 6                      3               3   \n",
       "\n",
       "   YearsAtCompany  YearsInCurrentRole  YearsSinceLastPromotion  \\\n",
       "0               6                   4                        0   \n",
       "1              10                   7                        1   \n",
       "2               0                   0                        0   \n",
       "3               8                   7                        3   \n",
       "4               2                   2                        2   \n",
       "\n",
       "   YearsWithCurrManager  \n",
       "0                     5  \n",
       "1                     7  \n",
       "2                     0  \n",
       "3                     0  \n",
       "4                     2  \n",
       "\n",
       "[5 rows x 27 columns]"
      ]
     },
     "execution_count": 2,
     "metadata": {},
     "output_type": "execute_result"
    }
   ],
   "source": [
    "# Import our dependencies\n",
    "from sklearn.model_selection import train_test_split\n",
    "from sklearn.preprocessing import StandardScaler\n",
    "import pandas as pd\n",
    "import numpy as np\n",
    "from tensorflow.keras.models import Model\n",
    "from tensorflow.keras import layers\n",
    "\n",
    "#  Import and read the attrition data\n",
    "attrition_df = pd.read_csv('https://static.bc-edx.com/ai/ail-v-1-0/m19/lms/datasets/attrition.csv')\n",
    "attrition_df.head()"
   ]
  },
  {
   "cell_type": "code",
   "execution_count": 3,
   "metadata": {
    "colab": {
     "base_uri": "https://localhost:8080/",
     "height": 930
    },
    "executionInfo": {
     "elapsed": 10,
     "status": "ok",
     "timestamp": 1730699226906,
     "user": {
      "displayName": "Alexander Booth",
      "userId": "02269714993535573104"
     },
     "user_tz": 360
    },
    "id": "g22aQSY4Gc3Q",
    "outputId": "e8b68509-45d8-42e0-a9db-1bdce48e4b2d"
   },
   "outputs": [
    {
     "data": {
      "text/plain": [
       "Age                         43\n",
       "Attrition                    2\n",
       "BusinessTravel               3\n",
       "Department                   3\n",
       "DistanceFromHome            29\n",
       "Education                    5\n",
       "EducationField               6\n",
       "EnvironmentSatisfaction      4\n",
       "HourlyRate                  71\n",
       "JobInvolvement               4\n",
       "JobLevel                     5\n",
       "JobRole                      9\n",
       "JobSatisfaction              4\n",
       "MaritalStatus                3\n",
       "NumCompaniesWorked          10\n",
       "OverTime                     2\n",
       "PercentSalaryHike           15\n",
       "PerformanceRating            2\n",
       "RelationshipSatisfaction     4\n",
       "StockOptionLevel             4\n",
       "TotalWorkingYears           40\n",
       "TrainingTimesLastYear        7\n",
       "WorkLifeBalance              4\n",
       "YearsAtCompany              37\n",
       "YearsInCurrentRole          19\n",
       "YearsSinceLastPromotion     16\n",
       "YearsWithCurrManager        18\n",
       "dtype: int64"
      ]
     },
     "execution_count": 3,
     "metadata": {},
     "output_type": "execute_result"
    }
   ],
   "source": [
    "# Determine the number of unique values in each column\n",
    "attrition_df.nunique()"
   ]
  },
  {
   "cell_type": "code",
   "execution_count": 4,
   "metadata": {
    "executionInfo": {
     "elapsed": 7,
     "status": "ok",
     "timestamp": 1730699226906,
     "user": {
      "displayName": "Alexander Booth",
      "userId": "02269714993535573104"
     },
     "user_tz": 360
    },
    "id": "50vMgBEnJbfM"
   },
   "outputs": [],
   "source": [
    "# Create y_df with the Attrition and Department columns\n",
    "y_df = attrition_df[['Attrition', 'Department']]"
   ]
  },
  {
   "cell_type": "code",
   "execution_count": 5,
   "metadata": {},
   "outputs": [
    {
     "name": "stdout",
     "output_type": "stream",
     "text": [
      "Education             int64\n",
      "Age                   int64\n",
      "JobSatisfaction       int64\n",
      "DistanceFromHome      int64\n",
      "YearsAtCompany        int64\n",
      "NumCompaniesWorked    int64\n",
      "TotalWorkingYears     int64\n",
      "YearsInCurrentRole    int64\n",
      "WorkLifeBalance       int64\n",
      "StockOptionLevel      int64\n",
      "dtype: object\n"
     ]
    }
   ],
   "source": [
    "#create a list of the education and age columns to be used as features  \n",
    "X = attrition_df[['Education', 'Age', 'JobSatisfaction', 'DistanceFromHome', 'YearsAtCompany', 'NumCompaniesWorked', 'TotalWorkingYears', 'YearsInCurrentRole', 'WorkLifeBalance', 'StockOptionLevel']]\n",
    "X_df = X\n",
    "print(X_df.dtypes)"
   ]
  },
  {
   "cell_type": "code",
   "execution_count": 6,
   "metadata": {
    "colab": {
     "base_uri": "https://localhost:8080/",
     "height": 397
    },
    "executionInfo": {
     "elapsed": 125,
     "status": "ok",
     "timestamp": 1730699227025,
     "user": {
      "displayName": "Alexander Booth",
      "userId": "02269714993535573104"
     },
     "user_tz": 360
    },
    "id": "Virka0zLGc3R",
    "outputId": "24f181c9-7e2e-42cb-94e8-a75842f1ab01"
   },
   "outputs": [
    {
     "data": {
      "text/plain": [
       "Education             int64\n",
       "Age                   int64\n",
       "JobSatisfaction       int64\n",
       "DistanceFromHome      int64\n",
       "YearsAtCompany        int64\n",
       "NumCompaniesWorked    int64\n",
       "TotalWorkingYears     int64\n",
       "YearsInCurrentRole    int64\n",
       "WorkLifeBalance       int64\n",
       "StockOptionLevel      int64\n",
       "dtype: object"
      ]
     },
     "execution_count": 6,
     "metadata": {},
     "output_type": "execute_result"
    }
   ],
   "source": [
    "# Create a list of at least 10 column names to use as X data\n",
    "X = attrition_df[['Education', 'Age', 'JobSatisfaction', 'DistanceFromHome', 'YearsAtCompany', 'NumCompaniesWorked', 'TotalWorkingYears', 'YearsInCurrentRole', 'WorkLifeBalance', 'StockOptionLevel']]\n",
    "\n",
    "# Create X_df using your selected columns\n",
    "X_df = X\n",
    "\n",
    "# Show the data types for X_df\n",
    "X_df.dtypes.head(10)"
   ]
  },
  {
   "cell_type": "code",
   "execution_count": 7,
   "metadata": {
    "executionInfo": {
     "elapsed": 9,
     "status": "ok",
     "timestamp": 1730699227025,
     "user": {
      "displayName": "Alexander Booth",
      "userId": "02269714993535573104"
     },
     "user_tz": 360
    },
    "id": "KaJfdOGUMHMR"
   },
   "outputs": [],
   "source": [
    "# Split the data into training and testing sets\n",
    "from sklearn.model_selection import train_test_split\n",
    "X_train, X_test, y_train, y_test = train_test_split(X_df, y_df, test_size=0.2, random_state=42)\n"
   ]
  },
  {
   "cell_type": "code",
   "execution_count": 8,
   "metadata": {
    "colab": {
     "base_uri": "https://localhost:8080/",
     "height": 178
    },
    "executionInfo": {
     "elapsed": 8,
     "status": "ok",
     "timestamp": 1730699227025,
     "user": {
      "displayName": "Alexander Booth",
      "userId": "02269714993535573104"
     },
     "user_tz": 360
    },
    "id": "NYubUJqiLCSp",
    "outputId": "6116187c-4afa-4d4a-aeb9-fdc2131d0d58"
   },
   "outputs": [
    {
     "data": {
      "text/plain": [
       "Education             int64\n",
       "Age                   int64\n",
       "JobSatisfaction       int64\n",
       "DistanceFromHome      int64\n",
       "YearsAtCompany        int64\n",
       "NumCompaniesWorked    int64\n",
       "TotalWorkingYears     int64\n",
       "YearsInCurrentRole    int64\n",
       "WorkLifeBalance       int64\n",
       "StockOptionLevel      int64\n",
       "dtype: object"
      ]
     },
     "execution_count": 8,
     "metadata": {},
     "output_type": "execute_result"
    }
   ],
   "source": [
    "# Convert your X data to numeric data types however you see fit\n",
    "# Add new code cells as necessary\n",
    "X_train.dtypes.head(10)\n",
    "X_test.dtypes.head(10)"
   ]
  },
  {
   "cell_type": "code",
   "execution_count": 9,
   "metadata": {
    "executionInfo": {
     "elapsed": 6,
     "status": "ok",
     "timestamp": 1730699227162,
     "user": {
      "displayName": "Alexander Booth",
      "userId": "02269714993535573104"
     },
     "user_tz": 360
    },
    "id": "EWA-aIA5Gc3T"
   },
   "outputs": [],
   "source": [
    "# Create a StandardScaler\n",
    "from sklearn.preprocessing import StandardScaler\n",
    "\n",
    "# Fit the StandardScaler to the training data\n",
    "scaler = StandardScaler()\n",
    "scaler.fit(X_train)\n",
    "\n",
    "# Scale the training and testing data\n",
    "X_train_scaled = pd.DataFrame(\n",
    "    scaler.transform(X_train),\n",
    "    columns=X_train.columns,\n",
    "    index=X_train.index\n",
    ")\n",
    "X_test_scaled = pd.DataFrame(\n",
    "    scaler.transform(X_test),\n",
    "    columns=X_test.columns,\n",
    "    index=X_test.index\n",
    ")"
   ]
  },
  {
   "cell_type": "code",
   "execution_count": 10,
   "metadata": {},
   "outputs": [
    {
     "name": "stdout",
     "output_type": "stream",
     "text": [
      "      Education       Age  JobSatisfaction  DistanceFromHome  YearsAtCompany  \\\n",
      "1097  -0.863356 -1.388559        -1.582336          1.440396       -0.974263   \n",
      "727   -0.863356 -2.040738         1.152834         -0.522699       -1.138573   \n",
      "254   -0.863356 -0.845077         1.152834          1.317703       -0.645643   \n",
      "1175   0.099933  0.241886        -0.670613          0.336155       -0.317023   \n",
      "1341   0.099933 -0.627685         0.241111          1.317703        0.504527   \n",
      "\n",
      "      NumCompaniesWorked  TotalWorkingYears  YearsInCurrentRole  \\\n",
      "1097           -1.059168          -1.167368           -0.888208   \n",
      "727            -0.659431          -1.423397           -1.165051   \n",
      "254            -0.259693          -0.143254           -0.611364   \n",
      "1175            0.539781          -0.527297           -0.057676   \n",
      "1341           -0.659431          -0.143254            1.049700   \n",
      "\n",
      "      WorkLifeBalance  StockOptionLevel  \n",
      "1097         0.357435          2.547471  \n",
      "727          0.357435         -0.945525  \n",
      "254          0.357435          0.218807  \n",
      "1175         0.357435         -0.945525  \n",
      "1341         0.357435          0.218807  \n"
     ]
    }
   ],
   "source": [
    "print(X_train_scaled.head())"
   ]
  },
  {
   "cell_type": "code",
   "execution_count": 11,
   "metadata": {
    "colab": {
     "base_uri": "https://localhost:8080/"
    },
    "executionInfo": {
     "elapsed": 99,
     "status": "ok",
     "timestamp": 1730699227256,
     "user": {
      "displayName": "Alexander Booth",
      "userId": "02269714993535573104"
     },
     "user_tz": 360
    },
    "id": "-z0Mky8vQSz4",
    "outputId": "5024d63f-7e4e-4a91-fb76-0b2c79c1bcfb"
   },
   "outputs": [
    {
     "data": {
      "text/plain": [
       "array([[0., 1., 0.],\n",
       "       [0., 1., 0.],\n",
       "       [0., 0., 1.],\n",
       "       ...,\n",
       "       [0., 1., 0.],\n",
       "       [0., 1., 0.],\n",
       "       [0., 0., 1.]])"
      ]
     },
     "execution_count": 11,
     "metadata": {},
     "output_type": "execute_result"
    }
   ],
   "source": [
    "from sklearn.preprocessing import OneHotEncoder\n",
    "\n",
    "# Create a OneHotEncoder for the Department column\n",
    "department_encoder = OneHotEncoder(sparse_output=False)\n",
    "\n",
    "# Fit the encoder to the training data\n",
    "department_encoder.fit(y_train[['Department']])\n",
    "department_columns = department_encoder.get_feature_names_out(['Department'])\n",
    "\n",
    "# Create two new variables by applying the encoder\n",
    "# to the training and testing data\n",
    "y_train_dept_encoded = department_encoder.transform(y_train[['Department']])\n",
    "y_test_dept_encoded = department_encoder.transform(y_test[['Department']])\n",
    "\n",
    "y_train_dept_encoded"
   ]
  },
  {
   "cell_type": "code",
   "execution_count": 12,
   "metadata": {},
   "outputs": [
    {
     "data": {
      "text/plain": [
       "array(['Department_Human Resources', 'Department_Research & Development',\n",
       "       'Department_Sales'], dtype=object)"
      ]
     },
     "execution_count": 12,
     "metadata": {},
     "output_type": "execute_result"
    }
   ],
   "source": [
    "department_columns"
   ]
  },
  {
   "cell_type": "code",
   "execution_count": 13,
   "metadata": {
    "colab": {
     "base_uri": "https://localhost:8080/"
    },
    "executionInfo": {
     "elapsed": 5,
     "status": "ok",
     "timestamp": 1730699227257,
     "user": {
      "displayName": "Alexander Booth",
      "userId": "02269714993535573104"
     },
     "user_tz": 360
    },
    "id": "-G4DSpvFRrk4",
    "outputId": "1821049e-a4f0-437f-b8a7-e415431fbdb0"
   },
   "outputs": [
    {
     "data": {
      "text/plain": [
       "array([[1., 0.],\n",
       "       [1., 0.],\n",
       "       [1., 0.],\n",
       "       ...,\n",
       "       [0., 1.],\n",
       "       [1., 0.],\n",
       "       [1., 0.]])"
      ]
     },
     "execution_count": 13,
     "metadata": {},
     "output_type": "execute_result"
    }
   ],
   "source": [
    "# Create a OneHotEncoder for the Attrition column\n",
    "attrition_encoder = OneHotEncoder(sparse_output=False)\n",
    "\n",
    "# Fit the encoder to the training data\n",
    "attrition_encoder.fit(y_train[['Attrition']])\n",
    "attrition_columns = attrition_encoder.get_feature_names_out(['Attrition'])\n",
    "\n",
    "# Create two new variables by applying the encoder\n",
    "# to the training and testing data\n",
    "y_train_attr_encoded = attrition_encoder.transform(y_train[['Attrition']])\n",
    "y_test_attr_encoded = attrition_encoder.transform(y_test[['Attrition']])\n",
    "\n",
    "y_train_attr_encoded"
   ]
  },
  {
   "cell_type": "code",
   "execution_count": 14,
   "metadata": {},
   "outputs": [
    {
     "data": {
      "text/plain": [
       "array(['Attrition_No', 'Attrition_Yes'], dtype=object)"
      ]
     },
     "execution_count": 14,
     "metadata": {},
     "output_type": "execute_result"
    }
   ],
   "source": [
    "attrition_columns"
   ]
  },
  {
   "cell_type": "markdown",
   "metadata": {
    "id": "ykNmu_WWGc3T"
   },
   "source": [
    "## Part 2: Create, Compile, and Train the Model"
   ]
  },
  {
   "cell_type": "code",
   "execution_count": 15,
   "metadata": {
    "executionInfo": {
     "elapsed": 309,
     "status": "ok",
     "timestamp": 1730699227563,
     "user": {
      "displayName": "Alexander Booth",
      "userId": "02269714993535573104"
     },
     "user_tz": 360
    },
    "id": "WUptZqmSGc3T"
   },
   "outputs": [],
   "source": [
    "# Find the number of columns in the X training data.\n",
    "X_train_scaled.shape\n",
    "\n",
    "# Create the input layer\n",
    "input_layer = layers.Input(shape=(X_train_scaled.shape[1],),name='input_features')\n",
    "# Create the first hidden layer\n",
    "hidden_layer_1 = layers.Dense(64, activation='relu', name='hidden_layer_1')(input_layer)\n",
    "# Create at least two shared layers\n",
    "shared_layer1 = layers.Dense(64, activation='relu', name='shared_layer_1')(hidden_layer_1)\n",
    "shared_layer2 = layers.Dense(128, activation='relu', name='shared_layer_2')(shared_layer1)"
   ]
  },
  {
   "cell_type": "code",
   "execution_count": 16,
   "metadata": {
    "executionInfo": {
     "elapsed": 118,
     "status": "ok",
     "timestamp": 1730699227678,
     "user": {
      "displayName": "Alexander Booth",
      "userId": "02269714993535573104"
     },
     "user_tz": 360
    },
    "id": "JukjTm2yTEqd"
   },
   "outputs": [],
   "source": [
    "# Create a branch for Department\n",
    "# with a hidden layer and an output layer\n",
    "\n",
    "# Create the hidden layer\n",
    "dept_hidden_layer = layers.Dense(32, activation='relu', name='dept_hidden_layer')(shared_layer2)\n",
    "\n",
    "# Create the output layer\n",
    "department_output = layers.Dense(3, activation='softmax', name='department_output')(dept_hidden_layer)"
   ]
  },
  {
   "cell_type": "code",
   "execution_count": 17,
   "metadata": {
    "executionInfo": {
     "elapsed": 9,
     "status": "ok",
     "timestamp": 1730699227679,
     "user": {
      "displayName": "Alexander Booth",
      "userId": "02269714993535573104"
     },
     "user_tz": 360
    },
    "id": "9OqhUiOJUBkR"
   },
   "outputs": [],
   "source": [
    "# Create a branch for Attrition\n",
    "# with a hidden layer and an output layer\n",
    "\n",
    "# Create the hidden layer\n",
    "attr_hidden_layer = layers.Dense(32, activation='relu', name='attr_hidden_layer')(shared_layer2)\n",
    "\n",
    "# Create the output layer\n",
    "attrition_output = layers.Dense(2, activation='sigmoid', name='attrition_output')(attr_hidden_layer)"
   ]
  },
  {
   "cell_type": "code",
   "execution_count": 23,
   "metadata": {
    "colab": {
     "base_uri": "https://localhost:8080/",
     "height": 361
    },
    "executionInfo": {
     "elapsed": 108,
     "status": "ok",
     "timestamp": 1730699227780,
     "user": {
      "displayName": "Alexander Booth",
      "userId": "02269714993535573104"
     },
     "user_tz": 360
    },
    "id": "twmuejdxGc3T",
    "outputId": "dd9ce242-6a66-4709-ba13-4b13551c22e0"
   },
   "outputs": [
    {
     "data": {
      "text/html": [
       "<pre style=\"white-space:pre;overflow-x:auto;line-height:normal;font-family:Menlo,'DejaVu Sans Mono',consolas,'Courier New',monospace\"><span style=\"font-weight: bold\">Model: \"functional_2\"</span>\n",
       "</pre>\n"
      ],
      "text/plain": [
       "\u001b[1mModel: \"functional_2\"\u001b[0m\n"
      ]
     },
     "metadata": {},
     "output_type": "display_data"
    },
    {
     "data": {
      "text/html": [
       "<pre style=\"white-space:pre;overflow-x:auto;line-height:normal;font-family:Menlo,'DejaVu Sans Mono',consolas,'Courier New',monospace\">┏━━━━━━━━━━━━━━━━━━━━━┳━━━━━━━━━━━━━━━━━━━┳━━━━━━━━━━━━┳━━━━━━━━━━━━━━━━━━━┓\n",
       "┃<span style=\"font-weight: bold\"> Layer (type)        </span>┃<span style=\"font-weight: bold\"> Output Shape      </span>┃<span style=\"font-weight: bold\">    Param # </span>┃<span style=\"font-weight: bold\"> Connected to      </span>┃\n",
       "┡━━━━━━━━━━━━━━━━━━━━━╇━━━━━━━━━━━━━━━━━━━╇━━━━━━━━━━━━╇━━━━━━━━━━━━━━━━━━━┩\n",
       "│ input_features      │ (<span style=\"color: #00d7ff; text-decoration-color: #00d7ff\">None</span>, <span style=\"color: #00af00; text-decoration-color: #00af00\">10</span>)        │          <span style=\"color: #00af00; text-decoration-color: #00af00\">0</span> │ -                 │\n",
       "│ (<span style=\"color: #0087ff; text-decoration-color: #0087ff\">InputLayer</span>)        │                   │            │                   │\n",
       "├─────────────────────┼───────────────────┼────────────┼───────────────────┤\n",
       "│ hidden_layer_1      │ (<span style=\"color: #00d7ff; text-decoration-color: #00d7ff\">None</span>, <span style=\"color: #00af00; text-decoration-color: #00af00\">64</span>)        │        <span style=\"color: #00af00; text-decoration-color: #00af00\">704</span> │ input_features[<span style=\"color: #00af00; text-decoration-color: #00af00\">0</span>… │\n",
       "│ (<span style=\"color: #0087ff; text-decoration-color: #0087ff\">Dense</span>)             │                   │            │                   │\n",
       "├─────────────────────┼───────────────────┼────────────┼───────────────────┤\n",
       "│ shared_layer_1      │ (<span style=\"color: #00d7ff; text-decoration-color: #00d7ff\">None</span>, <span style=\"color: #00af00; text-decoration-color: #00af00\">64</span>)        │      <span style=\"color: #00af00; text-decoration-color: #00af00\">4,160</span> │ hidden_layer_1[<span style=\"color: #00af00; text-decoration-color: #00af00\">0</span>… │\n",
       "│ (<span style=\"color: #0087ff; text-decoration-color: #0087ff\">Dense</span>)             │                   │            │                   │\n",
       "├─────────────────────┼───────────────────┼────────────┼───────────────────┤\n",
       "│ shared_layer_2      │ (<span style=\"color: #00d7ff; text-decoration-color: #00d7ff\">None</span>, <span style=\"color: #00af00; text-decoration-color: #00af00\">128</span>)       │      <span style=\"color: #00af00; text-decoration-color: #00af00\">8,320</span> │ shared_layer_1[<span style=\"color: #00af00; text-decoration-color: #00af00\">0</span>… │\n",
       "│ (<span style=\"color: #0087ff; text-decoration-color: #0087ff\">Dense</span>)             │                   │            │                   │\n",
       "├─────────────────────┼───────────────────┼────────────┼───────────────────┤\n",
       "│ dept_hidden_layer   │ (<span style=\"color: #00d7ff; text-decoration-color: #00d7ff\">None</span>, <span style=\"color: #00af00; text-decoration-color: #00af00\">32</span>)        │      <span style=\"color: #00af00; text-decoration-color: #00af00\">4,128</span> │ shared_layer_2[<span style=\"color: #00af00; text-decoration-color: #00af00\">0</span>… │\n",
       "│ (<span style=\"color: #0087ff; text-decoration-color: #0087ff\">Dense</span>)             │                   │            │                   │\n",
       "├─────────────────────┼───────────────────┼────────────┼───────────────────┤\n",
       "│ attr_hidden_layer   │ (<span style=\"color: #00d7ff; text-decoration-color: #00d7ff\">None</span>, <span style=\"color: #00af00; text-decoration-color: #00af00\">32</span>)        │      <span style=\"color: #00af00; text-decoration-color: #00af00\">4,128</span> │ shared_layer_2[<span style=\"color: #00af00; text-decoration-color: #00af00\">0</span>… │\n",
       "│ (<span style=\"color: #0087ff; text-decoration-color: #0087ff\">Dense</span>)             │                   │            │                   │\n",
       "├─────────────────────┼───────────────────┼────────────┼───────────────────┤\n",
       "│ department_output   │ (<span style=\"color: #00d7ff; text-decoration-color: #00d7ff\">None</span>, <span style=\"color: #00af00; text-decoration-color: #00af00\">3</span>)         │         <span style=\"color: #00af00; text-decoration-color: #00af00\">99</span> │ dept_hidden_laye… │\n",
       "│ (<span style=\"color: #0087ff; text-decoration-color: #0087ff\">Dense</span>)             │                   │            │                   │\n",
       "├─────────────────────┼───────────────────┼────────────┼───────────────────┤\n",
       "│ attrition_output    │ (<span style=\"color: #00d7ff; text-decoration-color: #00d7ff\">None</span>, <span style=\"color: #00af00; text-decoration-color: #00af00\">2</span>)         │         <span style=\"color: #00af00; text-decoration-color: #00af00\">66</span> │ attr_hidden_laye… │\n",
       "│ (<span style=\"color: #0087ff; text-decoration-color: #0087ff\">Dense</span>)             │                   │            │                   │\n",
       "└─────────────────────┴───────────────────┴────────────┴───────────────────┘\n",
       "</pre>\n"
      ],
      "text/plain": [
       "┏━━━━━━━━━━━━━━━━━━━━━┳━━━━━━━━━━━━━━━━━━━┳━━━━━━━━━━━━┳━━━━━━━━━━━━━━━━━━━┓\n",
       "┃\u001b[1m \u001b[0m\u001b[1mLayer (type)       \u001b[0m\u001b[1m \u001b[0m┃\u001b[1m \u001b[0m\u001b[1mOutput Shape     \u001b[0m\u001b[1m \u001b[0m┃\u001b[1m \u001b[0m\u001b[1m   Param #\u001b[0m\u001b[1m \u001b[0m┃\u001b[1m \u001b[0m\u001b[1mConnected to     \u001b[0m\u001b[1m \u001b[0m┃\n",
       "┡━━━━━━━━━━━━━━━━━━━━━╇━━━━━━━━━━━━━━━━━━━╇━━━━━━━━━━━━╇━━━━━━━━━━━━━━━━━━━┩\n",
       "│ input_features      │ (\u001b[38;5;45mNone\u001b[0m, \u001b[38;5;34m10\u001b[0m)        │          \u001b[38;5;34m0\u001b[0m │ -                 │\n",
       "│ (\u001b[38;5;33mInputLayer\u001b[0m)        │                   │            │                   │\n",
       "├─────────────────────┼───────────────────┼────────────┼───────────────────┤\n",
       "│ hidden_layer_1      │ (\u001b[38;5;45mNone\u001b[0m, \u001b[38;5;34m64\u001b[0m)        │        \u001b[38;5;34m704\u001b[0m │ input_features[\u001b[38;5;34m0\u001b[0m… │\n",
       "│ (\u001b[38;5;33mDense\u001b[0m)             │                   │            │                   │\n",
       "├─────────────────────┼───────────────────┼────────────┼───────────────────┤\n",
       "│ shared_layer_1      │ (\u001b[38;5;45mNone\u001b[0m, \u001b[38;5;34m64\u001b[0m)        │      \u001b[38;5;34m4,160\u001b[0m │ hidden_layer_1[\u001b[38;5;34m0\u001b[0m… │\n",
       "│ (\u001b[38;5;33mDense\u001b[0m)             │                   │            │                   │\n",
       "├─────────────────────┼───────────────────┼────────────┼───────────────────┤\n",
       "│ shared_layer_2      │ (\u001b[38;5;45mNone\u001b[0m, \u001b[38;5;34m128\u001b[0m)       │      \u001b[38;5;34m8,320\u001b[0m │ shared_layer_1[\u001b[38;5;34m0\u001b[0m… │\n",
       "│ (\u001b[38;5;33mDense\u001b[0m)             │                   │            │                   │\n",
       "├─────────────────────┼───────────────────┼────────────┼───────────────────┤\n",
       "│ dept_hidden_layer   │ (\u001b[38;5;45mNone\u001b[0m, \u001b[38;5;34m32\u001b[0m)        │      \u001b[38;5;34m4,128\u001b[0m │ shared_layer_2[\u001b[38;5;34m0\u001b[0m… │\n",
       "│ (\u001b[38;5;33mDense\u001b[0m)             │                   │            │                   │\n",
       "├─────────────────────┼───────────────────┼────────────┼───────────────────┤\n",
       "│ attr_hidden_layer   │ (\u001b[38;5;45mNone\u001b[0m, \u001b[38;5;34m32\u001b[0m)        │      \u001b[38;5;34m4,128\u001b[0m │ shared_layer_2[\u001b[38;5;34m0\u001b[0m… │\n",
       "│ (\u001b[38;5;33mDense\u001b[0m)             │                   │            │                   │\n",
       "├─────────────────────┼───────────────────┼────────────┼───────────────────┤\n",
       "│ department_output   │ (\u001b[38;5;45mNone\u001b[0m, \u001b[38;5;34m3\u001b[0m)         │         \u001b[38;5;34m99\u001b[0m │ dept_hidden_laye… │\n",
       "│ (\u001b[38;5;33mDense\u001b[0m)             │                   │            │                   │\n",
       "├─────────────────────┼───────────────────┼────────────┼───────────────────┤\n",
       "│ attrition_output    │ (\u001b[38;5;45mNone\u001b[0m, \u001b[38;5;34m2\u001b[0m)         │         \u001b[38;5;34m66\u001b[0m │ attr_hidden_laye… │\n",
       "│ (\u001b[38;5;33mDense\u001b[0m)             │                   │            │                   │\n",
       "└─────────────────────┴───────────────────┴────────────┴───────────────────┘\n"
      ]
     },
     "metadata": {},
     "output_type": "display_data"
    },
    {
     "data": {
      "text/html": [
       "<pre style=\"white-space:pre;overflow-x:auto;line-height:normal;font-family:Menlo,'DejaVu Sans Mono',consolas,'Courier New',monospace\"><span style=\"font-weight: bold\"> Total params: </span><span style=\"color: #00af00; text-decoration-color: #00af00\">21,605</span> (84.39 KB)\n",
       "</pre>\n"
      ],
      "text/plain": [
       "\u001b[1m Total params: \u001b[0m\u001b[38;5;34m21,605\u001b[0m (84.39 KB)\n"
      ]
     },
     "metadata": {},
     "output_type": "display_data"
    },
    {
     "data": {
      "text/html": [
       "<pre style=\"white-space:pre;overflow-x:auto;line-height:normal;font-family:Menlo,'DejaVu Sans Mono',consolas,'Courier New',monospace\"><span style=\"font-weight: bold\"> Trainable params: </span><span style=\"color: #00af00; text-decoration-color: #00af00\">21,605</span> (84.39 KB)\n",
       "</pre>\n"
      ],
      "text/plain": [
       "\u001b[1m Trainable params: \u001b[0m\u001b[38;5;34m21,605\u001b[0m (84.39 KB)\n"
      ]
     },
     "metadata": {},
     "output_type": "display_data"
    },
    {
     "data": {
      "text/html": [
       "<pre style=\"white-space:pre;overflow-x:auto;line-height:normal;font-family:Menlo,'DejaVu Sans Mono',consolas,'Courier New',monospace\"><span style=\"font-weight: bold\"> Non-trainable params: </span><span style=\"color: #00af00; text-decoration-color: #00af00\">0</span> (0.00 B)\n",
       "</pre>\n"
      ],
      "text/plain": [
       "\u001b[1m Non-trainable params: \u001b[0m\u001b[38;5;34m0\u001b[0m (0.00 B)\n"
      ]
     },
     "metadata": {},
     "output_type": "display_data"
    }
   ],
   "source": [
    "# Create the model\n",
    "model = Model(inputs=input_layer, outputs=[department_output, attrition_output])\n",
    "\n",
    "# Compile the model\n",
    "model.compile(optimizer='adam',\n",
    "              loss={'department_output': 'categorical_crossentropy', 'attrition_output': 'binary_crossentropy'},\n",
    "              metrics={'department_output': 'accuracy', 'attrition_output': 'accuracy'})\n",
    "\n",
    "# Summarize the model\n",
    "model.summary()"
   ]
  },
  {
   "cell_type": "code",
   "execution_count": 24,
   "metadata": {
    "colab": {
     "base_uri": "https://localhost:8080/"
    },
    "executionInfo": {
     "elapsed": 31740,
     "status": "ok",
     "timestamp": 1730699259517,
     "user": {
      "displayName": "Alexander Booth",
      "userId": "02269714993535573104"
     },
     "user_tz": 360
    },
    "id": "c8oGy0dpGc3U",
    "outputId": "f48a5292-426f-4715-ea6e-381a8e9d5542"
   },
   "outputs": [
    {
     "name": "stdout",
     "output_type": "stream",
     "text": [
      "Epoch 1/100\n",
      "\u001b[1m37/37\u001b[0m \u001b[32m━━━━━━━━━━━━━━━━━━━━\u001b[0m\u001b[37m\u001b[0m \u001b[1m2s\u001b[0m 12ms/step - attrition_output_accuracy: 0.9913 - attrition_output_loss: 0.0185 - department_output_accuracy: 0.9786 - department_output_loss: 0.0588 - loss: 0.0773 - val_attrition_output_accuracy: 0.8231 - val_attrition_output_loss: 1.3610 - val_department_output_accuracy: 0.5578 - val_department_output_loss: 3.5236 - val_loss: 5.2054\n",
      "Epoch 2/100\n",
      "\u001b[1m37/37\u001b[0m \u001b[32m━━━━━━━━━━━━━━━━━━━━\u001b[0m\u001b[37m\u001b[0m \u001b[1m0s\u001b[0m 4ms/step - attrition_output_accuracy: 0.9945 - attrition_output_loss: 0.0184 - department_output_accuracy: 0.9914 - department_output_loss: 0.0241 - loss: 0.0424 - val_attrition_output_accuracy: 0.8231 - val_attrition_output_loss: 1.3114 - val_department_output_accuracy: 0.5612 - val_department_output_loss: 3.6157 - val_loss: 5.2789\n",
      "Epoch 3/100\n",
      "\u001b[1m37/37\u001b[0m \u001b[32m━━━━━━━━━━━━━━━━━━━━\u001b[0m\u001b[37m\u001b[0m \u001b[1m0s\u001b[0m 4ms/step - attrition_output_accuracy: 0.9983 - attrition_output_loss: 0.0100 - department_output_accuracy: 0.9918 - department_output_loss: 0.0249 - loss: 0.0350 - val_attrition_output_accuracy: 0.8333 - val_attrition_output_loss: 1.4242 - val_department_output_accuracy: 0.5646 - val_department_output_loss: 3.7762 - val_loss: 5.4100\n",
      "Epoch 4/100\n",
      "\u001b[1m37/37\u001b[0m \u001b[32m━━━━━━━━━━━━━━━━━━━━\u001b[0m\u001b[37m\u001b[0m \u001b[1m0s\u001b[0m 4ms/step - attrition_output_accuracy: 0.9917 - attrition_output_loss: 0.0229 - department_output_accuracy: 0.9965 - department_output_loss: 0.0145 - loss: 0.0374 - val_attrition_output_accuracy: 0.8163 - val_attrition_output_loss: 1.4461 - val_department_output_accuracy: 0.5544 - val_department_output_loss: 3.8175 - val_loss: 5.5391\n",
      "Epoch 5/100\n",
      "\u001b[1m37/37\u001b[0m \u001b[32m━━━━━━━━━━━━━━━━━━━━\u001b[0m\u001b[37m\u001b[0m \u001b[1m0s\u001b[0m 4ms/step - attrition_output_accuracy: 0.9940 - attrition_output_loss: 0.0162 - department_output_accuracy: 0.9934 - department_output_loss: 0.0241 - loss: 0.0403 - val_attrition_output_accuracy: 0.8367 - val_attrition_output_loss: 1.4201 - val_department_output_accuracy: 0.5544 - val_department_output_loss: 3.9134 - val_loss: 5.6384\n",
      "Epoch 6/100\n",
      "\u001b[1m37/37\u001b[0m \u001b[32m━━━━━━━━━━━━━━━━━━━━\u001b[0m\u001b[37m\u001b[0m \u001b[1m0s\u001b[0m 4ms/step - attrition_output_accuracy: 0.9966 - attrition_output_loss: 0.0138 - department_output_accuracy: 0.9908 - department_output_loss: 0.0380 - loss: 0.0518 - val_attrition_output_accuracy: 0.8537 - val_attrition_output_loss: 1.5432 - val_department_output_accuracy: 0.5680 - val_department_output_loss: 3.8243 - val_loss: 5.7522\n",
      "Epoch 7/100\n",
      "\u001b[1m37/37\u001b[0m \u001b[32m━━━━━━━━━━━━━━━━━━━━\u001b[0m\u001b[37m\u001b[0m \u001b[1m0s\u001b[0m 4ms/step - attrition_output_accuracy: 0.9827 - attrition_output_loss: 0.0840 - department_output_accuracy: 0.9867 - department_output_loss: 0.0461 - loss: 0.1301 - val_attrition_output_accuracy: 0.8435 - val_attrition_output_loss: 1.5253 - val_department_output_accuracy: 0.5578 - val_department_output_loss: 3.9474 - val_loss: 5.7247\n",
      "Epoch 8/100\n",
      "\u001b[1m37/37\u001b[0m \u001b[32m━━━━━━━━━━━━━━━━━━━━\u001b[0m\u001b[37m\u001b[0m \u001b[1m0s\u001b[0m 4ms/step - attrition_output_accuracy: 0.9868 - attrition_output_loss: 0.0293 - department_output_accuracy: 0.9871 - department_output_loss: 0.0499 - loss: 0.0793 - val_attrition_output_accuracy: 0.7993 - val_attrition_output_loss: 1.4087 - val_department_output_accuracy: 0.5612 - val_department_output_loss: 3.8808 - val_loss: 5.5999\n",
      "Epoch 9/100\n",
      "\u001b[1m37/37\u001b[0m \u001b[32m━━━━━━━━━━━━━━━━━━━━\u001b[0m\u001b[37m\u001b[0m \u001b[1m0s\u001b[0m 4ms/step - attrition_output_accuracy: 0.9982 - attrition_output_loss: 0.0122 - department_output_accuracy: 0.9869 - department_output_loss: 0.0379 - loss: 0.0499 - val_attrition_output_accuracy: 0.8299 - val_attrition_output_loss: 1.4529 - val_department_output_accuracy: 0.5340 - val_department_output_loss: 4.0994 - val_loss: 5.9213\n",
      "Epoch 10/100\n",
      "\u001b[1m37/37\u001b[0m \u001b[32m━━━━━━━━━━━━━━━━━━━━\u001b[0m\u001b[37m\u001b[0m \u001b[1m0s\u001b[0m 4ms/step - attrition_output_accuracy: 0.9917 - attrition_output_loss: 0.0218 - department_output_accuracy: 0.9690 - department_output_loss: 0.0655 - loss: 0.0873 - val_attrition_output_accuracy: 0.8367 - val_attrition_output_loss: 1.4037 - val_department_output_accuracy: 0.5374 - val_department_output_loss: 3.9428 - val_loss: 5.6561\n",
      "Epoch 11/100\n",
      "\u001b[1m37/37\u001b[0m \u001b[32m━━━━━━━━━━━━━━━━━━━━\u001b[0m\u001b[37m\u001b[0m \u001b[1m0s\u001b[0m 6ms/step - attrition_output_accuracy: 0.9987 - attrition_output_loss: 0.0118 - department_output_accuracy: 0.9778 - department_output_loss: 0.0768 - loss: 0.0885 - val_attrition_output_accuracy: 0.8401 - val_attrition_output_loss: 1.4419 - val_department_output_accuracy: 0.5816 - val_department_output_loss: 4.1881 - val_loss: 5.8840\n",
      "Epoch 12/100\n",
      "\u001b[1m37/37\u001b[0m \u001b[32m━━━━━━━━━━━━━━━━━━━━\u001b[0m\u001b[37m\u001b[0m \u001b[1m0s\u001b[0m 5ms/step - attrition_output_accuracy: 0.9987 - attrition_output_loss: 0.0104 - department_output_accuracy: 0.9750 - department_output_loss: 0.0679 - loss: 0.0783 - val_attrition_output_accuracy: 0.8231 - val_attrition_output_loss: 1.4121 - val_department_output_accuracy: 0.5748 - val_department_output_loss: 3.8640 - val_loss: 5.4851\n",
      "Epoch 13/100\n",
      "\u001b[1m37/37\u001b[0m \u001b[32m━━━━━━━━━━━━━━━━━━━━\u001b[0m\u001b[37m\u001b[0m \u001b[1m0s\u001b[0m 6ms/step - attrition_output_accuracy: 0.9965 - attrition_output_loss: 0.0121 - department_output_accuracy: 0.9809 - department_output_loss: 0.0556 - loss: 0.0676 - val_attrition_output_accuracy: 0.8299 - val_attrition_output_loss: 1.4558 - val_department_output_accuracy: 0.5782 - val_department_output_loss: 3.7573 - val_loss: 5.4869\n",
      "Epoch 14/100\n",
      "\u001b[1m37/37\u001b[0m \u001b[32m━━━━━━━━━━━━━━━━━━━━\u001b[0m\u001b[37m\u001b[0m \u001b[1m0s\u001b[0m 4ms/step - attrition_output_accuracy: 0.9996 - attrition_output_loss: 0.0047 - department_output_accuracy: 0.9923 - department_output_loss: 0.0245 - loss: 0.0292 - val_attrition_output_accuracy: 0.8163 - val_attrition_output_loss: 1.4926 - val_department_output_accuracy: 0.5272 - val_department_output_loss: 4.0309 - val_loss: 5.7648\n",
      "Epoch 15/100\n",
      "\u001b[1m37/37\u001b[0m \u001b[32m━━━━━━━━━━━━━━━━━━━━\u001b[0m\u001b[37m\u001b[0m \u001b[1m0s\u001b[0m 4ms/step - attrition_output_accuracy: 0.9996 - attrition_output_loss: 0.0059 - department_output_accuracy: 0.9964 - department_output_loss: 0.0200 - loss: 0.0258 - val_attrition_output_accuracy: 0.8469 - val_attrition_output_loss: 1.5119 - val_department_output_accuracy: 0.5680 - val_department_output_loss: 3.9604 - val_loss: 5.7279\n",
      "Epoch 16/100\n",
      "\u001b[1m37/37\u001b[0m \u001b[32m━━━━━━━━━━━━━━━━━━━━\u001b[0m\u001b[37m\u001b[0m \u001b[1m0s\u001b[0m 4ms/step - attrition_output_accuracy: 0.9999 - attrition_output_loss: 0.0068 - department_output_accuracy: 0.9966 - department_output_loss: 0.0117 - loss: 0.0185 - val_attrition_output_accuracy: 0.8299 - val_attrition_output_loss: 1.5001 - val_department_output_accuracy: 0.5782 - val_department_output_loss: 4.0218 - val_loss: 5.7743\n",
      "Epoch 17/100\n",
      "\u001b[1m37/37\u001b[0m \u001b[32m━━━━━━━━━━━━━━━━━━━━\u001b[0m\u001b[37m\u001b[0m \u001b[1m0s\u001b[0m 4ms/step - attrition_output_accuracy: 0.9961 - attrition_output_loss: 0.0112 - department_output_accuracy: 0.9986 - department_output_loss: 0.0094 - loss: 0.0206 - val_attrition_output_accuracy: 0.8265 - val_attrition_output_loss: 1.5256 - val_department_output_accuracy: 0.5748 - val_department_output_loss: 4.0972 - val_loss: 5.8931\n",
      "Epoch 18/100\n",
      "\u001b[1m37/37\u001b[0m \u001b[32m━━━━━━━━━━━━━━━━━━━━\u001b[0m\u001b[37m\u001b[0m \u001b[1m0s\u001b[0m 4ms/step - attrition_output_accuracy: 0.9993 - attrition_output_loss: 0.0055 - department_output_accuracy: 0.9948 - department_output_loss: 0.0129 - loss: 0.0185 - val_attrition_output_accuracy: 0.8299 - val_attrition_output_loss: 1.5335 - val_department_output_accuracy: 0.5578 - val_department_output_loss: 4.1167 - val_loss: 5.9742\n",
      "Epoch 19/100\n",
      "\u001b[1m37/37\u001b[0m \u001b[32m━━━━━━━━━━━━━━━━━━━━\u001b[0m\u001b[37m\u001b[0m \u001b[1m0s\u001b[0m 4ms/step - attrition_output_accuracy: 0.9991 - attrition_output_loss: 0.0043 - department_output_accuracy: 0.9968 - department_output_loss: 0.0104 - loss: 0.0147 - val_attrition_output_accuracy: 0.8401 - val_attrition_output_loss: 1.5460 - val_department_output_accuracy: 0.5782 - val_department_output_loss: 4.1130 - val_loss: 5.9436\n",
      "Epoch 20/100\n",
      "\u001b[1m37/37\u001b[0m \u001b[32m━━━━━━━━━━━━━━━━━━━━\u001b[0m\u001b[37m\u001b[0m \u001b[1m0s\u001b[0m 4ms/step - attrition_output_accuracy: 0.9983 - attrition_output_loss: 0.0046 - department_output_accuracy: 0.9954 - department_output_loss: 0.0120 - loss: 0.0166 - val_attrition_output_accuracy: 0.8163 - val_attrition_output_loss: 1.5508 - val_department_output_accuracy: 0.5850 - val_department_output_loss: 4.1647 - val_loss: 5.9862\n",
      "Epoch 21/100\n",
      "\u001b[1m37/37\u001b[0m \u001b[32m━━━━━━━━━━━━━━━━━━━━\u001b[0m\u001b[37m\u001b[0m \u001b[1m0s\u001b[0m 4ms/step - attrition_output_accuracy: 0.9994 - attrition_output_loss: 0.0046 - department_output_accuracy: 0.9942 - department_output_loss: 0.0197 - loss: 0.0243 - val_attrition_output_accuracy: 0.8231 - val_attrition_output_loss: 1.5878 - val_department_output_accuracy: 0.5714 - val_department_output_loss: 4.2198 - val_loss: 6.1288\n",
      "Epoch 22/100\n",
      "\u001b[1m37/37\u001b[0m \u001b[32m━━━━━━━━━━━━━━━━━━━━\u001b[0m\u001b[37m\u001b[0m \u001b[1m0s\u001b[0m 4ms/step - attrition_output_accuracy: 0.9993 - attrition_output_loss: 0.0041 - department_output_accuracy: 0.9979 - department_output_loss: 0.0105 - loss: 0.0145 - val_attrition_output_accuracy: 0.8367 - val_attrition_output_loss: 1.5748 - val_department_output_accuracy: 0.5714 - val_department_output_loss: 4.2024 - val_loss: 6.0496\n",
      "Epoch 23/100\n",
      "\u001b[1m37/37\u001b[0m \u001b[32m━━━━━━━━━━━━━━━━━━━━\u001b[0m\u001b[37m\u001b[0m \u001b[1m0s\u001b[0m 4ms/step - attrition_output_accuracy: 0.9952 - attrition_output_loss: 0.0102 - department_output_accuracy: 0.9990 - department_output_loss: 0.0081 - loss: 0.0183 - val_attrition_output_accuracy: 0.8401 - val_attrition_output_loss: 1.6409 - val_department_output_accuracy: 0.5884 - val_department_output_loss: 4.3080 - val_loss: 6.2397\n",
      "Epoch 24/100\n",
      "\u001b[1m37/37\u001b[0m \u001b[32m━━━━━━━━━━━━━━━━━━━━\u001b[0m\u001b[37m\u001b[0m \u001b[1m0s\u001b[0m 4ms/step - attrition_output_accuracy: 0.9937 - attrition_output_loss: 0.0176 - department_output_accuracy: 0.9940 - department_output_loss: 0.0166 - loss: 0.0342 - val_attrition_output_accuracy: 0.8333 - val_attrition_output_loss: 1.6172 - val_department_output_accuracy: 0.5476 - val_department_output_loss: 4.1820 - val_loss: 6.1121\n",
      "Epoch 25/100\n",
      "\u001b[1m37/37\u001b[0m \u001b[32m━━━━━━━━━━━━━━━━━━━━\u001b[0m\u001b[37m\u001b[0m \u001b[1m0s\u001b[0m 4ms/step - attrition_output_accuracy: 0.9952 - attrition_output_loss: 0.0222 - department_output_accuracy: 0.9967 - department_output_loss: 0.0118 - loss: 0.0340 - val_attrition_output_accuracy: 0.8231 - val_attrition_output_loss: 1.5491 - val_department_output_accuracy: 0.5782 - val_department_output_loss: 4.2152 - val_loss: 6.0626\n",
      "Epoch 26/100\n",
      "\u001b[1m37/37\u001b[0m \u001b[32m━━━━━━━━━━━━━━━━━━━━\u001b[0m\u001b[37m\u001b[0m \u001b[1m0s\u001b[0m 4ms/step - attrition_output_accuracy: 0.9979 - attrition_output_loss: 0.0086 - department_output_accuracy: 0.9979 - department_output_loss: 0.0131 - loss: 0.0216 - val_attrition_output_accuracy: 0.8299 - val_attrition_output_loss: 1.6037 - val_department_output_accuracy: 0.5850 - val_department_output_loss: 4.1429 - val_loss: 6.1224\n",
      "Epoch 27/100\n",
      "\u001b[1m37/37\u001b[0m \u001b[32m━━━━━━━━━━━━━━━━━━━━\u001b[0m\u001b[37m\u001b[0m \u001b[1m0s\u001b[0m 4ms/step - attrition_output_accuracy: 0.9984 - attrition_output_loss: 0.0063 - department_output_accuracy: 0.9966 - department_output_loss: 0.0166 - loss: 0.0229 - val_attrition_output_accuracy: 0.8265 - val_attrition_output_loss: 1.6155 - val_department_output_accuracy: 0.5544 - val_department_output_loss: 4.2761 - val_loss: 6.2193\n",
      "Epoch 28/100\n",
      "\u001b[1m37/37\u001b[0m \u001b[32m━━━━━━━━━━━━━━━━━━━━\u001b[0m\u001b[37m\u001b[0m \u001b[1m0s\u001b[0m 4ms/step - attrition_output_accuracy: 0.9996 - attrition_output_loss: 0.0057 - department_output_accuracy: 0.9956 - department_output_loss: 0.0145 - loss: 0.0203 - val_attrition_output_accuracy: 0.8163 - val_attrition_output_loss: 1.5953 - val_department_output_accuracy: 0.5782 - val_department_output_loss: 4.3566 - val_loss: 6.1885\n",
      "Epoch 29/100\n",
      "\u001b[1m37/37\u001b[0m \u001b[32m━━━━━━━━━━━━━━━━━━━━\u001b[0m\u001b[37m\u001b[0m \u001b[1m0s\u001b[0m 4ms/step - attrition_output_accuracy: 0.9989 - attrition_output_loss: 0.0074 - department_output_accuracy: 0.9882 - department_output_loss: 0.0337 - loss: 0.0411 - val_attrition_output_accuracy: 0.8197 - val_attrition_output_loss: 1.6011 - val_department_output_accuracy: 0.5884 - val_department_output_loss: 4.2878 - val_loss: 6.1544\n",
      "Epoch 30/100\n",
      "\u001b[1m37/37\u001b[0m \u001b[32m━━━━━━━━━━━━━━━━━━━━\u001b[0m\u001b[37m\u001b[0m \u001b[1m0s\u001b[0m 6ms/step - attrition_output_accuracy: 0.9989 - attrition_output_loss: 0.0062 - department_output_accuracy: 0.9906 - department_output_loss: 0.0344 - loss: 0.0405 - val_attrition_output_accuracy: 0.8129 - val_attrition_output_loss: 1.7012 - val_department_output_accuracy: 0.5476 - val_department_output_loss: 4.4613 - val_loss: 6.5413\n",
      "Epoch 31/100\n",
      "\u001b[1m37/37\u001b[0m \u001b[32m━━━━━━━━━━━━━━━━━━━━\u001b[0m\u001b[37m\u001b[0m \u001b[1m0s\u001b[0m 4ms/step - attrition_output_accuracy: 0.9941 - attrition_output_loss: 0.0210 - department_output_accuracy: 0.9765 - department_output_loss: 0.0828 - loss: 0.1037 - val_attrition_output_accuracy: 0.8367 - val_attrition_output_loss: 1.6627 - val_department_output_accuracy: 0.5884 - val_department_output_loss: 4.0027 - val_loss: 5.9795\n",
      "Epoch 32/100\n",
      "\u001b[1m37/37\u001b[0m \u001b[32m━━━━━━━━━━━━━━━━━━━━\u001b[0m\u001b[37m\u001b[0m \u001b[1m0s\u001b[0m 4ms/step - attrition_output_accuracy: 0.9916 - attrition_output_loss: 0.0305 - department_output_accuracy: 0.9842 - department_output_loss: 0.0514 - loss: 0.0819 - val_attrition_output_accuracy: 0.8231 - val_attrition_output_loss: 1.8031 - val_department_output_accuracy: 0.5442 - val_department_output_loss: 4.1794 - val_loss: 6.0175\n",
      "Epoch 33/100\n",
      "\u001b[1m37/37\u001b[0m \u001b[32m━━━━━━━━━━━━━━━━━━━━\u001b[0m\u001b[37m\u001b[0m \u001b[1m0s\u001b[0m 4ms/step - attrition_output_accuracy: 0.9683 - attrition_output_loss: 0.1109 - department_output_accuracy: 0.9777 - department_output_loss: 0.0702 - loss: 0.1808 - val_attrition_output_accuracy: 0.7721 - val_attrition_output_loss: 1.7584 - val_department_output_accuracy: 0.6054 - val_department_output_loss: 3.8153 - val_loss: 5.8922\n",
      "Epoch 34/100\n",
      "\u001b[1m37/37\u001b[0m \u001b[32m━━━━━━━━━━━━━━━━━━━━\u001b[0m\u001b[37m\u001b[0m \u001b[1m0s\u001b[0m 4ms/step - attrition_output_accuracy: 0.9745 - attrition_output_loss: 0.0707 - department_output_accuracy: 0.9851 - department_output_loss: 0.0602 - loss: 0.1309 - val_attrition_output_accuracy: 0.8197 - val_attrition_output_loss: 1.5819 - val_department_output_accuracy: 0.5748 - val_department_output_loss: 3.9501 - val_loss: 5.7730\n",
      "Epoch 35/100\n",
      "\u001b[1m37/37\u001b[0m \u001b[32m━━━━━━━━━━━━━━━━━━━━\u001b[0m\u001b[37m\u001b[0m \u001b[1m0s\u001b[0m 5ms/step - attrition_output_accuracy: 0.9818 - attrition_output_loss: 0.0423 - department_output_accuracy: 0.9728 - department_output_loss: 0.0686 - loss: 0.1108 - val_attrition_output_accuracy: 0.8401 - val_attrition_output_loss: 1.5422 - val_department_output_accuracy: 0.6054 - val_department_output_loss: 4.0230 - val_loss: 5.8680\n",
      "Epoch 36/100\n",
      "\u001b[1m37/37\u001b[0m \u001b[32m━━━━━━━━━━━━━━━━━━━━\u001b[0m\u001b[37m\u001b[0m \u001b[1m0s\u001b[0m 4ms/step - attrition_output_accuracy: 0.9918 - attrition_output_loss: 0.0248 - department_output_accuracy: 0.9870 - department_output_loss: 0.0419 - loss: 0.0667 - val_attrition_output_accuracy: 0.8265 - val_attrition_output_loss: 1.5064 - val_department_output_accuracy: 0.5544 - val_department_output_loss: 3.9236 - val_loss: 5.6201\n",
      "Epoch 37/100\n",
      "\u001b[1m37/37\u001b[0m \u001b[32m━━━━━━━━━━━━━━━━━━━━\u001b[0m\u001b[37m\u001b[0m \u001b[1m0s\u001b[0m 4ms/step - attrition_output_accuracy: 0.9989 - attrition_output_loss: 0.0084 - department_output_accuracy: 0.9991 - department_output_loss: 0.0130 - loss: 0.0213 - val_attrition_output_accuracy: 0.8265 - val_attrition_output_loss: 1.5747 - val_department_output_accuracy: 0.5714 - val_department_output_loss: 4.0677 - val_loss: 5.8646\n",
      "Epoch 38/100\n",
      "\u001b[1m37/37\u001b[0m \u001b[32m━━━━━━━━━━━━━━━━━━━━\u001b[0m\u001b[37m\u001b[0m \u001b[1m0s\u001b[0m 4ms/step - attrition_output_accuracy: 0.9991 - attrition_output_loss: 0.0057 - department_output_accuracy: 0.9972 - department_output_loss: 0.0106 - loss: 0.0163 - val_attrition_output_accuracy: 0.8299 - val_attrition_output_loss: 1.5732 - val_department_output_accuracy: 0.5850 - val_department_output_loss: 4.1199 - val_loss: 5.9395\n",
      "Epoch 39/100\n",
      "\u001b[1m37/37\u001b[0m \u001b[32m━━━━━━━━━━━━━━━━━━━━\u001b[0m\u001b[37m\u001b[0m \u001b[1m0s\u001b[0m 4ms/step - attrition_output_accuracy: 0.9997 - attrition_output_loss: 0.0032 - department_output_accuracy: 0.9986 - department_output_loss: 0.0055 - loss: 0.0087 - val_attrition_output_accuracy: 0.8265 - val_attrition_output_loss: 1.5916 - val_department_output_accuracy: 0.5850 - val_department_output_loss: 4.1574 - val_loss: 5.9854\n",
      "Epoch 40/100\n",
      "\u001b[1m37/37\u001b[0m \u001b[32m━━━━━━━━━━━━━━━━━━━━\u001b[0m\u001b[37m\u001b[0m \u001b[1m0s\u001b[0m 4ms/step - attrition_output_accuracy: 1.0000 - attrition_output_loss: 0.0026 - department_output_accuracy: 0.9998 - department_output_loss: 0.0047 - loss: 0.0073 - val_attrition_output_accuracy: 0.8231 - val_attrition_output_loss: 1.6183 - val_department_output_accuracy: 0.5816 - val_department_output_loss: 4.1712 - val_loss: 6.0214\n",
      "Epoch 41/100\n",
      "\u001b[1m37/37\u001b[0m \u001b[32m━━━━━━━━━━━━━━━━━━━━\u001b[0m\u001b[37m\u001b[0m \u001b[1m0s\u001b[0m 4ms/step - attrition_output_accuracy: 0.9999 - attrition_output_loss: 0.0024 - department_output_accuracy: 0.9993 - department_output_loss: 0.0042 - loss: 0.0066 - val_attrition_output_accuracy: 0.8265 - val_attrition_output_loss: 1.6344 - val_department_output_accuracy: 0.5680 - val_department_output_loss: 4.2102 - val_loss: 6.1159\n",
      "Epoch 42/100\n",
      "\u001b[1m37/37\u001b[0m \u001b[32m━━━━━━━━━━━━━━━━━━━━\u001b[0m\u001b[37m\u001b[0m \u001b[1m0s\u001b[0m 4ms/step - attrition_output_accuracy: 0.9969 - attrition_output_loss: 0.0052 - department_output_accuracy: 0.9972 - department_output_loss: 0.0096 - loss: 0.0148 - val_attrition_output_accuracy: 0.8197 - val_attrition_output_loss: 1.6223 - val_department_output_accuracy: 0.5646 - val_department_output_loss: 4.2023 - val_loss: 6.0861\n",
      "Epoch 43/100\n",
      "\u001b[1m37/37\u001b[0m \u001b[32m━━━━━━━━━━━━━━━━━━━━\u001b[0m\u001b[37m\u001b[0m \u001b[1m0s\u001b[0m 4ms/step - attrition_output_accuracy: 0.9994 - attrition_output_loss: 0.0045 - department_output_accuracy: 0.9982 - department_output_loss: 0.0052 - loss: 0.0097 - val_attrition_output_accuracy: 0.8231 - val_attrition_output_loss: 1.6386 - val_department_output_accuracy: 0.5748 - val_department_output_loss: 4.2452 - val_loss: 6.1285\n",
      "Epoch 44/100\n",
      "\u001b[1m37/37\u001b[0m \u001b[32m━━━━━━━━━━━━━━━━━━━━\u001b[0m\u001b[37m\u001b[0m \u001b[1m0s\u001b[0m 4ms/step - attrition_output_accuracy: 0.9996 - attrition_output_loss: 0.0024 - department_output_accuracy: 0.9962 - department_output_loss: 0.0066 - loss: 0.0090 - val_attrition_output_accuracy: 0.8231 - val_attrition_output_loss: 1.6427 - val_department_output_accuracy: 0.5748 - val_department_output_loss: 4.2885 - val_loss: 6.1745\n",
      "Epoch 45/100\n",
      "\u001b[1m37/37\u001b[0m \u001b[32m━━━━━━━━━━━━━━━━━━━━\u001b[0m\u001b[37m\u001b[0m \u001b[1m0s\u001b[0m 4ms/step - attrition_output_accuracy: 0.9999 - attrition_output_loss: 0.0015 - department_output_accuracy: 0.9995 - department_output_loss: 0.0035 - loss: 0.0050 - val_attrition_output_accuracy: 0.8231 - val_attrition_output_loss: 1.6537 - val_department_output_accuracy: 0.5714 - val_department_output_loss: 4.3068 - val_loss: 6.2141\n",
      "Epoch 46/100\n",
      "\u001b[1m37/37\u001b[0m \u001b[32m━━━━━━━━━━━━━━━━━━━━\u001b[0m\u001b[37m\u001b[0m \u001b[1m0s\u001b[0m 6ms/step - attrition_output_accuracy: 0.9987 - attrition_output_loss: 0.0028 - department_output_accuracy: 0.9979 - department_output_loss: 0.0070 - loss: 0.0098 - val_attrition_output_accuracy: 0.8265 - val_attrition_output_loss: 1.6701 - val_department_output_accuracy: 0.5680 - val_department_output_loss: 4.3201 - val_loss: 6.2591\n",
      "Epoch 47/100\n",
      "\u001b[1m37/37\u001b[0m \u001b[32m━━━━━━━━━━━━━━━━━━━━\u001b[0m\u001b[37m\u001b[0m \u001b[1m0s\u001b[0m 4ms/step - attrition_output_accuracy: 0.9997 - attrition_output_loss: 0.0020 - department_output_accuracy: 0.9956 - department_output_loss: 0.0071 - loss: 0.0091 - val_attrition_output_accuracy: 0.8231 - val_attrition_output_loss: 1.6684 - val_department_output_accuracy: 0.5680 - val_department_output_loss: 4.3500 - val_loss: 6.2503\n",
      "Epoch 48/100\n",
      "\u001b[1m37/37\u001b[0m \u001b[32m━━━━━━━━━━━━━━━━━━━━\u001b[0m\u001b[37m\u001b[0m \u001b[1m0s\u001b[0m 4ms/step - attrition_output_accuracy: 0.9990 - attrition_output_loss: 0.0028 - department_output_accuracy: 0.9986 - department_output_loss: 0.0050 - loss: 0.0078 - val_attrition_output_accuracy: 0.8231 - val_attrition_output_loss: 1.6811 - val_department_output_accuracy: 0.5782 - val_department_output_loss: 4.3627 - val_loss: 6.2877\n",
      "Epoch 49/100\n",
      "\u001b[1m37/37\u001b[0m \u001b[32m━━━━━━━━━━━━━━━━━━━━\u001b[0m\u001b[37m\u001b[0m \u001b[1m0s\u001b[0m 4ms/step - attrition_output_accuracy: 0.9999 - attrition_output_loss: 0.0020 - department_output_accuracy: 0.9968 - department_output_loss: 0.0049 - loss: 0.0069 - val_attrition_output_accuracy: 0.8299 - val_attrition_output_loss: 1.7003 - val_department_output_accuracy: 0.5782 - val_department_output_loss: 4.4045 - val_loss: 6.3731\n",
      "Epoch 50/100\n",
      "\u001b[1m37/37\u001b[0m \u001b[32m━━━━━━━━━━━━━━━━━━━━\u001b[0m\u001b[37m\u001b[0m \u001b[1m0s\u001b[0m 5ms/step - attrition_output_accuracy: 0.9999 - attrition_output_loss: 0.0023 - department_output_accuracy: 0.9982 - department_output_loss: 0.0049 - loss: 0.0072 - val_attrition_output_accuracy: 0.8231 - val_attrition_output_loss: 1.6953 - val_department_output_accuracy: 0.5748 - val_department_output_loss: 4.4133 - val_loss: 6.3480\n",
      "Epoch 51/100\n",
      "\u001b[1m37/37\u001b[0m \u001b[32m━━━━━━━━━━━━━━━━━━━━\u001b[0m\u001b[37m\u001b[0m \u001b[1m0s\u001b[0m 4ms/step - attrition_output_accuracy: 0.9987 - attrition_output_loss: 0.0035 - department_output_accuracy: 0.9973 - department_output_loss: 0.0077 - loss: 0.0112 - val_attrition_output_accuracy: 0.8231 - val_attrition_output_loss: 1.6961 - val_department_output_accuracy: 0.5748 - val_department_output_loss: 4.4357 - val_loss: 6.3917\n",
      "Epoch 52/100\n",
      "\u001b[1m37/37\u001b[0m \u001b[32m━━━━━━━━━━━━━━━━━━━━\u001b[0m\u001b[37m\u001b[0m \u001b[1m0s\u001b[0m 4ms/step - attrition_output_accuracy: 0.9998 - attrition_output_loss: 0.0022 - department_output_accuracy: 0.9996 - department_output_loss: 0.0030 - loss: 0.0053 - val_attrition_output_accuracy: 0.8299 - val_attrition_output_loss: 1.7133 - val_department_output_accuracy: 0.5782 - val_department_output_loss: 4.4697 - val_loss: 6.4509\n",
      "Epoch 53/100\n",
      "\u001b[1m37/37\u001b[0m \u001b[32m━━━━━━━━━━━━━━━━━━━━\u001b[0m\u001b[37m\u001b[0m \u001b[1m0s\u001b[0m 4ms/step - attrition_output_accuracy: 0.9994 - attrition_output_loss: 0.0026 - department_output_accuracy: 0.9979 - department_output_loss: 0.0055 - loss: 0.0081 - val_attrition_output_accuracy: 0.8265 - val_attrition_output_loss: 1.7160 - val_department_output_accuracy: 0.5714 - val_department_output_loss: 4.5040 - val_loss: 6.4757\n",
      "Epoch 54/100\n",
      "\u001b[1m37/37\u001b[0m \u001b[32m━━━━━━━━━━━━━━━━━━━━\u001b[0m\u001b[37m\u001b[0m \u001b[1m0s\u001b[0m 4ms/step - attrition_output_accuracy: 0.9997 - attrition_output_loss: 0.0018 - department_output_accuracy: 0.9972 - department_output_loss: 0.0061 - loss: 0.0079 - val_attrition_output_accuracy: 0.8265 - val_attrition_output_loss: 1.7380 - val_department_output_accuracy: 0.5748 - val_department_output_loss: 4.4968 - val_loss: 6.4890\n",
      "Epoch 55/100\n",
      "\u001b[1m37/37\u001b[0m \u001b[32m━━━━━━━━━━━━━━━━━━━━\u001b[0m\u001b[37m\u001b[0m \u001b[1m0s\u001b[0m 4ms/step - attrition_output_accuracy: 0.9961 - attrition_output_loss: 0.0062 - department_output_accuracy: 0.9953 - department_output_loss: 0.0078 - loss: 0.0140 - val_attrition_output_accuracy: 0.8265 - val_attrition_output_loss: 1.7295 - val_department_output_accuracy: 0.5612 - val_department_output_loss: 4.5232 - val_loss: 6.5089\n",
      "Epoch 56/100\n",
      "\u001b[1m37/37\u001b[0m \u001b[32m━━━━━━━━━━━━━━━━━━━━\u001b[0m\u001b[37m\u001b[0m \u001b[1m0s\u001b[0m 4ms/step - attrition_output_accuracy: 0.9998 - attrition_output_loss: 0.0027 - department_output_accuracy: 0.9954 - department_output_loss: 0.0076 - loss: 0.0103 - val_attrition_output_accuracy: 0.8299 - val_attrition_output_loss: 1.7426 - val_department_output_accuracy: 0.5748 - val_department_output_loss: 4.5420 - val_loss: 6.5536\n",
      "Epoch 57/100\n",
      "\u001b[1m37/37\u001b[0m \u001b[32m━━━━━━━━━━━━━━━━━━━━\u001b[0m\u001b[37m\u001b[0m \u001b[1m0s\u001b[0m 4ms/step - attrition_output_accuracy: 0.9994 - attrition_output_loss: 0.0026 - department_output_accuracy: 0.9980 - department_output_loss: 0.0058 - loss: 0.0083 - val_attrition_output_accuracy: 0.8231 - val_attrition_output_loss: 1.7244 - val_department_output_accuracy: 0.5782 - val_department_output_loss: 4.5654 - val_loss: 6.5355\n",
      "Epoch 58/100\n",
      "\u001b[1m37/37\u001b[0m \u001b[32m━━━━━━━━━━━━━━━━━━━━\u001b[0m\u001b[37m\u001b[0m \u001b[1m0s\u001b[0m 4ms/step - attrition_output_accuracy: 0.9999 - attrition_output_loss: 0.0014 - department_output_accuracy: 0.9953 - department_output_loss: 0.0080 - loss: 0.0094 - val_attrition_output_accuracy: 0.8299 - val_attrition_output_loss: 1.7582 - val_department_output_accuracy: 0.5748 - val_department_output_loss: 4.5645 - val_loss: 6.5883\n",
      "Epoch 59/100\n",
      "\u001b[1m37/37\u001b[0m \u001b[32m━━━━━━━━━━━━━━━━━━━━\u001b[0m\u001b[37m\u001b[0m \u001b[1m0s\u001b[0m 4ms/step - attrition_output_accuracy: 0.9980 - attrition_output_loss: 0.0030 - department_output_accuracy: 0.9940 - department_output_loss: 0.0079 - loss: 0.0108 - val_attrition_output_accuracy: 0.8299 - val_attrition_output_loss: 1.7660 - val_department_output_accuracy: 0.5782 - val_department_output_loss: 4.5866 - val_loss: 6.6116\n",
      "Epoch 60/100\n",
      "\u001b[1m37/37\u001b[0m \u001b[32m━━━━━━━━━━━━━━━━━━━━\u001b[0m\u001b[37m\u001b[0m \u001b[1m0s\u001b[0m 6ms/step - attrition_output_accuracy: 0.9980 - attrition_output_loss: 0.0048 - department_output_accuracy: 0.9951 - department_output_loss: 0.0086 - loss: 0.0135 - val_attrition_output_accuracy: 0.8299 - val_attrition_output_loss: 1.7624 - val_department_output_accuracy: 0.5782 - val_department_output_loss: 4.5891 - val_loss: 6.6162\n",
      "Epoch 61/100\n",
      "\u001b[1m37/37\u001b[0m \u001b[32m━━━━━━━━━━━━━━━━━━━━\u001b[0m\u001b[37m\u001b[0m \u001b[1m0s\u001b[0m 4ms/step - attrition_output_accuracy: 0.9988 - attrition_output_loss: 0.0022 - department_output_accuracy: 0.9981 - department_output_loss: 0.0058 - loss: 0.0079 - val_attrition_output_accuracy: 0.8231 - val_attrition_output_loss: 1.7661 - val_department_output_accuracy: 0.5714 - val_department_output_loss: 4.6644 - val_loss: 6.6756\n",
      "Epoch 62/100\n",
      "\u001b[1m37/37\u001b[0m \u001b[32m━━━━━━━━━━━━━━━━━━━━\u001b[0m\u001b[37m\u001b[0m \u001b[1m0s\u001b[0m 5ms/step - attrition_output_accuracy: 0.9977 - attrition_output_loss: 0.0047 - department_output_accuracy: 0.9979 - department_output_loss: 0.0051 - loss: 0.0098 - val_attrition_output_accuracy: 0.8333 - val_attrition_output_loss: 1.7849 - val_department_output_accuracy: 0.5646 - val_department_output_loss: 4.6844 - val_loss: 6.7306\n",
      "Epoch 63/100\n",
      "\u001b[1m37/37\u001b[0m \u001b[32m━━━━━━━━━━━━━━━━━━━━\u001b[0m\u001b[37m\u001b[0m \u001b[1m0s\u001b[0m 6ms/step - attrition_output_accuracy: 0.9962 - attrition_output_loss: 0.0113 - department_output_accuracy: 0.9945 - department_output_loss: 0.0100 - loss: 0.0212 - val_attrition_output_accuracy: 0.8299 - val_attrition_output_loss: 1.7773 - val_department_output_accuracy: 0.5850 - val_department_output_loss: 4.6951 - val_loss: 6.7496\n",
      "Epoch 64/100\n",
      "\u001b[1m37/37\u001b[0m \u001b[32m━━━━━━━━━━━━━━━━━━━━\u001b[0m\u001b[37m\u001b[0m \u001b[1m0s\u001b[0m 4ms/step - attrition_output_accuracy: 0.9983 - attrition_output_loss: 0.0040 - department_output_accuracy: 0.9938 - department_output_loss: 0.0136 - loss: 0.0176 - val_attrition_output_accuracy: 0.8333 - val_attrition_output_loss: 1.7725 - val_department_output_accuracy: 0.5782 - val_department_output_loss: 4.6783 - val_loss: 6.7213\n",
      "Epoch 65/100\n",
      "\u001b[1m37/37\u001b[0m \u001b[32m━━━━━━━━━━━━━━━━━━━━\u001b[0m\u001b[37m\u001b[0m \u001b[1m0s\u001b[0m 4ms/step - attrition_output_accuracy: 1.0000 - attrition_output_loss: 0.0025 - department_output_accuracy: 0.9976 - department_output_loss: 0.0094 - loss: 0.0119 - val_attrition_output_accuracy: 0.8231 - val_attrition_output_loss: 1.8013 - val_department_output_accuracy: 0.5578 - val_department_output_loss: 4.7756 - val_loss: 6.8381\n",
      "Epoch 66/100\n",
      "\u001b[1m37/37\u001b[0m \u001b[32m━━━━━━━━━━━━━━━━━━━━\u001b[0m\u001b[37m\u001b[0m \u001b[1m0s\u001b[0m 4ms/step - attrition_output_accuracy: 0.9992 - attrition_output_loss: 0.0054 - department_output_accuracy: 0.9886 - department_output_loss: 0.0308 - loss: 0.0362 - val_attrition_output_accuracy: 0.8197 - val_attrition_output_loss: 1.7380 - val_department_output_accuracy: 0.5680 - val_department_output_loss: 4.7387 - val_loss: 6.6920\n",
      "Epoch 67/100\n",
      "\u001b[1m37/37\u001b[0m \u001b[32m━━━━━━━━━━━━━━━━━━━━\u001b[0m\u001b[37m\u001b[0m \u001b[1m0s\u001b[0m 4ms/step - attrition_output_accuracy: 0.9827 - attrition_output_loss: 0.0598 - department_output_accuracy: 0.9880 - department_output_loss: 0.0318 - loss: 0.0915 - val_attrition_output_accuracy: 0.7823 - val_attrition_output_loss: 1.8456 - val_department_output_accuracy: 0.5340 - val_department_output_loss: 4.5677 - val_loss: 6.6473\n",
      "Epoch 68/100\n",
      "\u001b[1m37/37\u001b[0m \u001b[32m━━━━━━━━━━━━━━━━━━━━\u001b[0m\u001b[37m\u001b[0m \u001b[1m0s\u001b[0m 4ms/step - attrition_output_accuracy: 0.9597 - attrition_output_loss: 0.1217 - department_output_accuracy: 0.9811 - department_output_loss: 0.0584 - loss: 0.1800 - val_attrition_output_accuracy: 0.8503 - val_attrition_output_loss: 1.7106 - val_department_output_accuracy: 0.5884 - val_department_output_loss: 4.0381 - val_loss: 5.9773\n",
      "Epoch 69/100\n",
      "\u001b[1m37/37\u001b[0m \u001b[32m━━━━━━━━━━━━━━━━━━━━\u001b[0m\u001b[37m\u001b[0m \u001b[1m0s\u001b[0m 4ms/step - attrition_output_accuracy: 0.9440 - attrition_output_loss: 0.1596 - department_output_accuracy: 0.9335 - department_output_loss: 0.2155 - loss: 0.3752 - val_attrition_output_accuracy: 0.7959 - val_attrition_output_loss: 1.2852 - val_department_output_accuracy: 0.5306 - val_department_output_loss: 4.2159 - val_loss: 5.7592\n",
      "Epoch 70/100\n",
      "\u001b[1m37/37\u001b[0m \u001b[32m━━━━━━━━━━━━━━━━━━━━\u001b[0m\u001b[37m\u001b[0m \u001b[1m0s\u001b[0m 4ms/step - attrition_output_accuracy: 0.9679 - attrition_output_loss: 0.0862 - department_output_accuracy: 0.9313 - department_output_loss: 0.2422 - loss: 0.3284 - val_attrition_output_accuracy: 0.8129 - val_attrition_output_loss: 1.3715 - val_department_output_accuracy: 0.5646 - val_department_output_loss: 3.4649 - val_loss: 5.0814\n",
      "Epoch 71/100\n",
      "\u001b[1m37/37\u001b[0m \u001b[32m━━━━━━━━━━━━━━━━━━━━\u001b[0m\u001b[37m\u001b[0m \u001b[1m0s\u001b[0m 4ms/step - attrition_output_accuracy: 0.9970 - attrition_output_loss: 0.0262 - department_output_accuracy: 0.9679 - department_output_loss: 0.0907 - loss: 0.1169 - val_attrition_output_accuracy: 0.8095 - val_attrition_output_loss: 1.4853 - val_department_output_accuracy: 0.5748 - val_department_output_loss: 3.5137 - val_loss: 5.1699\n",
      "Epoch 72/100\n",
      "\u001b[1m37/37\u001b[0m \u001b[32m━━━━━━━━━━━━━━━━━━━━\u001b[0m\u001b[37m\u001b[0m \u001b[1m0s\u001b[0m 4ms/step - attrition_output_accuracy: 0.9988 - attrition_output_loss: 0.0100 - department_output_accuracy: 0.9939 - department_output_loss: 0.0265 - loss: 0.0366 - val_attrition_output_accuracy: 0.8129 - val_attrition_output_loss: 1.5098 - val_department_output_accuracy: 0.5612 - val_department_output_loss: 3.6791 - val_loss: 5.3608\n",
      "Epoch 73/100\n",
      "\u001b[1m37/37\u001b[0m \u001b[32m━━━━━━━━━━━━━━━━━━━━\u001b[0m\u001b[37m\u001b[0m \u001b[1m0s\u001b[0m 4ms/step - attrition_output_accuracy: 0.9986 - attrition_output_loss: 0.0084 - department_output_accuracy: 0.9998 - department_output_loss: 0.0127 - loss: 0.0211 - val_attrition_output_accuracy: 0.8197 - val_attrition_output_loss: 1.5198 - val_department_output_accuracy: 0.5544 - val_department_output_loss: 3.8190 - val_loss: 5.4812\n",
      "Epoch 74/100\n",
      "\u001b[1m37/37\u001b[0m \u001b[32m━━━━━━━━━━━━━━━━━━━━\u001b[0m\u001b[37m\u001b[0m \u001b[1m0s\u001b[0m 6ms/step - attrition_output_accuracy: 0.9993 - attrition_output_loss: 0.0058 - department_output_accuracy: 0.9988 - department_output_loss: 0.0110 - loss: 0.0169 - val_attrition_output_accuracy: 0.8163 - val_attrition_output_loss: 1.5496 - val_department_output_accuracy: 0.5612 - val_department_output_loss: 3.9021 - val_loss: 5.6215\n",
      "Epoch 75/100\n",
      "\u001b[1m37/37\u001b[0m \u001b[32m━━━━━━━━━━━━━━━━━━━━\u001b[0m\u001b[37m\u001b[0m \u001b[1m0s\u001b[0m 4ms/step - attrition_output_accuracy: 0.9999 - attrition_output_loss: 0.0041 - department_output_accuracy: 0.9980 - department_output_loss: 0.0067 - loss: 0.0108 - val_attrition_output_accuracy: 0.8163 - val_attrition_output_loss: 1.5689 - val_department_output_accuracy: 0.5816 - val_department_output_loss: 3.9839 - val_loss: 5.7232\n",
      "Epoch 76/100\n",
      "\u001b[1m37/37\u001b[0m \u001b[32m━━━━━━━━━━━━━━━━━━━━\u001b[0m\u001b[37m\u001b[0m \u001b[1m0s\u001b[0m 5ms/step - attrition_output_accuracy: 0.9991 - attrition_output_loss: 0.0036 - department_output_accuracy: 0.9964 - department_output_loss: 0.0074 - loss: 0.0110 - val_attrition_output_accuracy: 0.8163 - val_attrition_output_loss: 1.5905 - val_department_output_accuracy: 0.5816 - val_department_output_loss: 4.0409 - val_loss: 5.8097\n",
      "Epoch 77/100\n",
      "\u001b[1m37/37\u001b[0m \u001b[32m━━━━━━━━━━━━━━━━━━━━\u001b[0m\u001b[37m\u001b[0m \u001b[1m0s\u001b[0m 4ms/step - attrition_output_accuracy: 0.9996 - attrition_output_loss: 0.0035 - department_output_accuracy: 0.9989 - department_output_loss: 0.0051 - loss: 0.0085 - val_attrition_output_accuracy: 0.8197 - val_attrition_output_loss: 1.6031 - val_department_output_accuracy: 0.5612 - val_department_output_loss: 4.0991 - val_loss: 5.8710\n",
      "Epoch 78/100\n",
      "\u001b[1m37/37\u001b[0m \u001b[32m━━━━━━━━━━━━━━━━━━━━\u001b[0m\u001b[37m\u001b[0m \u001b[1m0s\u001b[0m 4ms/step - attrition_output_accuracy: 0.9985 - attrition_output_loss: 0.0043 - department_output_accuracy: 0.9969 - department_output_loss: 0.0072 - loss: 0.0115 - val_attrition_output_accuracy: 0.8197 - val_attrition_output_loss: 1.6174 - val_department_output_accuracy: 0.5646 - val_department_output_loss: 4.1442 - val_loss: 5.9402\n",
      "Epoch 79/100\n",
      "\u001b[1m37/37\u001b[0m \u001b[32m━━━━━━━━━━━━━━━━━━━━\u001b[0m\u001b[37m\u001b[0m \u001b[1m0s\u001b[0m 4ms/step - attrition_output_accuracy: 1.0000 - attrition_output_loss: 0.0025 - department_output_accuracy: 0.9982 - department_output_loss: 0.0064 - loss: 0.0089 - val_attrition_output_accuracy: 0.8163 - val_attrition_output_loss: 1.6354 - val_department_output_accuracy: 0.5612 - val_department_output_loss: 4.1823 - val_loss: 6.0014\n",
      "Epoch 80/100\n",
      "\u001b[1m37/37\u001b[0m \u001b[32m━━━━━━━━━━━━━━━━━━━━\u001b[0m\u001b[37m\u001b[0m \u001b[1m0s\u001b[0m 4ms/step - attrition_output_accuracy: 0.9997 - attrition_output_loss: 0.0026 - department_output_accuracy: 0.9987 - department_output_loss: 0.0048 - loss: 0.0074 - val_attrition_output_accuracy: 0.8197 - val_attrition_output_loss: 1.6605 - val_department_output_accuracy: 0.5748 - val_department_output_loss: 4.2401 - val_loss: 6.1077\n",
      "Epoch 81/100\n",
      "\u001b[1m37/37\u001b[0m \u001b[32m━━━━━━━━━━━━━━━━━━━━\u001b[0m\u001b[37m\u001b[0m \u001b[1m0s\u001b[0m 4ms/step - attrition_output_accuracy: 0.9989 - attrition_output_loss: 0.0034 - department_output_accuracy: 0.9979 - department_output_loss: 0.0068 - loss: 0.0101 - val_attrition_output_accuracy: 0.8129 - val_attrition_output_loss: 1.6625 - val_department_output_accuracy: 0.5850 - val_department_output_loss: 4.2627 - val_loss: 6.1143\n",
      "Epoch 82/100\n",
      "\u001b[1m37/37\u001b[0m \u001b[32m━━━━━━━━━━━━━━━━━━━━\u001b[0m\u001b[37m\u001b[0m \u001b[1m0s\u001b[0m 4ms/step - attrition_output_accuracy: 0.9999 - attrition_output_loss: 0.0015 - department_output_accuracy: 0.9995 - department_output_loss: 0.0031 - loss: 0.0045 - val_attrition_output_accuracy: 0.8197 - val_attrition_output_loss: 1.6671 - val_department_output_accuracy: 0.5612 - val_department_output_loss: 4.3007 - val_loss: 6.1534\n",
      "Epoch 83/100\n",
      "\u001b[1m37/37\u001b[0m \u001b[32m━━━━━━━━━━━━━━━━━━━━\u001b[0m\u001b[37m\u001b[0m \u001b[1m0s\u001b[0m 4ms/step - attrition_output_accuracy: 1.0000 - attrition_output_loss: 0.0037 - department_output_accuracy: 0.9982 - department_output_loss: 0.0057 - loss: 0.0093 - val_attrition_output_accuracy: 0.8197 - val_attrition_output_loss: 1.6838 - val_department_output_accuracy: 0.5714 - val_department_output_loss: 4.3271 - val_loss: 6.2067\n",
      "Epoch 84/100\n",
      "\u001b[1m37/37\u001b[0m \u001b[32m━━━━━━━━━━━━━━━━━━━━\u001b[0m\u001b[37m\u001b[0m \u001b[1m0s\u001b[0m 5ms/step - attrition_output_accuracy: 1.0000 - attrition_output_loss: 0.0036 - department_output_accuracy: 0.9972 - department_output_loss: 0.0105 - loss: 0.0140 - val_attrition_output_accuracy: 0.8197 - val_attrition_output_loss: 1.6832 - val_department_output_accuracy: 0.5782 - val_department_output_loss: 4.3523 - val_loss: 6.2335\n",
      "Epoch 85/100\n",
      "\u001b[1m37/37\u001b[0m \u001b[32m━━━━━━━━━━━━━━━━━━━━\u001b[0m\u001b[37m\u001b[0m \u001b[1m0s\u001b[0m 5ms/step - attrition_output_accuracy: 0.9993 - attrition_output_loss: 0.0022 - department_output_accuracy: 0.9985 - department_output_loss: 0.0043 - loss: 0.0065 - val_attrition_output_accuracy: 0.8163 - val_attrition_output_loss: 1.6989 - val_department_output_accuracy: 0.5748 - val_department_output_loss: 4.3737 - val_loss: 6.2813\n",
      "Epoch 86/100\n",
      "\u001b[1m37/37\u001b[0m \u001b[32m━━━━━━━━━━━━━━━━━━━━\u001b[0m\u001b[37m\u001b[0m \u001b[1m0s\u001b[0m 4ms/step - attrition_output_accuracy: 0.9995 - attrition_output_loss: 0.0025 - department_output_accuracy: 0.9989 - department_output_loss: 0.0059 - loss: 0.0084 - val_attrition_output_accuracy: 0.8163 - val_attrition_output_loss: 1.7053 - val_department_output_accuracy: 0.5544 - val_department_output_loss: 4.4116 - val_loss: 6.3149\n",
      "Epoch 87/100\n",
      "\u001b[1m37/37\u001b[0m \u001b[32m━━━━━━━━━━━━━━━━━━━━\u001b[0m\u001b[37m\u001b[0m \u001b[1m0s\u001b[0m 6ms/step - attrition_output_accuracy: 0.9992 - attrition_output_loss: 0.0027 - department_output_accuracy: 0.9988 - department_output_loss: 0.0038 - loss: 0.0065 - val_attrition_output_accuracy: 0.8163 - val_attrition_output_loss: 1.7204 - val_department_output_accuracy: 0.5782 - val_department_output_loss: 4.4272 - val_loss: 6.3384\n",
      "Epoch 88/100\n",
      "\u001b[1m37/37\u001b[0m \u001b[32m━━━━━━━━━━━━━━━━━━━━\u001b[0m\u001b[37m\u001b[0m \u001b[1m0s\u001b[0m 4ms/step - attrition_output_accuracy: 0.9997 - attrition_output_loss: 0.0050 - department_output_accuracy: 0.9985 - department_output_loss: 0.0045 - loss: 0.0095 - val_attrition_output_accuracy: 0.8231 - val_attrition_output_loss: 1.7528 - val_department_output_accuracy: 0.5884 - val_department_output_loss: 4.5145 - val_loss: 6.5017\n",
      "Epoch 89/100\n",
      "\u001b[1m37/37\u001b[0m \u001b[32m━━━━━━━━━━━━━━━━━━━━\u001b[0m\u001b[37m\u001b[0m \u001b[1m0s\u001b[0m 5ms/step - attrition_output_accuracy: 0.9993 - attrition_output_loss: 0.0052 - department_output_accuracy: 0.9960 - department_output_loss: 0.0070 - loss: 0.0121 - val_attrition_output_accuracy: 0.8163 - val_attrition_output_loss: 1.7175 - val_department_output_accuracy: 0.5680 - val_department_output_loss: 4.5069 - val_loss: 6.4120\n",
      "Epoch 90/100\n",
      "\u001b[1m37/37\u001b[0m \u001b[32m━━━━━━━━━━━━━━━━━━━━\u001b[0m\u001b[37m\u001b[0m \u001b[1m0s\u001b[0m 4ms/step - attrition_output_accuracy: 0.9953 - attrition_output_loss: 0.0075 - department_output_accuracy: 0.9980 - department_output_loss: 0.0058 - loss: 0.0134 - val_attrition_output_accuracy: 0.8095 - val_attrition_output_loss: 1.7273 - val_department_output_accuracy: 0.5850 - val_department_output_loss: 4.5069 - val_loss: 6.4285\n",
      "Epoch 91/100\n",
      "\u001b[1m37/37\u001b[0m \u001b[32m━━━━━━━━━━━━━━━━━━━━\u001b[0m\u001b[37m\u001b[0m \u001b[1m0s\u001b[0m 4ms/step - attrition_output_accuracy: 0.9996 - attrition_output_loss: 0.0015 - department_output_accuracy: 0.9994 - department_output_loss: 0.0031 - loss: 0.0047 - val_attrition_output_accuracy: 0.8197 - val_attrition_output_loss: 1.7494 - val_department_output_accuracy: 0.5816 - val_department_output_loss: 4.5510 - val_loss: 6.5221\n",
      "Epoch 92/100\n",
      "\u001b[1m37/37\u001b[0m \u001b[32m━━━━━━━━━━━━━━━━━━━━\u001b[0m\u001b[37m\u001b[0m \u001b[1m0s\u001b[0m 4ms/step - attrition_output_accuracy: 0.9991 - attrition_output_loss: 0.0021 - department_output_accuracy: 0.9981 - department_output_loss: 0.0040 - loss: 0.0061 - val_attrition_output_accuracy: 0.8231 - val_attrition_output_loss: 1.7498 - val_department_output_accuracy: 0.5850 - val_department_output_loss: 4.5705 - val_loss: 6.5399\n",
      "Epoch 93/100\n",
      "\u001b[1m37/37\u001b[0m \u001b[32m━━━━━━━━━━━━━━━━━━━━\u001b[0m\u001b[37m\u001b[0m \u001b[1m0s\u001b[0m 4ms/step - attrition_output_accuracy: 0.9988 - attrition_output_loss: 0.0029 - department_output_accuracy: 0.9976 - department_output_loss: 0.0038 - loss: 0.0067 - val_attrition_output_accuracy: 0.8197 - val_attrition_output_loss: 1.7544 - val_department_output_accuracy: 0.5816 - val_department_output_loss: 4.5825 - val_loss: 6.5591\n",
      "Epoch 94/100\n",
      "\u001b[1m37/37\u001b[0m \u001b[32m━━━━━━━━━━━━━━━━━━━━\u001b[0m\u001b[37m\u001b[0m \u001b[1m0s\u001b[0m 4ms/step - attrition_output_accuracy: 0.9997 - attrition_output_loss: 0.0016 - department_output_accuracy: 0.9992 - department_output_loss: 0.0040 - loss: 0.0056 - val_attrition_output_accuracy: 0.8163 - val_attrition_output_loss: 1.7668 - val_department_output_accuracy: 0.5544 - val_department_output_loss: 4.6121 - val_loss: 6.5766\n",
      "Epoch 95/100\n",
      "\u001b[1m37/37\u001b[0m \u001b[32m━━━━━━━━━━━━━━━━━━━━\u001b[0m\u001b[37m\u001b[0m \u001b[1m0s\u001b[0m 4ms/step - attrition_output_accuracy: 0.9985 - attrition_output_loss: 0.0043 - department_output_accuracy: 0.9982 - department_output_loss: 0.0042 - loss: 0.0086 - val_attrition_output_accuracy: 0.8163 - val_attrition_output_loss: 1.7744 - val_department_output_accuracy: 0.5816 - val_department_output_loss: 4.6141 - val_loss: 6.5914\n",
      "Epoch 96/100\n",
      "\u001b[1m37/37\u001b[0m \u001b[32m━━━━━━━━━━━━━━━━━━━━\u001b[0m\u001b[37m\u001b[0m \u001b[1m0s\u001b[0m 4ms/step - attrition_output_accuracy: 0.9999 - attrition_output_loss: 0.0015 - department_output_accuracy: 0.9991 - department_output_loss: 0.0046 - loss: 0.0060 - val_attrition_output_accuracy: 0.8265 - val_attrition_output_loss: 1.7920 - val_department_output_accuracy: 0.5816 - val_department_output_loss: 4.6511 - val_loss: 6.6816\n",
      "Epoch 97/100\n",
      "\u001b[1m37/37\u001b[0m \u001b[32m━━━━━━━━━━━━━━━━━━━━\u001b[0m\u001b[37m\u001b[0m \u001b[1m0s\u001b[0m 4ms/step - attrition_output_accuracy: 0.9996 - attrition_output_loss: 0.0023 - department_output_accuracy: 0.9972 - department_output_loss: 0.0066 - loss: 0.0089 - val_attrition_output_accuracy: 0.8163 - val_attrition_output_loss: 1.7834 - val_department_output_accuracy: 0.5816 - val_department_output_loss: 4.5964 - val_loss: 6.6048\n",
      "Epoch 98/100\n",
      "\u001b[1m37/37\u001b[0m \u001b[32m━━━━━━━━━━━━━━━━━━━━\u001b[0m\u001b[37m\u001b[0m \u001b[1m0s\u001b[0m 4ms/step - attrition_output_accuracy: 0.9995 - attrition_output_loss: 0.0019 - department_output_accuracy: 0.9960 - department_output_loss: 0.0096 - loss: 0.0115 - val_attrition_output_accuracy: 0.8095 - val_attrition_output_loss: 1.7904 - val_department_output_accuracy: 0.5680 - val_department_output_loss: 4.6189 - val_loss: 6.6286\n",
      "Epoch 99/100\n",
      "\u001b[1m37/37\u001b[0m \u001b[32m━━━━━━━━━━━━━━━━━━━━\u001b[0m\u001b[37m\u001b[0m \u001b[1m0s\u001b[0m 6ms/step - attrition_output_accuracy: 0.9991 - attrition_output_loss: 0.0026 - department_output_accuracy: 0.9975 - department_output_loss: 0.0053 - loss: 0.0079 - val_attrition_output_accuracy: 0.8197 - val_attrition_output_loss: 1.8143 - val_department_output_accuracy: 0.5816 - val_department_output_loss: 4.6669 - val_loss: 6.6998\n",
      "Epoch 100/100\n",
      "\u001b[1m37/37\u001b[0m \u001b[32m━━━━━━━━━━━━━━━━━━━━\u001b[0m\u001b[37m\u001b[0m \u001b[1m0s\u001b[0m 4ms/step - attrition_output_accuracy: 0.9997 - attrition_output_loss: 0.0012 - department_output_accuracy: 0.9973 - department_output_loss: 0.0043 - loss: 0.0055 - val_attrition_output_accuracy: 0.8129 - val_attrition_output_loss: 1.7960 - val_department_output_accuracy: 0.5680 - val_department_output_loss: 4.6553 - val_loss: 6.6536\n"
     ]
    }
   ],
   "source": [
    "# Train the model\n",
    "history = model.fit(X_train_scaled,\n",
    "                    {'department_output': y_train_dept_encoded, 'attrition_output': y_train_attr_encoded},\n",
    "                    epochs=100,\n",
    "                    batch_size=32,\n",
    "                    validation_data=(X_test_scaled, {'department_output': y_test_dept_encoded, 'attrition_output': y_test_attr_encoded}),\n",
    "                    verbose=1)"
   ]
  },
  {
   "cell_type": "code",
   "execution_count": 25,
   "metadata": {},
   "outputs": [
    {
     "name": "stdout",
     "output_type": "stream",
     "text": [
      "\u001b[1m10/10\u001b[0m \u001b[32m━━━━━━━━━━━━━━━━━━━━\u001b[0m\u001b[37m\u001b[0m \u001b[1m0s\u001b[0m 9ms/step - attrition_output_accuracy: 0.8007 - attrition_output_loss: 2.2920 - department_output_accuracy: 0.5477 - department_output_loss: 4.8667 - loss: 7.1955 \n"
     ]
    },
    {
     "data": {
      "text/plain": [
       "[6.6536455154418945,\n",
       " 4.655264854431152,\n",
       " 1.7960081100463867,\n",
       " 0.8129251599311829,\n",
       " 0.5680271983146667]"
      ]
     },
     "execution_count": 25,
     "metadata": {},
     "output_type": "execute_result"
    }
   ],
   "source": [
    "test_results = model.evaluate(X_test_scaled, {'department_output': y_test_dept_encoded, 'attrition_output': y_test_attr_encoded})\n",
    "test_results"
   ]
  },
  {
   "cell_type": "code",
   "execution_count": null,
   "metadata": {
    "colab": {
     "base_uri": "https://localhost:8080/"
    },
    "executionInfo": {
     "elapsed": 379,
     "status": "ok",
     "timestamp": 1730699259894,
     "user": {
      "displayName": "Alexander Booth",
      "userId": "02269714993535573104"
     },
     "user_tz": 360
    },
    "id": "VsMoaQlgGc3U",
    "outputId": "636c85ba-ee63-4087-b7d1-00b408f1055a"
   },
   "outputs": [
    {
     "name": "stdout",
     "output_type": "stream",
     "text": [
      "\u001b[1m12/12\u001b[0m \u001b[32m━━━━━━━━━━━━━━━━━━━━\u001b[0m\u001b[37m\u001b[0m \u001b[1m0s\u001b[0m 2ms/step - attrition_output_accuracy: 0.7868 - department_output_accuracy: 0.4877 - loss: 4.0711  \n"
     ]
    },
    {
     "data": {
      "text/plain": [
       "[4.038690090179443, 0.7880434989929199, 0.5]"
      ]
     },
     "execution_count": 16,
     "metadata": {},
     "output_type": "execute_result"
    }
   ],
   "source": [
    "# Evaluate the model with the testing data\n",
    "test_results = model.evaluate(X_test_scaled, {'department_output': y_test_dept_encoded, 'attrition_output': y_test_attr_encoded})\n",
    "test_results"
   ]
  },
  {
   "cell_type": "code",
   "execution_count": 27,
   "metadata": {
    "colab": {
     "base_uri": "https://localhost:8080/"
    },
    "executionInfo": {
     "elapsed": 113,
     "status": "ok",
     "timestamp": 1730699260004,
     "user": {
      "displayName": "Alexander Booth",
      "userId": "02269714993535573104"
     },
     "user_tz": 360
    },
    "id": "ZlCtlHi0Vt54",
    "outputId": "3a32435c-11cf-48da-81b5-1431d6c00da2"
   },
   "outputs": [
    {
     "name": "stdout",
     "output_type": "stream",
     "text": [
      "Department Accuracy: 0.8129251599311829\n",
      "Attrition Accuracy: 0.5680271983146667\n"
     ]
    }
   ],
   "source": [
    "# Print the accuracy for both department and attrition\n",
    "print(f\"Department Accuracy: {test_results[3]}\")\n",
    "print(f\"Attrition Accuracy: {test_results[4]}\")"
   ]
  },
  {
   "cell_type": "code",
   "execution_count": 28,
   "metadata": {},
   "outputs": [
    {
     "data": {
      "text/plain": [
       "Attrition\n",
       "No     1233\n",
       "Yes     237\n",
       "Name: count, dtype: int64"
      ]
     },
     "execution_count": 28,
     "metadata": {},
     "output_type": "execute_result"
    }
   ],
   "source": [
    "# find out the count of unique values in the attrition column\n",
    "y_df['Attrition'].value_counts()"
   ]
  },
  {
   "cell_type": "code",
   "execution_count": 30,
   "metadata": {},
   "outputs": [
    {
     "data": {
      "text/plain": [
       "DistanceFromHome\n",
       "2     211\n",
       "1     208\n",
       "10     86\n",
       "9      85\n",
       "3      84\n",
       "7      84\n",
       "8      80\n",
       "5      65\n",
       "4      64\n",
       "6      59\n",
       "16     32\n",
       "11     29\n",
       "24     28\n",
       "23     27\n",
       "29     27\n",
       "15     26\n",
       "18     26\n",
       "26     25\n",
       "25     25\n",
       "20     25\n",
       "28     23\n",
       "19     22\n",
       "14     21\n",
       "12     20\n",
       "17     20\n",
       "22     19\n",
       "13     19\n",
       "21     18\n",
       "27     12\n",
       "Name: count, dtype: int64"
      ]
     },
     "execution_count": 30,
     "metadata": {},
     "output_type": "execute_result"
    }
   ],
   "source": [
    "# find out the count of unique values in the DistanceFromHome column\n",
    "X['DistanceFromHome'].value_counts()"
   ]
  },
  {
   "cell_type": "markdown",
   "metadata": {
    "id": "eGSyfsZfWOQM"
   },
   "source": [
    "# Summary\n",
    "\n",
    "In the provided space below, briefly answer the following questions.\n",
    "\n",
    "1. Is accuracy the best metric to use on this data? Why or why not?\n",
    "\n",
    "2. What activation functions did you choose for your output layers, and why?\n",
    "\n",
    "3. Can you name a few ways that this model might be improved?"
   ]
  },
  {
   "cell_type": "markdown",
   "metadata": {
    "id": "pi9SLpFnWvbF"
   },
   "source": [
    "YOUR ANSWERS HERE\n",
    "\n",
    "1. I would say accuracy is not the best metric to use. It has a tough time accurately representing unbalanced datasets, which in this case attrition = yes is very much a minortiy class. \n",
    "2. For department_output i used Softmax. This is a multi‑class classification with mutually exclusive categories.\n",
    "I used Softmax because it turns raw scores into a probability distribution so you can interpret each output as “probability of Dept A vs. B vs. C.”\n",
    "For attrition_output I used Sigmoid because it's a binary classification (Yes/No). For binary crossentropy, it’s the standard choice.\n",
    "3. I think i could address the class imbalance for attrition by using class weights or oversampling to have more accurate training on \"yes.\" It also makes sense to re-categorize the \"Distance from home\" column to have way fewer unique values, and use something like \"near\" and \"far\". I think it would also be worth inveistaging if using a \"Dropout\" between dense layers to reduce overfitting."
   ]
  },
  {
   "cell_type": "code",
   "execution_count": 17,
   "metadata": {
    "executionInfo": {
     "elapsed": 3,
     "status": "ok",
     "timestamp": 1730699260004,
     "user": {
      "displayName": "Alexander Booth",
      "userId": "02269714993535573104"
     },
     "user_tz": 360
    },
    "id": "ZuQWjGgGXZ3C"
   },
   "outputs": [],
   "source": []
  }
 ],
 "metadata": {
  "colab": {
   "provenance": []
  },
  "kernelspec": {
   "display_name": "dev2",
   "language": "python",
   "name": "python3"
  },
  "language_info": {
   "codemirror_mode": {
    "name": "ipython",
    "version": 3
   },
   "file_extension": ".py",
   "mimetype": "text/x-python",
   "name": "python",
   "nbconvert_exporter": "python",
   "pygments_lexer": "ipython3",
   "version": "3.12.7"
  }
 },
 "nbformat": 4,
 "nbformat_minor": 0
}
