{
 "cells": [
  {
   "cell_type": "markdown",
   "metadata": {
    "id": "alIIEHibGc3M"
   },
   "source": [
    "## Part 1: Preprocessing"
   ]
  },
  {
   "cell_type": "code",
   "execution_count": 1,
   "metadata": {
    "colab": {
     "base_uri": "https://localhost:8080/",
     "height": 325
    },
    "executionInfo": {
     "elapsed": 12323,
     "status": "ok",
     "timestamp": 1730699226906,
     "user": {
      "displayName": "Alexander Booth",
      "userId": "02269714993535573104"
     },
     "user_tz": 360
    },
    "id": "6eDUJ4NtGc3P",
    "outputId": "eeae54b5-3d17-442d-94ba-00dd55b89964"
   },
   "outputs": [
    {
     "name": "stderr",
     "output_type": "stream",
     "text": [
      "2025-04-19 17:52:22.095166: I tensorflow/core/platform/cpu_feature_guard.cc:210] This TensorFlow binary is optimized to use available CPU instructions in performance-critical operations.\n",
      "To enable the following instructions: AVX2 FMA, in other operations, rebuild TensorFlow with the appropriate compiler flags.\n"
     ]
    },
    {
     "data": {
      "text/html": [
       "<div>\n",
       "<style scoped>\n",
       "    .dataframe tbody tr th:only-of-type {\n",
       "        vertical-align: middle;\n",
       "    }\n",
       "\n",
       "    .dataframe tbody tr th {\n",
       "        vertical-align: top;\n",
       "    }\n",
       "\n",
       "    .dataframe thead th {\n",
       "        text-align: right;\n",
       "    }\n",
       "</style>\n",
       "<table border=\"1\" class=\"dataframe\">\n",
       "  <thead>\n",
       "    <tr style=\"text-align: right;\">\n",
       "      <th></th>\n",
       "      <th>Age</th>\n",
       "      <th>Attrition</th>\n",
       "      <th>BusinessTravel</th>\n",
       "      <th>Department</th>\n",
       "      <th>DistanceFromHome</th>\n",
       "      <th>Education</th>\n",
       "      <th>EducationField</th>\n",
       "      <th>EnvironmentSatisfaction</th>\n",
       "      <th>HourlyRate</th>\n",
       "      <th>JobInvolvement</th>\n",
       "      <th>...</th>\n",
       "      <th>PerformanceRating</th>\n",
       "      <th>RelationshipSatisfaction</th>\n",
       "      <th>StockOptionLevel</th>\n",
       "      <th>TotalWorkingYears</th>\n",
       "      <th>TrainingTimesLastYear</th>\n",
       "      <th>WorkLifeBalance</th>\n",
       "      <th>YearsAtCompany</th>\n",
       "      <th>YearsInCurrentRole</th>\n",
       "      <th>YearsSinceLastPromotion</th>\n",
       "      <th>YearsWithCurrManager</th>\n",
       "    </tr>\n",
       "  </thead>\n",
       "  <tbody>\n",
       "    <tr>\n",
       "      <th>0</th>\n",
       "      <td>41</td>\n",
       "      <td>Yes</td>\n",
       "      <td>Travel_Rarely</td>\n",
       "      <td>Sales</td>\n",
       "      <td>1</td>\n",
       "      <td>2</td>\n",
       "      <td>Life Sciences</td>\n",
       "      <td>2</td>\n",
       "      <td>94</td>\n",
       "      <td>3</td>\n",
       "      <td>...</td>\n",
       "      <td>3</td>\n",
       "      <td>1</td>\n",
       "      <td>0</td>\n",
       "      <td>8</td>\n",
       "      <td>0</td>\n",
       "      <td>1</td>\n",
       "      <td>6</td>\n",
       "      <td>4</td>\n",
       "      <td>0</td>\n",
       "      <td>5</td>\n",
       "    </tr>\n",
       "    <tr>\n",
       "      <th>1</th>\n",
       "      <td>49</td>\n",
       "      <td>No</td>\n",
       "      <td>Travel_Frequently</td>\n",
       "      <td>Research &amp; Development</td>\n",
       "      <td>8</td>\n",
       "      <td>1</td>\n",
       "      <td>Life Sciences</td>\n",
       "      <td>3</td>\n",
       "      <td>61</td>\n",
       "      <td>2</td>\n",
       "      <td>...</td>\n",
       "      <td>4</td>\n",
       "      <td>4</td>\n",
       "      <td>1</td>\n",
       "      <td>10</td>\n",
       "      <td>3</td>\n",
       "      <td>3</td>\n",
       "      <td>10</td>\n",
       "      <td>7</td>\n",
       "      <td>1</td>\n",
       "      <td>7</td>\n",
       "    </tr>\n",
       "    <tr>\n",
       "      <th>2</th>\n",
       "      <td>37</td>\n",
       "      <td>Yes</td>\n",
       "      <td>Travel_Rarely</td>\n",
       "      <td>Research &amp; Development</td>\n",
       "      <td>2</td>\n",
       "      <td>2</td>\n",
       "      <td>Other</td>\n",
       "      <td>4</td>\n",
       "      <td>92</td>\n",
       "      <td>2</td>\n",
       "      <td>...</td>\n",
       "      <td>3</td>\n",
       "      <td>2</td>\n",
       "      <td>0</td>\n",
       "      <td>7</td>\n",
       "      <td>3</td>\n",
       "      <td>3</td>\n",
       "      <td>0</td>\n",
       "      <td>0</td>\n",
       "      <td>0</td>\n",
       "      <td>0</td>\n",
       "    </tr>\n",
       "    <tr>\n",
       "      <th>3</th>\n",
       "      <td>33</td>\n",
       "      <td>No</td>\n",
       "      <td>Travel_Frequently</td>\n",
       "      <td>Research &amp; Development</td>\n",
       "      <td>3</td>\n",
       "      <td>4</td>\n",
       "      <td>Life Sciences</td>\n",
       "      <td>4</td>\n",
       "      <td>56</td>\n",
       "      <td>3</td>\n",
       "      <td>...</td>\n",
       "      <td>3</td>\n",
       "      <td>3</td>\n",
       "      <td>0</td>\n",
       "      <td>8</td>\n",
       "      <td>3</td>\n",
       "      <td>3</td>\n",
       "      <td>8</td>\n",
       "      <td>7</td>\n",
       "      <td>3</td>\n",
       "      <td>0</td>\n",
       "    </tr>\n",
       "    <tr>\n",
       "      <th>4</th>\n",
       "      <td>27</td>\n",
       "      <td>No</td>\n",
       "      <td>Travel_Rarely</td>\n",
       "      <td>Research &amp; Development</td>\n",
       "      <td>2</td>\n",
       "      <td>1</td>\n",
       "      <td>Medical</td>\n",
       "      <td>1</td>\n",
       "      <td>40</td>\n",
       "      <td>3</td>\n",
       "      <td>...</td>\n",
       "      <td>3</td>\n",
       "      <td>4</td>\n",
       "      <td>1</td>\n",
       "      <td>6</td>\n",
       "      <td>3</td>\n",
       "      <td>3</td>\n",
       "      <td>2</td>\n",
       "      <td>2</td>\n",
       "      <td>2</td>\n",
       "      <td>2</td>\n",
       "    </tr>\n",
       "  </tbody>\n",
       "</table>\n",
       "<p>5 rows × 27 columns</p>\n",
       "</div>"
      ],
      "text/plain": [
       "   Age Attrition     BusinessTravel              Department  DistanceFromHome  \\\n",
       "0   41       Yes      Travel_Rarely                   Sales                 1   \n",
       "1   49        No  Travel_Frequently  Research & Development                 8   \n",
       "2   37       Yes      Travel_Rarely  Research & Development                 2   \n",
       "3   33        No  Travel_Frequently  Research & Development                 3   \n",
       "4   27        No      Travel_Rarely  Research & Development                 2   \n",
       "\n",
       "   Education EducationField  EnvironmentSatisfaction  HourlyRate  \\\n",
       "0          2  Life Sciences                        2          94   \n",
       "1          1  Life Sciences                        3          61   \n",
       "2          2          Other                        4          92   \n",
       "3          4  Life Sciences                        4          56   \n",
       "4          1        Medical                        1          40   \n",
       "\n",
       "   JobInvolvement  ...  PerformanceRating RelationshipSatisfaction  \\\n",
       "0               3  ...                  3                        1   \n",
       "1               2  ...                  4                        4   \n",
       "2               2  ...                  3                        2   \n",
       "3               3  ...                  3                        3   \n",
       "4               3  ...                  3                        4   \n",
       "\n",
       "   StockOptionLevel TotalWorkingYears  TrainingTimesLastYear WorkLifeBalance  \\\n",
       "0                 0                 8                      0               1   \n",
       "1                 1                10                      3               3   \n",
       "2                 0                 7                      3               3   \n",
       "3                 0                 8                      3               3   \n",
       "4                 1                 6                      3               3   \n",
       "\n",
       "   YearsAtCompany  YearsInCurrentRole  YearsSinceLastPromotion  \\\n",
       "0               6                   4                        0   \n",
       "1              10                   7                        1   \n",
       "2               0                   0                        0   \n",
       "3               8                   7                        3   \n",
       "4               2                   2                        2   \n",
       "\n",
       "   YearsWithCurrManager  \n",
       "0                     5  \n",
       "1                     7  \n",
       "2                     0  \n",
       "3                     0  \n",
       "4                     2  \n",
       "\n",
       "[5 rows x 27 columns]"
      ]
     },
     "execution_count": 1,
     "metadata": {},
     "output_type": "execute_result"
    }
   ],
   "source": [
    "# Import our dependencies\n",
    "from sklearn.model_selection import train_test_split\n",
    "from sklearn.preprocessing import StandardScaler\n",
    "import pandas as pd\n",
    "import numpy as np\n",
    "from tensorflow.keras.models import Model\n",
    "from tensorflow.keras import layers\n",
    "\n",
    "#  Import and read the attrition data\n",
    "attrition_df = pd.read_csv('https://static.bc-edx.com/ai/ail-v-1-0/m19/lms/datasets/attrition.csv')\n",
    "attrition_df.head()"
   ]
  },
  {
   "cell_type": "code",
   "execution_count": 2,
   "metadata": {
    "colab": {
     "base_uri": "https://localhost:8080/",
     "height": 930
    },
    "executionInfo": {
     "elapsed": 10,
     "status": "ok",
     "timestamp": 1730699226906,
     "user": {
      "displayName": "Alexander Booth",
      "userId": "02269714993535573104"
     },
     "user_tz": 360
    },
    "id": "g22aQSY4Gc3Q",
    "outputId": "e8b68509-45d8-42e0-a9db-1bdce48e4b2d"
   },
   "outputs": [
    {
     "data": {
      "text/plain": [
       "Age                         43\n",
       "Attrition                    2\n",
       "BusinessTravel               3\n",
       "Department                   3\n",
       "DistanceFromHome            29\n",
       "Education                    5\n",
       "EducationField               6\n",
       "EnvironmentSatisfaction      4\n",
       "HourlyRate                  71\n",
       "JobInvolvement               4\n",
       "JobLevel                     5\n",
       "JobRole                      9\n",
       "JobSatisfaction              4\n",
       "MaritalStatus                3\n",
       "NumCompaniesWorked          10\n",
       "OverTime                     2\n",
       "PercentSalaryHike           15\n",
       "PerformanceRating            2\n",
       "RelationshipSatisfaction     4\n",
       "StockOptionLevel             4\n",
       "TotalWorkingYears           40\n",
       "TrainingTimesLastYear        7\n",
       "WorkLifeBalance              4\n",
       "YearsAtCompany              37\n",
       "YearsInCurrentRole          19\n",
       "YearsSinceLastPromotion     16\n",
       "YearsWithCurrManager        18\n",
       "dtype: int64"
      ]
     },
     "execution_count": 2,
     "metadata": {},
     "output_type": "execute_result"
    }
   ],
   "source": [
    "# Determine the number of unique values in each column\n",
    "attrition_df.nunique()"
   ]
  },
  {
   "cell_type": "code",
   "execution_count": null,
   "metadata": {
    "executionInfo": {
     "elapsed": 7,
     "status": "ok",
     "timestamp": 1730699226906,
     "user": {
      "displayName": "Alexander Booth",
      "userId": "02269714993535573104"
     },
     "user_tz": 360
    },
    "id": "50vMgBEnJbfM"
   },
   "outputs": [],
   "source": [
    "# Create y_df with the Attrition and Department columns\n",
    "y_df = attrition_df[['Attrition', 'Department']]"
   ]
  },
  {
   "cell_type": "code",
   "execution_count": 11,
   "metadata": {},
   "outputs": [
    {
     "name": "stdout",
     "output_type": "stream",
     "text": [
      "Education             int64\n",
      "Age                   int64\n",
      "JobSatisfaction       int64\n",
      "DistanceFromHome      int64\n",
      "YearsAtCompany        int64\n",
      "NumCompaniesWorked    int64\n",
      "TotalWorkingYears     int64\n",
      "YearsInCurrentRole    int64\n",
      "WorkLifeBalance       int64\n",
      "StockOptionLevel      int64\n",
      "dtype: object\n"
     ]
    }
   ],
   "source": [
    "#create a list of the education and age columns to be used as features  \n",
    "X = attrition_df[['Education', 'Age', 'JobSatisfaction', 'DistanceFromHome', 'YearsAtCompany', 'NumCompaniesWorked', 'TotalWorkingYears', 'YearsInCurrentRole', 'WorkLifeBalance', 'StockOptionLevel']]\n",
    "X_df = X\n",
    "print(X_df.dtypes)"
   ]
  },
  {
   "cell_type": "code",
   "execution_count": null,
   "metadata": {
    "colab": {
     "base_uri": "https://localhost:8080/",
     "height": 397
    },
    "executionInfo": {
     "elapsed": 125,
     "status": "ok",
     "timestamp": 1730699227025,
     "user": {
      "displayName": "Alexander Booth",
      "userId": "02269714993535573104"
     },
     "user_tz": 360
    },
    "id": "Virka0zLGc3R",
    "outputId": "24f181c9-7e2e-42cb-94e8-a75842f1ab01"
   },
   "outputs": [
    {
     "data": {
      "text/plain": [
       "Education             int64\n",
       "Age                   int64\n",
       "JobSatisfaction       int64\n",
       "DistanceFromHome      int64\n",
       "YearsAtCompany        int64\n",
       "NumCompaniesWorked    int64\n",
       "TotalWorkingYears     int64\n",
       "YearsInCurrentRole    int64\n",
       "WorkLifeBalance       int64\n",
       "StockOptionLevel      int64\n",
       "dtype: object"
      ]
     },
     "execution_count": 17,
     "metadata": {},
     "output_type": "execute_result"
    }
   ],
   "source": [
    "# Create a list of at least 10 column names to use as X data\n",
    "X = attrition_df[['Education', 'Age', 'JobSatisfaction', 'DistanceFromHome', 'YearsAtCompany', 'NumCompaniesWorked', 'TotalWorkingYears', 'YearsInCurrentRole', 'WorkLifeBalance', 'StockOptionLevel']]\n",
    "\n",
    "# Create X_df using your selected columns\n",
    "X_df = X\n",
    "\n",
    "# Show the data types for X_df\n",
    "X_df.dtypes.head(10)"
   ]
  },
  {
   "cell_type": "code",
   "execution_count": 20,
   "metadata": {
    "executionInfo": {
     "elapsed": 9,
     "status": "ok",
     "timestamp": 1730699227025,
     "user": {
      "displayName": "Alexander Booth",
      "userId": "02269714993535573104"
     },
     "user_tz": 360
    },
    "id": "KaJfdOGUMHMR"
   },
   "outputs": [],
   "source": [
    "# Split the data into training and testing sets\n",
    "from sklearn.model_selection import train_test_split\n",
    "X_train, X_test, y_train, y_test = train_test_split(X_df, y_df, test_size=0.2, random_state=42)\n"
   ]
  },
  {
   "cell_type": "code",
   "execution_count": null,
   "metadata": {
    "colab": {
     "base_uri": "https://localhost:8080/",
     "height": 178
    },
    "executionInfo": {
     "elapsed": 8,
     "status": "ok",
     "timestamp": 1730699227025,
     "user": {
      "displayName": "Alexander Booth",
      "userId": "02269714993535573104"
     },
     "user_tz": 360
    },
    "id": "NYubUJqiLCSp",
    "outputId": "6116187c-4afa-4d4a-aeb9-fdc2131d0d58"
   },
   "outputs": [
    {
     "data": {
      "text/plain": [
       "Education             int64\n",
       "Age                   int64\n",
       "JobSatisfaction       int64\n",
       "DistanceFromHome      int64\n",
       "YearsAtCompany        int64\n",
       "NumCompaniesWorked    int64\n",
       "TotalWorkingYears     int64\n",
       "YearsInCurrentRole    int64\n",
       "WorkLifeBalance       int64\n",
       "StockOptionLevel      int64\n",
       "dtype: object"
      ]
     },
     "execution_count": 24,
     "metadata": {},
     "output_type": "execute_result"
    }
   ],
   "source": [
    "# Convert your X data to numeric data types however you see fit\n",
    "# Add new code cells as necessary\n",
    "X_train.dtypes.head(10)\n",
    "X_test.dtypes.head(10)"
   ]
  },
  {
   "cell_type": "code",
   "execution_count": 25,
   "metadata": {
    "executionInfo": {
     "elapsed": 6,
     "status": "ok",
     "timestamp": 1730699227162,
     "user": {
      "displayName": "Alexander Booth",
      "userId": "02269714993535573104"
     },
     "user_tz": 360
    },
    "id": "EWA-aIA5Gc3T"
   },
   "outputs": [],
   "source": [
    "# Create a StandardScaler\n",
    "from sklearn.preprocessing import StandardScaler\n",
    "\n",
    "# Fit the StandardScaler to the training data\n",
    "scaler = StandardScaler()\n",
    "scaler.fit(X_train)\n",
    "\n",
    "# Scale the training and testing data\n",
    "X_train_scaled = pd.DataFrame(\n",
    "    scaler.transform(X_train),\n",
    "    columns=X_train.columns,\n",
    "    index=X_train.index\n",
    ")\n",
    "X_test_scaled = pd.DataFrame(\n",
    "    scaler.transform(X_test),\n",
    "    columns=X_test.columns,\n",
    "    index=X_test.index\n",
    ")"
   ]
  },
  {
   "cell_type": "code",
   "execution_count": 26,
   "metadata": {},
   "outputs": [
    {
     "name": "stdout",
     "output_type": "stream",
     "text": [
      "      Education       Age  JobSatisfaction  DistanceFromHome  YearsAtCompany  \\\n",
      "1097  -0.863356 -1.388559        -1.582336          1.440396       -0.974263   \n",
      "727   -0.863356 -2.040738         1.152834         -0.522699       -1.138573   \n",
      "254   -0.863356 -0.845077         1.152834          1.317703       -0.645643   \n",
      "1175   0.099933  0.241886        -0.670613          0.336155       -0.317023   \n",
      "1341   0.099933 -0.627685         0.241111          1.317703        0.504527   \n",
      "\n",
      "      NumCompaniesWorked  TotalWorkingYears  YearsInCurrentRole  \\\n",
      "1097           -1.059168          -1.167368           -0.888208   \n",
      "727            -0.659431          -1.423397           -1.165051   \n",
      "254            -0.259693          -0.143254           -0.611364   \n",
      "1175            0.539781          -0.527297           -0.057676   \n",
      "1341           -0.659431          -0.143254            1.049700   \n",
      "\n",
      "      WorkLifeBalance  StockOptionLevel  \n",
      "1097         0.357435          2.547471  \n",
      "727          0.357435         -0.945525  \n",
      "254          0.357435          0.218807  \n",
      "1175         0.357435         -0.945525  \n",
      "1341         0.357435          0.218807  \n"
     ]
    }
   ],
   "source": [
    "print(X_train_scaled.head())"
   ]
  },
  {
   "cell_type": "code",
   "execution_count": 41,
   "metadata": {
    "colab": {
     "base_uri": "https://localhost:8080/"
    },
    "executionInfo": {
     "elapsed": 99,
     "status": "ok",
     "timestamp": 1730699227256,
     "user": {
      "displayName": "Alexander Booth",
      "userId": "02269714993535573104"
     },
     "user_tz": 360
    },
    "id": "-z0Mky8vQSz4",
    "outputId": "5024d63f-7e4e-4a91-fb76-0b2c79c1bcfb"
   },
   "outputs": [
    {
     "data": {
      "text/plain": [
       "array([[0., 1., 0.],\n",
       "       [0., 1., 0.],\n",
       "       [0., 0., 1.],\n",
       "       ...,\n",
       "       [0., 1., 0.],\n",
       "       [0., 1., 0.],\n",
       "       [0., 0., 1.]])"
      ]
     },
     "execution_count": 41,
     "metadata": {},
     "output_type": "execute_result"
    }
   ],
   "source": [
    "from sklearn.preprocessing import OneHotEncoder\n",
    "\n",
    "# Create a OneHotEncoder for the Department column\n",
    "department_encoder = OneHotEncoder(sparse_output=False)\n",
    "\n",
    "# Fit the encoder to the training data\n",
    "department_encoder.fit(y_train[['Department']])\n",
    "department_columns = department_encoder.get_feature_names_out(['Department'])\n",
    "\n",
    "# Create two new variables by applying the encoder\n",
    "# to the training and testing data\n",
    "y_train_dept_encoded = department_encoder.transform(y_train[['Department']])\n",
    "y_test_dept_encoded = department_encoder.transform(y_test[['Department']])\n",
    "\n",
    "y_train_dept_encoded"
   ]
  },
  {
   "cell_type": "code",
   "execution_count": 40,
   "metadata": {},
   "outputs": [
    {
     "data": {
      "text/plain": [
       "array(['Department_Human Resources', 'Department_Research & Development',\n",
       "       'Department_Sales'], dtype=object)"
      ]
     },
     "execution_count": 40,
     "metadata": {},
     "output_type": "execute_result"
    }
   ],
   "source": [
    "department_columns"
   ]
  },
  {
   "cell_type": "code",
   "execution_count": 44,
   "metadata": {
    "colab": {
     "base_uri": "https://localhost:8080/"
    },
    "executionInfo": {
     "elapsed": 5,
     "status": "ok",
     "timestamp": 1730699227257,
     "user": {
      "displayName": "Alexander Booth",
      "userId": "02269714993535573104"
     },
     "user_tz": 360
    },
    "id": "-G4DSpvFRrk4",
    "outputId": "1821049e-a4f0-437f-b8a7-e415431fbdb0"
   },
   "outputs": [
    {
     "data": {
      "text/plain": [
       "array([[1., 0.],\n",
       "       [1., 0.],\n",
       "       [1., 0.],\n",
       "       ...,\n",
       "       [0., 1.],\n",
       "       [1., 0.],\n",
       "       [1., 0.]])"
      ]
     },
     "execution_count": 44,
     "metadata": {},
     "output_type": "execute_result"
    }
   ],
   "source": [
    "# Create a OneHotEncoder for the Attrition column\n",
    "attrition_encoder = OneHotEncoder(sparse_output=False)\n",
    "\n",
    "# Fit the encoder to the training data\n",
    "attrition_encoder.fit(y_train[['Attrition']])\n",
    "attrition_columns = attrition_encoder.get_feature_names_out(['Attrition'])\n",
    "\n",
    "# Create two new variables by applying the encoder\n",
    "# to the training and testing data\n",
    "y_train_attr_encoded = attrition_encoder.transform(y_train[['Attrition']])\n",
    "y_test_attr_encoded = attrition_encoder.transform(y_test[['Attrition']])\n",
    "\n",
    "y_train_attr_encoded"
   ]
  },
  {
   "cell_type": "code",
   "execution_count": 43,
   "metadata": {},
   "outputs": [
    {
     "data": {
      "text/plain": [
       "array(['Attrition_No', 'Attrition_Yes'], dtype=object)"
      ]
     },
     "execution_count": 43,
     "metadata": {},
     "output_type": "execute_result"
    }
   ],
   "source": [
    "attrition_columns"
   ]
  },
  {
   "cell_type": "markdown",
   "metadata": {
    "id": "ykNmu_WWGc3T"
   },
   "source": [
    "## Part 2: Create, Compile, and Train the Model"
   ]
  },
  {
   "cell_type": "code",
   "execution_count": 55,
   "metadata": {
    "executionInfo": {
     "elapsed": 309,
     "status": "ok",
     "timestamp": 1730699227563,
     "user": {
      "displayName": "Alexander Booth",
      "userId": "02269714993535573104"
     },
     "user_tz": 360
    },
    "id": "WUptZqmSGc3T"
   },
   "outputs": [],
   "source": [
    "# Find the number of columns in the X training data.\n",
    "X_train_scaled.shape\n",
    "\n",
    "# Create the input layer\n",
    "input_layer = layers.Input(shape=(X_train_scaled.shape[1],),name='input_features')\n",
    "# Create the first hidden layer\n",
    "hidden_layer_1 = layers.Dense(64, activation='relu', name='hidden_layer_1')(input_layer)\n",
    "# Create at least two shared layers\n",
    "shared_layer1 = layers.Dense(64, activation='relu', name='shared_layer_1')(hidden_layer_1)\n",
    "shared_layer2 = layers.Dense(128, activation='relu', name='shared_layer_2')(shared_layer1)"
   ]
  },
  {
   "cell_type": "code",
   "execution_count": 56,
   "metadata": {
    "executionInfo": {
     "elapsed": 118,
     "status": "ok",
     "timestamp": 1730699227678,
     "user": {
      "displayName": "Alexander Booth",
      "userId": "02269714993535573104"
     },
     "user_tz": 360
    },
    "id": "JukjTm2yTEqd"
   },
   "outputs": [],
   "source": [
    "# Create a branch for Department\n",
    "# with a hidden layer and an output layer\n",
    "\n",
    "# Create the hidden layer\n",
    "dept_hidden_layer = layers.Dense(32, activation='relu', name='dept_hidden_layer')(shared_layer2)\n",
    "\n",
    "# Create the output layer\n",
    "department_output = layers.Dense(3, activation='softmax', name='department_output')(dept_hidden_layer)"
   ]
  },
  {
   "cell_type": "code",
   "execution_count": 57,
   "metadata": {
    "executionInfo": {
     "elapsed": 9,
     "status": "ok",
     "timestamp": 1730699227679,
     "user": {
      "displayName": "Alexander Booth",
      "userId": "02269714993535573104"
     },
     "user_tz": 360
    },
    "id": "9OqhUiOJUBkR"
   },
   "outputs": [],
   "source": [
    "# Create a branch for Attrition\n",
    "# with a hidden layer and an output layer\n",
    "\n",
    "# Create the hidden layer\n",
    "attr_hidden_layer = layers.Dense(32, activation='relu', name='attr_hidden_layer')(shared_layer2)\n",
    "\n",
    "# Create the output layer\n",
    "attrition_output = layers.Dense(2, activation='sigmoid', name='attrition_output')(attr_hidden_layer)"
   ]
  },
  {
   "cell_type": "code",
   "execution_count": 58,
   "metadata": {},
   "outputs": [
    {
     "data": {
      "text/html": [
       "<pre style=\"white-space:pre;overflow-x:auto;line-height:normal;font-family:Menlo,'DejaVu Sans Mono',consolas,'Courier New',monospace\"><span style=\"font-weight: bold\">Model: \"functional_2\"</span>\n",
       "</pre>\n"
      ],
      "text/plain": [
       "\u001b[1mModel: \"functional_2\"\u001b[0m\n"
      ]
     },
     "metadata": {},
     "output_type": "display_data"
    },
    {
     "data": {
      "text/html": [
       "<pre style=\"white-space:pre;overflow-x:auto;line-height:normal;font-family:Menlo,'DejaVu Sans Mono',consolas,'Courier New',monospace\">┏━━━━━━━━━━━━━━━━━━━━━┳━━━━━━━━━━━━━━━━━━━┳━━━━━━━━━━━━┳━━━━━━━━━━━━━━━━━━━┓\n",
       "┃<span style=\"font-weight: bold\"> Layer (type)        </span>┃<span style=\"font-weight: bold\"> Output Shape      </span>┃<span style=\"font-weight: bold\">    Param # </span>┃<span style=\"font-weight: bold\"> Connected to      </span>┃\n",
       "┡━━━━━━━━━━━━━━━━━━━━━╇━━━━━━━━━━━━━━━━━━━╇━━━━━━━━━━━━╇━━━━━━━━━━━━━━━━━━━┩\n",
       "│ input_features      │ (<span style=\"color: #00d7ff; text-decoration-color: #00d7ff\">None</span>, <span style=\"color: #00af00; text-decoration-color: #00af00\">10</span>)        │          <span style=\"color: #00af00; text-decoration-color: #00af00\">0</span> │ -                 │\n",
       "│ (<span style=\"color: #0087ff; text-decoration-color: #0087ff\">InputLayer</span>)        │                   │            │                   │\n",
       "├─────────────────────┼───────────────────┼────────────┼───────────────────┤\n",
       "│ hidden_layer_1      │ (<span style=\"color: #00d7ff; text-decoration-color: #00d7ff\">None</span>, <span style=\"color: #00af00; text-decoration-color: #00af00\">64</span>)        │        <span style=\"color: #00af00; text-decoration-color: #00af00\">704</span> │ input_features[<span style=\"color: #00af00; text-decoration-color: #00af00\">0</span>… │\n",
       "│ (<span style=\"color: #0087ff; text-decoration-color: #0087ff\">Dense</span>)             │                   │            │                   │\n",
       "├─────────────────────┼───────────────────┼────────────┼───────────────────┤\n",
       "│ shared_layer_1      │ (<span style=\"color: #00d7ff; text-decoration-color: #00d7ff\">None</span>, <span style=\"color: #00af00; text-decoration-color: #00af00\">64</span>)        │      <span style=\"color: #00af00; text-decoration-color: #00af00\">4,160</span> │ hidden_layer_1[<span style=\"color: #00af00; text-decoration-color: #00af00\">0</span>… │\n",
       "│ (<span style=\"color: #0087ff; text-decoration-color: #0087ff\">Dense</span>)             │                   │            │                   │\n",
       "├─────────────────────┼───────────────────┼────────────┼───────────────────┤\n",
       "│ shared_layer_2      │ (<span style=\"color: #00d7ff; text-decoration-color: #00d7ff\">None</span>, <span style=\"color: #00af00; text-decoration-color: #00af00\">128</span>)       │      <span style=\"color: #00af00; text-decoration-color: #00af00\">8,320</span> │ shared_layer_1[<span style=\"color: #00af00; text-decoration-color: #00af00\">0</span>… │\n",
       "│ (<span style=\"color: #0087ff; text-decoration-color: #0087ff\">Dense</span>)             │                   │            │                   │\n",
       "├─────────────────────┼───────────────────┼────────────┼───────────────────┤\n",
       "│ dept_hidden_layer   │ (<span style=\"color: #00d7ff; text-decoration-color: #00d7ff\">None</span>, <span style=\"color: #00af00; text-decoration-color: #00af00\">32</span>)        │      <span style=\"color: #00af00; text-decoration-color: #00af00\">4,128</span> │ shared_layer_2[<span style=\"color: #00af00; text-decoration-color: #00af00\">0</span>… │\n",
       "│ (<span style=\"color: #0087ff; text-decoration-color: #0087ff\">Dense</span>)             │                   │            │                   │\n",
       "├─────────────────────┼───────────────────┼────────────┼───────────────────┤\n",
       "│ attr_hidden_layer   │ (<span style=\"color: #00d7ff; text-decoration-color: #00d7ff\">None</span>, <span style=\"color: #00af00; text-decoration-color: #00af00\">32</span>)        │      <span style=\"color: #00af00; text-decoration-color: #00af00\">4,128</span> │ shared_layer_2[<span style=\"color: #00af00; text-decoration-color: #00af00\">0</span>… │\n",
       "│ (<span style=\"color: #0087ff; text-decoration-color: #0087ff\">Dense</span>)             │                   │            │                   │\n",
       "├─────────────────────┼───────────────────┼────────────┼───────────────────┤\n",
       "│ department_output   │ (<span style=\"color: #00d7ff; text-decoration-color: #00d7ff\">None</span>, <span style=\"color: #00af00; text-decoration-color: #00af00\">3</span>)         │         <span style=\"color: #00af00; text-decoration-color: #00af00\">99</span> │ dept_hidden_laye… │\n",
       "│ (<span style=\"color: #0087ff; text-decoration-color: #0087ff\">Dense</span>)             │                   │            │                   │\n",
       "├─────────────────────┼───────────────────┼────────────┼───────────────────┤\n",
       "│ attrition_output    │ (<span style=\"color: #00d7ff; text-decoration-color: #00d7ff\">None</span>, <span style=\"color: #00af00; text-decoration-color: #00af00\">2</span>)         │         <span style=\"color: #00af00; text-decoration-color: #00af00\">66</span> │ attr_hidden_laye… │\n",
       "│ (<span style=\"color: #0087ff; text-decoration-color: #0087ff\">Dense</span>)             │                   │            │                   │\n",
       "└─────────────────────┴───────────────────┴────────────┴───────────────────┘\n",
       "</pre>\n"
      ],
      "text/plain": [
       "┏━━━━━━━━━━━━━━━━━━━━━┳━━━━━━━━━━━━━━━━━━━┳━━━━━━━━━━━━┳━━━━━━━━━━━━━━━━━━━┓\n",
       "┃\u001b[1m \u001b[0m\u001b[1mLayer (type)       \u001b[0m\u001b[1m \u001b[0m┃\u001b[1m \u001b[0m\u001b[1mOutput Shape     \u001b[0m\u001b[1m \u001b[0m┃\u001b[1m \u001b[0m\u001b[1m   Param #\u001b[0m\u001b[1m \u001b[0m┃\u001b[1m \u001b[0m\u001b[1mConnected to     \u001b[0m\u001b[1m \u001b[0m┃\n",
       "┡━━━━━━━━━━━━━━━━━━━━━╇━━━━━━━━━━━━━━━━━━━╇━━━━━━━━━━━━╇━━━━━━━━━━━━━━━━━━━┩\n",
       "│ input_features      │ (\u001b[38;5;45mNone\u001b[0m, \u001b[38;5;34m10\u001b[0m)        │          \u001b[38;5;34m0\u001b[0m │ -                 │\n",
       "│ (\u001b[38;5;33mInputLayer\u001b[0m)        │                   │            │                   │\n",
       "├─────────────────────┼───────────────────┼────────────┼───────────────────┤\n",
       "│ hidden_layer_1      │ (\u001b[38;5;45mNone\u001b[0m, \u001b[38;5;34m64\u001b[0m)        │        \u001b[38;5;34m704\u001b[0m │ input_features[\u001b[38;5;34m0\u001b[0m… │\n",
       "│ (\u001b[38;5;33mDense\u001b[0m)             │                   │            │                   │\n",
       "├─────────────────────┼───────────────────┼────────────┼───────────────────┤\n",
       "│ shared_layer_1      │ (\u001b[38;5;45mNone\u001b[0m, \u001b[38;5;34m64\u001b[0m)        │      \u001b[38;5;34m4,160\u001b[0m │ hidden_layer_1[\u001b[38;5;34m0\u001b[0m… │\n",
       "│ (\u001b[38;5;33mDense\u001b[0m)             │                   │            │                   │\n",
       "├─────────────────────┼───────────────────┼────────────┼───────────────────┤\n",
       "│ shared_layer_2      │ (\u001b[38;5;45mNone\u001b[0m, \u001b[38;5;34m128\u001b[0m)       │      \u001b[38;5;34m8,320\u001b[0m │ shared_layer_1[\u001b[38;5;34m0\u001b[0m… │\n",
       "│ (\u001b[38;5;33mDense\u001b[0m)             │                   │            │                   │\n",
       "├─────────────────────┼───────────────────┼────────────┼───────────────────┤\n",
       "│ dept_hidden_layer   │ (\u001b[38;5;45mNone\u001b[0m, \u001b[38;5;34m32\u001b[0m)        │      \u001b[38;5;34m4,128\u001b[0m │ shared_layer_2[\u001b[38;5;34m0\u001b[0m… │\n",
       "│ (\u001b[38;5;33mDense\u001b[0m)             │                   │            │                   │\n",
       "├─────────────────────┼───────────────────┼────────────┼───────────────────┤\n",
       "│ attr_hidden_layer   │ (\u001b[38;5;45mNone\u001b[0m, \u001b[38;5;34m32\u001b[0m)        │      \u001b[38;5;34m4,128\u001b[0m │ shared_layer_2[\u001b[38;5;34m0\u001b[0m… │\n",
       "│ (\u001b[38;5;33mDense\u001b[0m)             │                   │            │                   │\n",
       "├─────────────────────┼───────────────────┼────────────┼───────────────────┤\n",
       "│ department_output   │ (\u001b[38;5;45mNone\u001b[0m, \u001b[38;5;34m3\u001b[0m)         │         \u001b[38;5;34m99\u001b[0m │ dept_hidden_laye… │\n",
       "│ (\u001b[38;5;33mDense\u001b[0m)             │                   │            │                   │\n",
       "├─────────────────────┼───────────────────┼────────────┼───────────────────┤\n",
       "│ attrition_output    │ (\u001b[38;5;45mNone\u001b[0m, \u001b[38;5;34m2\u001b[0m)         │         \u001b[38;5;34m66\u001b[0m │ attr_hidden_laye… │\n",
       "│ (\u001b[38;5;33mDense\u001b[0m)             │                   │            │                   │\n",
       "└─────────────────────┴───────────────────┴────────────┴───────────────────┘\n"
      ]
     },
     "metadata": {},
     "output_type": "display_data"
    },
    {
     "data": {
      "text/html": [
       "<pre style=\"white-space:pre;overflow-x:auto;line-height:normal;font-family:Menlo,'DejaVu Sans Mono',consolas,'Courier New',monospace\"><span style=\"font-weight: bold\"> Total params: </span><span style=\"color: #00af00; text-decoration-color: #00af00\">21,605</span> (84.39 KB)\n",
       "</pre>\n"
      ],
      "text/plain": [
       "\u001b[1m Total params: \u001b[0m\u001b[38;5;34m21,605\u001b[0m (84.39 KB)\n"
      ]
     },
     "metadata": {},
     "output_type": "display_data"
    },
    {
     "data": {
      "text/html": [
       "<pre style=\"white-space:pre;overflow-x:auto;line-height:normal;font-family:Menlo,'DejaVu Sans Mono',consolas,'Courier New',monospace\"><span style=\"font-weight: bold\"> Trainable params: </span><span style=\"color: #00af00; text-decoration-color: #00af00\">21,605</span> (84.39 KB)\n",
       "</pre>\n"
      ],
      "text/plain": [
       "\u001b[1m Trainable params: \u001b[0m\u001b[38;5;34m21,605\u001b[0m (84.39 KB)\n"
      ]
     },
     "metadata": {},
     "output_type": "display_data"
    },
    {
     "data": {
      "text/html": [
       "<pre style=\"white-space:pre;overflow-x:auto;line-height:normal;font-family:Menlo,'DejaVu Sans Mono',consolas,'Courier New',monospace\"><span style=\"font-weight: bold\"> Non-trainable params: </span><span style=\"color: #00af00; text-decoration-color: #00af00\">0</span> (0.00 B)\n",
       "</pre>\n"
      ],
      "text/plain": [
       "\u001b[1m Non-trainable params: \u001b[0m\u001b[38;5;34m0\u001b[0m (0.00 B)\n"
      ]
     },
     "metadata": {},
     "output_type": "display_data"
    }
   ],
   "source": [
    "\n",
    "model = Model(inputs=input_layer, outputs=[department_output, attrition_output])\n",
    "model.compile(optimizer='adam',\n",
    "              loss={'department_output': 'categorical_crossentropy', 'attrition_output': 'binary_crossentropy'},\n",
    "              metrics={'department_output': 'accuracy', 'attrition_output': 'accuracy'})\n",
    "model.summary()"
   ]
  },
  {
   "cell_type": "code",
   "execution_count": null,
   "metadata": {
    "colab": {
     "base_uri": "https://localhost:8080/",
     "height": 361
    },
    "executionInfo": {
     "elapsed": 108,
     "status": "ok",
     "timestamp": 1730699227780,
     "user": {
      "displayName": "Alexander Booth",
      "userId": "02269714993535573104"
     },
     "user_tz": 360
    },
    "id": "twmuejdxGc3T",
    "outputId": "dd9ce242-6a66-4709-ba13-4b13551c22e0"
   },
   "outputs": [
    {
     "data": {
      "text/html": [
       "<pre style=\"white-space:pre;overflow-x:auto;line-height:normal;font-family:Menlo,'DejaVu Sans Mono',consolas,'Courier New',monospace\"><span style=\"font-weight: bold\">Model: \"functional\"</span>\n",
       "</pre>\n"
      ],
      "text/plain": [
       "\u001b[1mModel: \"functional\"\u001b[0m\n"
      ]
     },
     "metadata": {},
     "output_type": "display_data"
    },
    {
     "data": {
      "text/html": [
       "<pre style=\"white-space:pre;overflow-x:auto;line-height:normal;font-family:Menlo,'DejaVu Sans Mono',consolas,'Courier New',monospace\">┏━━━━━━━━━━━━━━━━━━━━━━━━━━━┳━━━━━━━━━━━━━━━━━━━━━━━━┳━━━━━━━━━━━━━━━━┳━━━━━━━━━━━━━━━━━━━━━━━━┓\n",
       "┃<span style=\"font-weight: bold\"> Layer (type)              </span>┃<span style=\"font-weight: bold\"> Output Shape           </span>┃<span style=\"font-weight: bold\">        Param # </span>┃<span style=\"font-weight: bold\"> Connected to           </span>┃\n",
       "┡━━━━━━━━━━━━━━━━━━━━━━━━━━━╇━━━━━━━━━━━━━━━━━━━━━━━━╇━━━━━━━━━━━━━━━━╇━━━━━━━━━━━━━━━━━━━━━━━━┩\n",
       "│ input (<span style=\"color: #0087ff; text-decoration-color: #0087ff\">InputLayer</span>)        │ (<span style=\"color: #00d7ff; text-decoration-color: #00d7ff\">None</span>, <span style=\"color: #00af00; text-decoration-color: #00af00\">10</span>)             │              <span style=\"color: #00af00; text-decoration-color: #00af00\">0</span> │ -                      │\n",
       "├───────────────────────────┼────────────────────────┼────────────────┼────────────────────────┤\n",
       "│ shared1 (<span style=\"color: #0087ff; text-decoration-color: #0087ff\">Dense</span>)           │ (<span style=\"color: #00d7ff; text-decoration-color: #00d7ff\">None</span>, <span style=\"color: #00af00; text-decoration-color: #00af00\">64</span>)             │            <span style=\"color: #00af00; text-decoration-color: #00af00\">704</span> │ input[<span style=\"color: #00af00; text-decoration-color: #00af00\">0</span>][<span style=\"color: #00af00; text-decoration-color: #00af00\">0</span>]            │\n",
       "├───────────────────────────┼────────────────────────┼────────────────┼────────────────────────┤\n",
       "│ shared2 (<span style=\"color: #0087ff; text-decoration-color: #0087ff\">Dense</span>)           │ (<span style=\"color: #00d7ff; text-decoration-color: #00d7ff\">None</span>, <span style=\"color: #00af00; text-decoration-color: #00af00\">128</span>)            │          <span style=\"color: #00af00; text-decoration-color: #00af00\">8,320</span> │ shared1[<span style=\"color: #00af00; text-decoration-color: #00af00\">0</span>][<span style=\"color: #00af00; text-decoration-color: #00af00\">0</span>]          │\n",
       "├───────────────────────────┼────────────────────────┼────────────────┼────────────────────────┤\n",
       "│ attrition_hidden (<span style=\"color: #0087ff; text-decoration-color: #0087ff\">Dense</span>)  │ (<span style=\"color: #00d7ff; text-decoration-color: #00d7ff\">None</span>, <span style=\"color: #00af00; text-decoration-color: #00af00\">32</span>)             │          <span style=\"color: #00af00; text-decoration-color: #00af00\">4,128</span> │ shared2[<span style=\"color: #00af00; text-decoration-color: #00af00\">0</span>][<span style=\"color: #00af00; text-decoration-color: #00af00\">0</span>]          │\n",
       "├───────────────────────────┼────────────────────────┼────────────────┼────────────────────────┤\n",
       "│ department_hidden (<span style=\"color: #0087ff; text-decoration-color: #0087ff\">Dense</span>) │ (<span style=\"color: #00d7ff; text-decoration-color: #00d7ff\">None</span>, <span style=\"color: #00af00; text-decoration-color: #00af00\">32</span>)             │          <span style=\"color: #00af00; text-decoration-color: #00af00\">4,128</span> │ shared2[<span style=\"color: #00af00; text-decoration-color: #00af00\">0</span>][<span style=\"color: #00af00; text-decoration-color: #00af00\">0</span>]          │\n",
       "├───────────────────────────┼────────────────────────┼────────────────┼────────────────────────┤\n",
       "│ attrition_output (<span style=\"color: #0087ff; text-decoration-color: #0087ff\">Dense</span>)  │ (<span style=\"color: #00d7ff; text-decoration-color: #00d7ff\">None</span>, <span style=\"color: #00af00; text-decoration-color: #00af00\">2</span>)              │             <span style=\"color: #00af00; text-decoration-color: #00af00\">66</span> │ attrition_hidden[<span style=\"color: #00af00; text-decoration-color: #00af00\">0</span>][<span style=\"color: #00af00; text-decoration-color: #00af00\">0</span>] │\n",
       "├───────────────────────────┼────────────────────────┼────────────────┼────────────────────────┤\n",
       "│ department_output (<span style=\"color: #0087ff; text-decoration-color: #0087ff\">Dense</span>) │ (<span style=\"color: #00d7ff; text-decoration-color: #00d7ff\">None</span>, <span style=\"color: #00af00; text-decoration-color: #00af00\">3</span>)              │             <span style=\"color: #00af00; text-decoration-color: #00af00\">99</span> │ department_hidden[<span style=\"color: #00af00; text-decoration-color: #00af00\">0</span>][<span style=\"color: #00af00; text-decoration-color: #00af00\">…</span> │\n",
       "└───────────────────────────┴────────────────────────┴────────────────┴────────────────────────┘\n",
       "</pre>\n"
      ],
      "text/plain": [
       "┏━━━━━━━━━━━━━━━━━━━━━━━━━━━┳━━━━━━━━━━━━━━━━━━━━━━━━┳━━━━━━━━━━━━━━━━┳━━━━━━━━━━━━━━━━━━━━━━━━┓\n",
       "┃\u001b[1m \u001b[0m\u001b[1mLayer (type)             \u001b[0m\u001b[1m \u001b[0m┃\u001b[1m \u001b[0m\u001b[1mOutput Shape          \u001b[0m\u001b[1m \u001b[0m┃\u001b[1m \u001b[0m\u001b[1m       Param #\u001b[0m\u001b[1m \u001b[0m┃\u001b[1m \u001b[0m\u001b[1mConnected to          \u001b[0m\u001b[1m \u001b[0m┃\n",
       "┡━━━━━━━━━━━━━━━━━━━━━━━━━━━╇━━━━━━━━━━━━━━━━━━━━━━━━╇━━━━━━━━━━━━━━━━╇━━━━━━━━━━━━━━━━━━━━━━━━┩\n",
       "│ input (\u001b[38;5;33mInputLayer\u001b[0m)        │ (\u001b[38;5;45mNone\u001b[0m, \u001b[38;5;34m10\u001b[0m)             │              \u001b[38;5;34m0\u001b[0m │ -                      │\n",
       "├───────────────────────────┼────────────────────────┼────────────────┼────────────────────────┤\n",
       "│ shared1 (\u001b[38;5;33mDense\u001b[0m)           │ (\u001b[38;5;45mNone\u001b[0m, \u001b[38;5;34m64\u001b[0m)             │            \u001b[38;5;34m704\u001b[0m │ input[\u001b[38;5;34m0\u001b[0m][\u001b[38;5;34m0\u001b[0m]            │\n",
       "├───────────────────────────┼────────────────────────┼────────────────┼────────────────────────┤\n",
       "│ shared2 (\u001b[38;5;33mDense\u001b[0m)           │ (\u001b[38;5;45mNone\u001b[0m, \u001b[38;5;34m128\u001b[0m)            │          \u001b[38;5;34m8,320\u001b[0m │ shared1[\u001b[38;5;34m0\u001b[0m][\u001b[38;5;34m0\u001b[0m]          │\n",
       "├───────────────────────────┼────────────────────────┼────────────────┼────────────────────────┤\n",
       "│ attrition_hidden (\u001b[38;5;33mDense\u001b[0m)  │ (\u001b[38;5;45mNone\u001b[0m, \u001b[38;5;34m32\u001b[0m)             │          \u001b[38;5;34m4,128\u001b[0m │ shared2[\u001b[38;5;34m0\u001b[0m][\u001b[38;5;34m0\u001b[0m]          │\n",
       "├───────────────────────────┼────────────────────────┼────────────────┼────────────────────────┤\n",
       "│ department_hidden (\u001b[38;5;33mDense\u001b[0m) │ (\u001b[38;5;45mNone\u001b[0m, \u001b[38;5;34m32\u001b[0m)             │          \u001b[38;5;34m4,128\u001b[0m │ shared2[\u001b[38;5;34m0\u001b[0m][\u001b[38;5;34m0\u001b[0m]          │\n",
       "├───────────────────────────┼────────────────────────┼────────────────┼────────────────────────┤\n",
       "│ attrition_output (\u001b[38;5;33mDense\u001b[0m)  │ (\u001b[38;5;45mNone\u001b[0m, \u001b[38;5;34m2\u001b[0m)              │             \u001b[38;5;34m66\u001b[0m │ attrition_hidden[\u001b[38;5;34m0\u001b[0m][\u001b[38;5;34m0\u001b[0m] │\n",
       "├───────────────────────────┼────────────────────────┼────────────────┼────────────────────────┤\n",
       "│ department_output (\u001b[38;5;33mDense\u001b[0m) │ (\u001b[38;5;45mNone\u001b[0m, \u001b[38;5;34m3\u001b[0m)              │             \u001b[38;5;34m99\u001b[0m │ department_hidden[\u001b[38;5;34m0\u001b[0m][\u001b[38;5;34m…\u001b[0m │\n",
       "└───────────────────────────┴────────────────────────┴────────────────┴────────────────────────┘\n"
      ]
     },
     "metadata": {},
     "output_type": "display_data"
    },
    {
     "data": {
      "text/html": [
       "<pre style=\"white-space:pre;overflow-x:auto;line-height:normal;font-family:Menlo,'DejaVu Sans Mono',consolas,'Courier New',monospace\"><span style=\"font-weight: bold\"> Total params: </span><span style=\"color: #00af00; text-decoration-color: #00af00\">17,445</span> (68.14 KB)\n",
       "</pre>\n"
      ],
      "text/plain": [
       "\u001b[1m Total params: \u001b[0m\u001b[38;5;34m17,445\u001b[0m (68.14 KB)\n"
      ]
     },
     "metadata": {},
     "output_type": "display_data"
    },
    {
     "data": {
      "text/html": [
       "<pre style=\"white-space:pre;overflow-x:auto;line-height:normal;font-family:Menlo,'DejaVu Sans Mono',consolas,'Courier New',monospace\"><span style=\"font-weight: bold\"> Trainable params: </span><span style=\"color: #00af00; text-decoration-color: #00af00\">17,445</span> (68.14 KB)\n",
       "</pre>\n"
      ],
      "text/plain": [
       "\u001b[1m Trainable params: \u001b[0m\u001b[38;5;34m17,445\u001b[0m (68.14 KB)\n"
      ]
     },
     "metadata": {},
     "output_type": "display_data"
    },
    {
     "data": {
      "text/html": [
       "<pre style=\"white-space:pre;overflow-x:auto;line-height:normal;font-family:Menlo,'DejaVu Sans Mono',consolas,'Courier New',monospace\"><span style=\"font-weight: bold\"> Non-trainable params: </span><span style=\"color: #00af00; text-decoration-color: #00af00\">0</span> (0.00 B)\n",
       "</pre>\n"
      ],
      "text/plain": [
       "\u001b[1m Non-trainable params: \u001b[0m\u001b[38;5;34m0\u001b[0m (0.00 B)\n"
      ]
     },
     "metadata": {},
     "output_type": "display_data"
    }
   ],
   "source": [
    "# Create the model\n",
    "model = Model(inputs=input_layer, outputs=[department_output, attrition_output])\n",
    "\n",
    "# Compile the model\n",
    "model.compile(optimizer='adam',\n",
    "              loss={'department_output': 'categorical_crossentropy', 'attrition_output': 'binary_crossentropy'},\n",
    "              metrics={'department_output': 'accuracy', 'attrition_output': 'accuracy'})\n",
    "\n",
    "# Summarize the model\n",
    "model.summary()"
   ]
  },
  {
   "cell_type": "code",
   "execution_count": 60,
   "metadata": {
    "colab": {
     "base_uri": "https://localhost:8080/"
    },
    "executionInfo": {
     "elapsed": 31740,
     "status": "ok",
     "timestamp": 1730699259517,
     "user": {
      "displayName": "Alexander Booth",
      "userId": "02269714993535573104"
     },
     "user_tz": 360
    },
    "id": "c8oGy0dpGc3U",
    "outputId": "f48a5292-426f-4715-ea6e-381a8e9d5542"
   },
   "outputs": [
    {
     "name": "stdout",
     "output_type": "stream",
     "text": [
      "Epoch 1/100\n",
      "\u001b[1m37/37\u001b[0m \u001b[32m━━━━━━━━━━━━━━━━━━━━\u001b[0m\u001b[37m\u001b[0m \u001b[1m0s\u001b[0m 5ms/step - attrition_output_accuracy: 0.9993 - attrition_output_loss: 0.0087 - department_output_accuracy: 0.9971 - department_output_loss: 0.0168 - loss: 0.0255 - val_attrition_output_accuracy: 0.7653 - val_attrition_output_loss: 1.7930 - val_department_output_accuracy: 0.5476 - val_department_output_loss: 3.6419 - val_loss: 5.6800\n",
      "Epoch 2/100\n",
      "\u001b[1m37/37\u001b[0m \u001b[32m━━━━━━━━━━━━━━━━━━━━\u001b[0m\u001b[37m\u001b[0m \u001b[1m0s\u001b[0m 4ms/step - attrition_output_accuracy: 0.9962 - attrition_output_loss: 0.0143 - department_output_accuracy: 0.9952 - department_output_loss: 0.0162 - loss: 0.0305 - val_attrition_output_accuracy: 0.8027 - val_attrition_output_loss: 1.7165 - val_department_output_accuracy: 0.5850 - val_department_output_loss: 3.7629 - val_loss: 5.6951\n",
      "Epoch 3/100\n",
      "\u001b[1m37/37\u001b[0m \u001b[32m━━━━━━━━━━━━━━━━━━━━\u001b[0m\u001b[37m\u001b[0m \u001b[1m0s\u001b[0m 4ms/step - attrition_output_accuracy: 0.9994 - attrition_output_loss: 0.0077 - department_output_accuracy: 0.9986 - department_output_loss: 0.0130 - loss: 0.0207 - val_attrition_output_accuracy: 0.7653 - val_attrition_output_loss: 1.8024 - val_department_output_accuracy: 0.5782 - val_department_output_loss: 3.7096 - val_loss: 5.7349\n",
      "Epoch 4/100\n",
      "\u001b[1m37/37\u001b[0m \u001b[32m━━━━━━━━━━━━━━━━━━━━\u001b[0m\u001b[37m\u001b[0m \u001b[1m0s\u001b[0m 4ms/step - attrition_output_accuracy: 0.9963 - attrition_output_loss: 0.0172 - department_output_accuracy: 0.9980 - department_output_loss: 0.0144 - loss: 0.0316 - val_attrition_output_accuracy: 0.7823 - val_attrition_output_loss: 1.7673 - val_department_output_accuracy: 0.5170 - val_department_output_loss: 3.7846 - val_loss: 5.8206\n",
      "Epoch 5/100\n",
      "\u001b[1m37/37\u001b[0m \u001b[32m━━━━━━━━━━━━━━━━━━━━\u001b[0m\u001b[37m\u001b[0m \u001b[1m0s\u001b[0m 4ms/step - attrition_output_accuracy: 0.9976 - attrition_output_loss: 0.0077 - department_output_accuracy: 0.9963 - department_output_loss: 0.0206 - loss: 0.0283 - val_attrition_output_accuracy: 0.7993 - val_attrition_output_loss: 1.7927 - val_department_output_accuracy: 0.5408 - val_department_output_loss: 3.7591 - val_loss: 5.8180\n",
      "Epoch 6/100\n",
      "\u001b[1m37/37\u001b[0m \u001b[32m━━━━━━━━━━━━━━━━━━━━\u001b[0m\u001b[37m\u001b[0m \u001b[1m0s\u001b[0m 10ms/step - attrition_output_accuracy: 0.9913 - attrition_output_loss: 0.0225 - department_output_accuracy: 0.9951 - department_output_loss: 0.0186 - loss: 0.0410 - val_attrition_output_accuracy: 0.7721 - val_attrition_output_loss: 1.7532 - val_department_output_accuracy: 0.5306 - val_department_output_loss: 3.7776 - val_loss: 5.8060\n",
      "Epoch 7/100\n",
      "\u001b[1m37/37\u001b[0m \u001b[32m━━━━━━━━━━━━━━━━━━━━\u001b[0m\u001b[37m\u001b[0m \u001b[1m0s\u001b[0m 4ms/step - attrition_output_accuracy: 0.9775 - attrition_output_loss: 0.0595 - department_output_accuracy: 0.9874 - department_output_loss: 0.0430 - loss: 0.1024 - val_attrition_output_accuracy: 0.7789 - val_attrition_output_loss: 1.6762 - val_department_output_accuracy: 0.5136 - val_department_output_loss: 3.8912 - val_loss: 5.8605\n",
      "Epoch 8/100\n",
      "\u001b[1m37/37\u001b[0m \u001b[32m━━━━━━━━━━━━━━━━━━━━\u001b[0m\u001b[37m\u001b[0m \u001b[1m0s\u001b[0m 4ms/step - attrition_output_accuracy: 0.9764 - attrition_output_loss: 0.0687 - department_output_accuracy: 0.9167 - department_output_loss: 0.2698 - loss: 0.3383 - val_attrition_output_accuracy: 0.7381 - val_attrition_output_loss: 1.7028 - val_department_output_accuracy: 0.5680 - val_department_output_loss: 3.8944 - val_loss: 5.7465\n",
      "Epoch 9/100\n",
      "\u001b[1m37/37\u001b[0m \u001b[32m━━━━━━━━━━━━━━━━━━━━\u001b[0m\u001b[37m\u001b[0m \u001b[1m0s\u001b[0m 4ms/step - attrition_output_accuracy: 0.9652 - attrition_output_loss: 0.1310 - department_output_accuracy: 0.9238 - department_output_loss: 0.2449 - loss: 0.3759 - val_attrition_output_accuracy: 0.7619 - val_attrition_output_loss: 1.4654 - val_department_output_accuracy: 0.4966 - val_department_output_loss: 3.2054 - val_loss: 4.9238\n",
      "Epoch 10/100\n",
      "\u001b[1m37/37\u001b[0m \u001b[32m━━━━━━━━━━━━━━━━━━━━\u001b[0m\u001b[37m\u001b[0m \u001b[1m0s\u001b[0m 4ms/step - attrition_output_accuracy: 0.9760 - attrition_output_loss: 0.0529 - department_output_accuracy: 0.9586 - department_output_loss: 0.1271 - loss: 0.1801 - val_attrition_output_accuracy: 0.7653 - val_attrition_output_loss: 1.5209 - val_department_output_accuracy: 0.5782 - val_department_output_loss: 3.1737 - val_loss: 4.9539\n",
      "Epoch 11/100\n",
      "\u001b[1m37/37\u001b[0m \u001b[32m━━━━━━━━━━━━━━━━━━━━\u001b[0m\u001b[37m\u001b[0m \u001b[1m0s\u001b[0m 4ms/step - attrition_output_accuracy: 0.9712 - attrition_output_loss: 0.0498 - department_output_accuracy: 0.9754 - department_output_loss: 0.0645 - loss: 0.1143 - val_attrition_output_accuracy: 0.7993 - val_attrition_output_loss: 1.4991 - val_department_output_accuracy: 0.5476 - val_department_output_loss: 3.3203 - val_loss: 5.0698\n",
      "Epoch 12/100\n",
      "\u001b[1m37/37\u001b[0m \u001b[32m━━━━━━━━━━━━━━━━━━━━\u001b[0m\u001b[37m\u001b[0m \u001b[1m0s\u001b[0m 4ms/step - attrition_output_accuracy: 0.9828 - attrition_output_loss: 0.0494 - department_output_accuracy: 0.9958 - department_output_loss: 0.0277 - loss: 0.0770 - val_attrition_output_accuracy: 0.7721 - val_attrition_output_loss: 1.5243 - val_department_output_accuracy: 0.5238 - val_department_output_loss: 3.4496 - val_loss: 5.2405\n",
      "Epoch 13/100\n",
      "\u001b[1m37/37\u001b[0m \u001b[32m━━━━━━━━━━━━━━━━━━━━\u001b[0m\u001b[37m\u001b[0m \u001b[1m0s\u001b[0m 4ms/step - attrition_output_accuracy: 0.9958 - attrition_output_loss: 0.0166 - department_output_accuracy: 0.9928 - department_output_loss: 0.0303 - loss: 0.0469 - val_attrition_output_accuracy: 0.7959 - val_attrition_output_loss: 1.6214 - val_department_output_accuracy: 0.5408 - val_department_output_loss: 3.5066 - val_loss: 5.3991\n",
      "Epoch 14/100\n",
      "\u001b[1m37/37\u001b[0m \u001b[32m━━━━━━━━━━━━━━━━━━━━\u001b[0m\u001b[37m\u001b[0m \u001b[1m0s\u001b[0m 4ms/step - attrition_output_accuracy: 0.9954 - attrition_output_loss: 0.0179 - department_output_accuracy: 0.9957 - department_output_loss: 0.0218 - loss: 0.0396 - val_attrition_output_accuracy: 0.7993 - val_attrition_output_loss: 1.5929 - val_department_output_accuracy: 0.5340 - val_department_output_loss: 3.5116 - val_loss: 5.3887\n",
      "Epoch 15/100\n",
      "\u001b[1m37/37\u001b[0m \u001b[32m━━━━━━━━━━━━━━━━━━━━\u001b[0m\u001b[37m\u001b[0m \u001b[1m0s\u001b[0m 4ms/step - attrition_output_accuracy: 0.9997 - attrition_output_loss: 0.0092 - department_output_accuracy: 0.9974 - department_output_loss: 0.0158 - loss: 0.0250 - val_attrition_output_accuracy: 0.7857 - val_attrition_output_loss: 1.6593 - val_department_output_accuracy: 0.5102 - val_department_output_loss: 3.5670 - val_loss: 5.5324\n",
      "Epoch 16/100\n",
      "\u001b[1m37/37\u001b[0m \u001b[32m━━━━━━━━━━━━━━━━━━━━\u001b[0m\u001b[37m\u001b[0m \u001b[1m0s\u001b[0m 4ms/step - attrition_output_accuracy: 0.9975 - attrition_output_loss: 0.0093 - department_output_accuracy: 0.9980 - department_output_loss: 0.0147 - loss: 0.0240 - val_attrition_output_accuracy: 0.7959 - val_attrition_output_loss: 1.6762 - val_department_output_accuracy: 0.5442 - val_department_output_loss: 3.5859 - val_loss: 5.5395\n",
      "Epoch 17/100\n",
      "\u001b[1m37/37\u001b[0m \u001b[32m━━━━━━━━━━━━━━━━━━━━\u001b[0m\u001b[37m\u001b[0m \u001b[1m0s\u001b[0m 4ms/step - attrition_output_accuracy: 0.9997 - attrition_output_loss: 0.0062 - department_output_accuracy: 0.9998 - department_output_loss: 0.0092 - loss: 0.0154 - val_attrition_output_accuracy: 0.7993 - val_attrition_output_loss: 1.7118 - val_department_output_accuracy: 0.5340 - val_department_output_loss: 3.6601 - val_loss: 5.6658\n",
      "Epoch 18/100\n",
      "\u001b[1m37/37\u001b[0m \u001b[32m━━━━━━━━━━━━━━━━━━━━\u001b[0m\u001b[37m\u001b[0m \u001b[1m0s\u001b[0m 4ms/step - attrition_output_accuracy: 0.9993 - attrition_output_loss: 0.0068 - department_output_accuracy: 0.9979 - department_output_loss: 0.0135 - loss: 0.0203 - val_attrition_output_accuracy: 0.8027 - val_attrition_output_loss: 1.7223 - val_department_output_accuracy: 0.5306 - val_department_output_loss: 3.6732 - val_loss: 5.6913\n",
      "Epoch 19/100\n",
      "\u001b[1m37/37\u001b[0m \u001b[32m━━━━━━━━━━━━━━━━━━━━\u001b[0m\u001b[37m\u001b[0m \u001b[1m0s\u001b[0m 4ms/step - attrition_output_accuracy: 0.9966 - attrition_output_loss: 0.0101 - department_output_accuracy: 0.9985 - department_output_loss: 0.0138 - loss: 0.0239 - val_attrition_output_accuracy: 0.7823 - val_attrition_output_loss: 1.7362 - val_department_output_accuracy: 0.5306 - val_department_output_loss: 3.6965 - val_loss: 5.7263\n",
      "Epoch 20/100\n",
      "\u001b[1m37/37\u001b[0m \u001b[32m━━━━━━━━━━━━━━━━━━━━\u001b[0m\u001b[37m\u001b[0m \u001b[1m0s\u001b[0m 4ms/step - attrition_output_accuracy: 0.9986 - attrition_output_loss: 0.0070 - department_output_accuracy: 0.9973 - department_output_loss: 0.0110 - loss: 0.0180 - val_attrition_output_accuracy: 0.7755 - val_attrition_output_loss: 1.7610 - val_department_output_accuracy: 0.5238 - val_department_output_loss: 3.7416 - val_loss: 5.8094\n",
      "Epoch 21/100\n",
      "\u001b[1m37/37\u001b[0m \u001b[32m━━━━━━━━━━━━━━━━━━━━\u001b[0m\u001b[37m\u001b[0m \u001b[1m0s\u001b[0m 4ms/step - attrition_output_accuracy: 0.9991 - attrition_output_loss: 0.0055 - department_output_accuracy: 0.9973 - department_output_loss: 0.0124 - loss: 0.0180 - val_attrition_output_accuracy: 0.7959 - val_attrition_output_loss: 1.7561 - val_department_output_accuracy: 0.5306 - val_department_output_loss: 3.7733 - val_loss: 5.8325\n",
      "Epoch 22/100\n",
      "\u001b[1m37/37\u001b[0m \u001b[32m━━━━━━━━━━━━━━━━━━━━\u001b[0m\u001b[37m\u001b[0m \u001b[1m0s\u001b[0m 4ms/step - attrition_output_accuracy: 0.9992 - attrition_output_loss: 0.0080 - department_output_accuracy: 0.9986 - department_output_loss: 0.0103 - loss: 0.0183 - val_attrition_output_accuracy: 0.7755 - val_attrition_output_loss: 1.7895 - val_department_output_accuracy: 0.5170 - val_department_output_loss: 3.7874 - val_loss: 5.8739\n",
      "Epoch 23/100\n",
      "\u001b[1m37/37\u001b[0m \u001b[32m━━━━━━━━━━━━━━━━━━━━\u001b[0m\u001b[37m\u001b[0m \u001b[1m0s\u001b[0m 4ms/step - attrition_output_accuracy: 0.9965 - attrition_output_loss: 0.0078 - department_output_accuracy: 0.9964 - department_output_loss: 0.0137 - loss: 0.0215 - val_attrition_output_accuracy: 0.7823 - val_attrition_output_loss: 1.7923 - val_department_output_accuracy: 0.5476 - val_department_output_loss: 3.8187 - val_loss: 5.9163\n",
      "Epoch 24/100\n",
      "\u001b[1m37/37\u001b[0m \u001b[32m━━━━━━━━━━━━━━━━━━━━\u001b[0m\u001b[37m\u001b[0m \u001b[1m0s\u001b[0m 4ms/step - attrition_output_accuracy: 0.9970 - attrition_output_loss: 0.0080 - department_output_accuracy: 0.9984 - department_output_loss: 0.0097 - loss: 0.0177 - val_attrition_output_accuracy: 0.7891 - val_attrition_output_loss: 1.8080 - val_department_output_accuracy: 0.5204 - val_department_output_loss: 3.8110 - val_loss: 5.9294\n",
      "Epoch 25/100\n",
      "\u001b[1m37/37\u001b[0m \u001b[32m━━━━━━━━━━━━━━━━━━━━\u001b[0m\u001b[37m\u001b[0m \u001b[1m0s\u001b[0m 4ms/step - attrition_output_accuracy: 0.9989 - attrition_output_loss: 0.0052 - department_output_accuracy: 0.9999 - department_output_loss: 0.0083 - loss: 0.0135 - val_attrition_output_accuracy: 0.7517 - val_attrition_output_loss: 1.9050 - val_department_output_accuracy: 0.5340 - val_department_output_loss: 3.9243 - val_loss: 6.1259\n",
      "Epoch 26/100\n",
      "\u001b[1m37/37\u001b[0m \u001b[32m━━━━━━━━━━━━━━━━━━━━\u001b[0m\u001b[37m\u001b[0m \u001b[1m0s\u001b[0m 4ms/step - attrition_output_accuracy: 0.9915 - attrition_output_loss: 0.0247 - department_output_accuracy: 0.9939 - department_output_loss: 0.0212 - loss: 0.0459 - val_attrition_output_accuracy: 0.7789 - val_attrition_output_loss: 1.8381 - val_department_output_accuracy: 0.5374 - val_department_output_loss: 3.8381 - val_loss: 5.9889\n",
      "Epoch 27/100\n",
      "\u001b[1m37/37\u001b[0m \u001b[32m━━━━━━━━━━━━━━━━━━━━\u001b[0m\u001b[37m\u001b[0m \u001b[1m0s\u001b[0m 4ms/step - attrition_output_accuracy: 0.9937 - attrition_output_loss: 0.0176 - department_output_accuracy: 0.9983 - department_output_loss: 0.0129 - loss: 0.0305 - val_attrition_output_accuracy: 0.8027 - val_attrition_output_loss: 1.8299 - val_department_output_accuracy: 0.5238 - val_department_output_loss: 3.9715 - val_loss: 6.1145\n",
      "Epoch 28/100\n",
      "\u001b[1m37/37\u001b[0m \u001b[32m━━━━━━━━━━━━━━━━━━━━\u001b[0m\u001b[37m\u001b[0m \u001b[1m0s\u001b[0m 4ms/step - attrition_output_accuracy: 0.9953 - attrition_output_loss: 0.0179 - department_output_accuracy: 0.9945 - department_output_loss: 0.0245 - loss: 0.0424 - val_attrition_output_accuracy: 0.7687 - val_attrition_output_loss: 1.8554 - val_department_output_accuracy: 0.5204 - val_department_output_loss: 3.9772 - val_loss: 6.1290\n",
      "Epoch 29/100\n",
      "\u001b[1m37/37\u001b[0m \u001b[32m━━━━━━━━━━━━━━━━━━━━\u001b[0m\u001b[37m\u001b[0m \u001b[1m0s\u001b[0m 5ms/step - attrition_output_accuracy: 0.9999 - attrition_output_loss: 0.0066 - department_output_accuracy: 0.9989 - department_output_loss: 0.0106 - loss: 0.0173 - val_attrition_output_accuracy: 0.8095 - val_attrition_output_loss: 1.8440 - val_department_output_accuracy: 0.5374 - val_department_output_loss: 3.9229 - val_loss: 6.1022\n",
      "Epoch 30/100\n",
      "\u001b[1m37/37\u001b[0m \u001b[32m━━━━━━━━━━━━━━━━━━━━\u001b[0m\u001b[37m\u001b[0m \u001b[1m0s\u001b[0m 6ms/step - attrition_output_accuracy: 0.9994 - attrition_output_loss: 0.0059 - department_output_accuracy: 0.9994 - department_output_loss: 0.0065 - loss: 0.0124 - val_attrition_output_accuracy: 0.7789 - val_attrition_output_loss: 1.8703 - val_department_output_accuracy: 0.5510 - val_department_output_loss: 3.9568 - val_loss: 6.1206\n",
      "Epoch 31/100\n",
      "\u001b[1m37/37\u001b[0m \u001b[32m━━━━━━━━━━━━━━━━━━━━\u001b[0m\u001b[37m\u001b[0m \u001b[1m0s\u001b[0m 4ms/step - attrition_output_accuracy: 0.9942 - attrition_output_loss: 0.0137 - department_output_accuracy: 0.9985 - department_output_loss: 0.0082 - loss: 0.0218 - val_attrition_output_accuracy: 0.7891 - val_attrition_output_loss: 1.8515 - val_department_output_accuracy: 0.5578 - val_department_output_loss: 4.0233 - val_loss: 6.1708\n",
      "Epoch 32/100\n",
      "\u001b[1m37/37\u001b[0m \u001b[32m━━━━━━━━━━━━━━━━━━━━\u001b[0m\u001b[37m\u001b[0m \u001b[1m0s\u001b[0m 4ms/step - attrition_output_accuracy: 0.9993 - attrition_output_loss: 0.0055 - department_output_accuracy: 0.9977 - department_output_loss: 0.0129 - loss: 0.0184 - val_attrition_output_accuracy: 0.7993 - val_attrition_output_loss: 1.8692 - val_department_output_accuracy: 0.5510 - val_department_output_loss: 3.9788 - val_loss: 6.1475\n",
      "Epoch 33/100\n",
      "\u001b[1m37/37\u001b[0m \u001b[32m━━━━━━━━━━━━━━━━━━━━\u001b[0m\u001b[37m\u001b[0m \u001b[1m0s\u001b[0m 4ms/step - attrition_output_accuracy: 0.9992 - attrition_output_loss: 0.0054 - department_output_accuracy: 0.9950 - department_output_loss: 0.0180 - loss: 0.0234 - val_attrition_output_accuracy: 0.7959 - val_attrition_output_loss: 1.8945 - val_department_output_accuracy: 0.5476 - val_department_output_loss: 3.9939 - val_loss: 6.1970\n",
      "Epoch 34/100\n",
      "\u001b[1m37/37\u001b[0m \u001b[32m━━━━━━━━━━━━━━━━━━━━\u001b[0m\u001b[37m\u001b[0m \u001b[1m0s\u001b[0m 4ms/step - attrition_output_accuracy: 0.9978 - attrition_output_loss: 0.0053 - department_output_accuracy: 0.9964 - department_output_loss: 0.0161 - loss: 0.0213 - val_attrition_output_accuracy: 0.7993 - val_attrition_output_loss: 1.8951 - val_department_output_accuracy: 0.5102 - val_department_output_loss: 4.0621 - val_loss: 6.3005\n",
      "Epoch 35/100\n",
      "\u001b[1m37/37\u001b[0m \u001b[32m━━━━━━━━━━━━━━━━━━━━\u001b[0m\u001b[37m\u001b[0m \u001b[1m0s\u001b[0m 4ms/step - attrition_output_accuracy: 0.9988 - attrition_output_loss: 0.0040 - department_output_accuracy: 0.9987 - department_output_loss: 0.0089 - loss: 0.0128 - val_attrition_output_accuracy: 0.7891 - val_attrition_output_loss: 1.9381 - val_department_output_accuracy: 0.5306 - val_department_output_loss: 4.1537 - val_loss: 6.4070\n",
      "Epoch 36/100\n",
      "\u001b[1m37/37\u001b[0m \u001b[32m━━━━━━━━━━━━━━━━━━━━\u001b[0m\u001b[37m\u001b[0m \u001b[1m0s\u001b[0m 4ms/step - attrition_output_accuracy: 0.9984 - attrition_output_loss: 0.0050 - department_output_accuracy: 0.9951 - department_output_loss: 0.0141 - loss: 0.0191 - val_attrition_output_accuracy: 0.7959 - val_attrition_output_loss: 1.9039 - val_department_output_accuracy: 0.5068 - val_department_output_loss: 4.1780 - val_loss: 6.4363\n",
      "Epoch 37/100\n",
      "\u001b[1m37/37\u001b[0m \u001b[32m━━━━━━━━━━━━━━━━━━━━\u001b[0m\u001b[37m\u001b[0m \u001b[1m0s\u001b[0m 4ms/step - attrition_output_accuracy: 0.9999 - attrition_output_loss: 0.0032 - department_output_accuracy: 0.9956 - department_output_loss: 0.0191 - loss: 0.0224 - val_attrition_output_accuracy: 0.7891 - val_attrition_output_loss: 1.9193 - val_department_output_accuracy: 0.5136 - val_department_output_loss: 4.2885 - val_loss: 6.5071\n",
      "Epoch 38/100\n",
      "\u001b[1m37/37\u001b[0m \u001b[32m━━━━━━━━━━━━━━━━━━━━\u001b[0m\u001b[37m\u001b[0m \u001b[1m0s\u001b[0m 5ms/step - attrition_output_accuracy: 0.9981 - attrition_output_loss: 0.0080 - department_output_accuracy: 0.9977 - department_output_loss: 0.0166 - loss: 0.0245 - val_attrition_output_accuracy: 0.8027 - val_attrition_output_loss: 1.9290 - val_department_output_accuracy: 0.5510 - val_department_output_loss: 4.2514 - val_loss: 6.4735\n",
      "Epoch 39/100\n",
      "\u001b[1m37/37\u001b[0m \u001b[32m━━━━━━━━━━━━━━━━━━━━\u001b[0m\u001b[37m\u001b[0m \u001b[1m0s\u001b[0m 4ms/step - attrition_output_accuracy: 0.9992 - attrition_output_loss: 0.0068 - department_output_accuracy: 0.9988 - department_output_loss: 0.0111 - loss: 0.0179 - val_attrition_output_accuracy: 0.8027 - val_attrition_output_loss: 1.9410 - val_department_output_accuracy: 0.5204 - val_department_output_loss: 4.1774 - val_loss: 6.4428\n",
      "Epoch 40/100\n",
      "\u001b[1m37/37\u001b[0m \u001b[32m━━━━━━━━━━━━━━━━━━━━\u001b[0m\u001b[37m\u001b[0m \u001b[1m0s\u001b[0m 4ms/step - attrition_output_accuracy: 0.9886 - attrition_output_loss: 0.0191 - department_output_accuracy: 0.9952 - department_output_loss: 0.0183 - loss: 0.0374 - val_attrition_output_accuracy: 0.7925 - val_attrition_output_loss: 1.9458 - val_department_output_accuracy: 0.5034 - val_department_output_loss: 4.2707 - val_loss: 6.5467\n",
      "Epoch 41/100\n",
      "\u001b[1m37/37\u001b[0m \u001b[32m━━━━━━━━━━━━━━━━━━━━\u001b[0m\u001b[37m\u001b[0m \u001b[1m0s\u001b[0m 4ms/step - attrition_output_accuracy: 0.9961 - attrition_output_loss: 0.0103 - department_output_accuracy: 0.9870 - department_output_loss: 0.0924 - loss: 0.1028 - val_attrition_output_accuracy: 0.7993 - val_attrition_output_loss: 1.9543 - val_department_output_accuracy: 0.5952 - val_department_output_loss: 4.5724 - val_loss: 6.7756\n",
      "Epoch 42/100\n",
      "\u001b[1m37/37\u001b[0m \u001b[32m━━━━━━━━━━━━━━━━━━━━\u001b[0m\u001b[37m\u001b[0m \u001b[1m0s\u001b[0m 4ms/step - attrition_output_accuracy: 0.9923 - attrition_output_loss: 0.0198 - department_output_accuracy: 0.9312 - department_output_loss: 0.2304 - loss: 0.2502 - val_attrition_output_accuracy: 0.7755 - val_attrition_output_loss: 1.8312 - val_department_output_accuracy: 0.5408 - val_department_output_loss: 3.8850 - val_loss: 5.8974\n",
      "Epoch 43/100\n",
      "\u001b[1m37/37\u001b[0m \u001b[32m━━━━━━━━━━━━━━━━━━━━\u001b[0m\u001b[37m\u001b[0m \u001b[1m0s\u001b[0m 4ms/step - attrition_output_accuracy: 0.9864 - attrition_output_loss: 0.0461 - department_output_accuracy: 0.9381 - department_output_loss: 0.1735 - loss: 0.2196 - val_attrition_output_accuracy: 0.7857 - val_attrition_output_loss: 1.8874 - val_department_output_accuracy: 0.5680 - val_department_output_loss: 3.7760 - val_loss: 5.8492\n",
      "Epoch 44/100\n",
      "\u001b[1m37/37\u001b[0m \u001b[32m━━━━━━━━━━━━━━━━━━━━\u001b[0m\u001b[37m\u001b[0m \u001b[1m0s\u001b[0m 4ms/step - attrition_output_accuracy: 0.9681 - attrition_output_loss: 0.0976 - department_output_accuracy: 0.9741 - department_output_loss: 0.0627 - loss: 0.1602 - val_attrition_output_accuracy: 0.7959 - val_attrition_output_loss: 1.7338 - val_department_output_accuracy: 0.4966 - val_department_output_loss: 3.5723 - val_loss: 5.5993\n",
      "Epoch 45/100\n",
      "\u001b[1m37/37\u001b[0m \u001b[32m━━━━━━━━━━━━━━━━━━━━\u001b[0m\u001b[37m\u001b[0m \u001b[1m0s\u001b[0m 4ms/step - attrition_output_accuracy: 0.9774 - attrition_output_loss: 0.0728 - department_output_accuracy: 0.9722 - department_output_loss: 0.0877 - loss: 0.1605 - val_attrition_output_accuracy: 0.8231 - val_attrition_output_loss: 1.6479 - val_department_output_accuracy: 0.5408 - val_department_output_loss: 3.4878 - val_loss: 5.5098\n",
      "Epoch 46/100\n",
      "\u001b[1m37/37\u001b[0m \u001b[32m━━━━━━━━━━━━━━━━━━━━\u001b[0m\u001b[37m\u001b[0m \u001b[1m0s\u001b[0m 4ms/step - attrition_output_accuracy: 0.9743 - attrition_output_loss: 0.0729 - department_output_accuracy: 0.9877 - department_output_loss: 0.0412 - loss: 0.1141 - val_attrition_output_accuracy: 0.7823 - val_attrition_output_loss: 1.8232 - val_department_output_accuracy: 0.5544 - val_department_output_loss: 3.7134 - val_loss: 5.7914\n",
      "Epoch 47/100\n",
      "\u001b[1m37/37\u001b[0m \u001b[32m━━━━━━━━━━━━━━━━━━━━\u001b[0m\u001b[37m\u001b[0m \u001b[1m0s\u001b[0m 4ms/step - attrition_output_accuracy: 0.9905 - attrition_output_loss: 0.0231 - department_output_accuracy: 0.9950 - department_output_loss: 0.0193 - loss: 0.0424 - val_attrition_output_accuracy: 0.7993 - val_attrition_output_loss: 1.7684 - val_department_output_accuracy: 0.5374 - val_department_output_loss: 3.8132 - val_loss: 5.8597\n",
      "Epoch 48/100\n",
      "\u001b[1m37/37\u001b[0m \u001b[32m━━━━━━━━━━━━━━━━━━━━\u001b[0m\u001b[37m\u001b[0m \u001b[1m0s\u001b[0m 4ms/step - attrition_output_accuracy: 0.9902 - attrition_output_loss: 0.0295 - department_output_accuracy: 0.9969 - department_output_loss: 0.0143 - loss: 0.0438 - val_attrition_output_accuracy: 0.7245 - val_attrition_output_loss: 1.8743 - val_department_output_accuracy: 0.5408 - val_department_output_loss: 3.8271 - val_loss: 5.9483\n",
      "Epoch 49/100\n",
      "\u001b[1m37/37\u001b[0m \u001b[32m━━━━━━━━━━━━━━━━━━━━\u001b[0m\u001b[37m\u001b[0m \u001b[1m0s\u001b[0m 4ms/step - attrition_output_accuracy: 0.9914 - attrition_output_loss: 0.0236 - department_output_accuracy: 0.9953 - department_output_loss: 0.0184 - loss: 0.0419 - val_attrition_output_accuracy: 0.7789 - val_attrition_output_loss: 1.8106 - val_department_output_accuracy: 0.5442 - val_department_output_loss: 3.7628 - val_loss: 5.8556\n",
      "Epoch 50/100\n",
      "\u001b[1m37/37\u001b[0m \u001b[32m━━━━━━━━━━━━━━━━━━━━\u001b[0m\u001b[37m\u001b[0m \u001b[1m0s\u001b[0m 4ms/step - attrition_output_accuracy: 0.9985 - attrition_output_loss: 0.0089 - department_output_accuracy: 0.9980 - department_output_loss: 0.0152 - loss: 0.0241 - val_attrition_output_accuracy: 0.7857 - val_attrition_output_loss: 1.8122 - val_department_output_accuracy: 0.5612 - val_department_output_loss: 3.8030 - val_loss: 5.8819\n",
      "Epoch 51/100\n",
      "\u001b[1m37/37\u001b[0m \u001b[32m━━━━━━━━━━━━━━━━━━━━\u001b[0m\u001b[37m\u001b[0m \u001b[1m0s\u001b[0m 4ms/step - attrition_output_accuracy: 0.9996 - attrition_output_loss: 0.0039 - department_output_accuracy: 0.9996 - department_output_loss: 0.0086 - loss: 0.0126 - val_attrition_output_accuracy: 0.7823 - val_attrition_output_loss: 1.8570 - val_department_output_accuracy: 0.5612 - val_department_output_loss: 3.8783 - val_loss: 6.0047\n",
      "Epoch 52/100\n",
      "\u001b[1m37/37\u001b[0m \u001b[32m━━━━━━━━━━━━━━━━━━━━\u001b[0m\u001b[37m\u001b[0m \u001b[1m0s\u001b[0m 4ms/step - attrition_output_accuracy: 0.9989 - attrition_output_loss: 0.0042 - department_output_accuracy: 0.9976 - department_output_loss: 0.0113 - loss: 0.0154 - val_attrition_output_accuracy: 0.7755 - val_attrition_output_loss: 1.8865 - val_department_output_accuracy: 0.5510 - val_department_output_loss: 3.9090 - val_loss: 6.0689\n",
      "Epoch 53/100\n",
      "\u001b[1m37/37\u001b[0m \u001b[32m━━━━━━━━━━━━━━━━━━━━\u001b[0m\u001b[37m\u001b[0m \u001b[1m0s\u001b[0m 5ms/step - attrition_output_accuracy: 0.9994 - attrition_output_loss: 0.0032 - department_output_accuracy: 0.9992 - department_output_loss: 0.0077 - loss: 0.0110 - val_attrition_output_accuracy: 0.7891 - val_attrition_output_loss: 1.8830 - val_department_output_accuracy: 0.5578 - val_department_output_loss: 3.9346 - val_loss: 6.0863\n",
      "Epoch 54/100\n",
      "\u001b[1m37/37\u001b[0m \u001b[32m━━━━━━━━━━━━━━━━━━━━\u001b[0m\u001b[37m\u001b[0m \u001b[1m0s\u001b[0m 4ms/step - attrition_output_accuracy: 0.9973 - attrition_output_loss: 0.0048 - department_output_accuracy: 0.9978 - department_output_loss: 0.0111 - loss: 0.0159 - val_attrition_output_accuracy: 0.7755 - val_attrition_output_loss: 1.9207 - val_department_output_accuracy: 0.5340 - val_department_output_loss: 3.9749 - val_loss: 6.1830\n",
      "Epoch 55/100\n",
      "\u001b[1m37/37\u001b[0m \u001b[32m━━━━━━━━━━━━━━━━━━━━\u001b[0m\u001b[37m\u001b[0m \u001b[1m0s\u001b[0m 4ms/step - attrition_output_accuracy: 1.0000 - attrition_output_loss: 0.0029 - department_output_accuracy: 0.9977 - department_output_loss: 0.0090 - loss: 0.0119 - val_attrition_output_accuracy: 0.7823 - val_attrition_output_loss: 1.9303 - val_department_output_accuracy: 0.5374 - val_department_output_loss: 3.9586 - val_loss: 6.1717\n",
      "Epoch 56/100\n",
      "\u001b[1m37/37\u001b[0m \u001b[32m━━━━━━━━━━━━━━━━━━━━\u001b[0m\u001b[37m\u001b[0m \u001b[1m0s\u001b[0m 4ms/step - attrition_output_accuracy: 0.9978 - attrition_output_loss: 0.0048 - department_output_accuracy: 0.9959 - department_output_loss: 0.0180 - loss: 0.0227 - val_attrition_output_accuracy: 0.7687 - val_attrition_output_loss: 1.9752 - val_department_output_accuracy: 0.5476 - val_department_output_loss: 3.9975 - val_loss: 6.2423\n",
      "Epoch 57/100\n",
      "\u001b[1m37/37\u001b[0m \u001b[32m━━━━━━━━━━━━━━━━━━━━\u001b[0m\u001b[37m\u001b[0m \u001b[1m0s\u001b[0m 5ms/step - attrition_output_accuracy: 0.9951 - attrition_output_loss: 0.0125 - department_output_accuracy: 0.9977 - department_output_loss: 0.0083 - loss: 0.0208 - val_attrition_output_accuracy: 0.7721 - val_attrition_output_loss: 2.0013 - val_department_output_accuracy: 0.5408 - val_department_output_loss: 4.1054 - val_loss: 6.3849\n",
      "Epoch 58/100\n",
      "\u001b[1m37/37\u001b[0m \u001b[32m━━━━━━━━━━━━━━━━━━━━\u001b[0m\u001b[37m\u001b[0m \u001b[1m0s\u001b[0m 4ms/step - attrition_output_accuracy: 0.9919 - attrition_output_loss: 0.0244 - department_output_accuracy: 0.9957 - department_output_loss: 0.0145 - loss: 0.0389 - val_attrition_output_accuracy: 0.7517 - val_attrition_output_loss: 2.0299 - val_department_output_accuracy: 0.5646 - val_department_output_loss: 4.1018 - val_loss: 6.3884\n",
      "Epoch 59/100\n",
      "\u001b[1m37/37\u001b[0m \u001b[32m━━━━━━━━━━━━━━━━━━━━\u001b[0m\u001b[37m\u001b[0m \u001b[1m0s\u001b[0m 4ms/step - attrition_output_accuracy: 0.9726 - attrition_output_loss: 0.0593 - department_output_accuracy: 0.9983 - department_output_loss: 0.0105 - loss: 0.0698 - val_attrition_output_accuracy: 0.7619 - val_attrition_output_loss: 1.9269 - val_department_output_accuracy: 0.5510 - val_department_output_loss: 4.0217 - val_loss: 6.2361\n",
      "Epoch 60/100\n",
      "\u001b[1m37/37\u001b[0m \u001b[32m━━━━━━━━━━━━━━━━━━━━\u001b[0m\u001b[37m\u001b[0m \u001b[1m0s\u001b[0m 4ms/step - attrition_output_accuracy: 0.9938 - attrition_output_loss: 0.0302 - department_output_accuracy: 0.9995 - department_output_loss: 0.0079 - loss: 0.0380 - val_attrition_output_accuracy: 0.7721 - val_attrition_output_loss: 1.9339 - val_department_output_accuracy: 0.5544 - val_department_output_loss: 4.0153 - val_loss: 6.2038\n",
      "Epoch 61/100\n",
      "\u001b[1m37/37\u001b[0m \u001b[32m━━━━━━━━━━━━━━━━━━━━\u001b[0m\u001b[37m\u001b[0m \u001b[1m0s\u001b[0m 4ms/step - attrition_output_accuracy: 0.9965 - attrition_output_loss: 0.0144 - department_output_accuracy: 0.9996 - department_output_loss: 0.0055 - loss: 0.0198 - val_attrition_output_accuracy: 0.7755 - val_attrition_output_loss: 2.0129 - val_department_output_accuracy: 0.5544 - val_department_output_loss: 4.0460 - val_loss: 6.3177\n",
      "Epoch 62/100\n",
      "\u001b[1m37/37\u001b[0m \u001b[32m━━━━━━━━━━━━━━━━━━━━\u001b[0m\u001b[37m\u001b[0m \u001b[1m0s\u001b[0m 4ms/step - attrition_output_accuracy: 0.9893 - attrition_output_loss: 0.0270 - department_output_accuracy: 0.9983 - department_output_loss: 0.0089 - loss: 0.0358 - val_attrition_output_accuracy: 0.7551 - val_attrition_output_loss: 2.0229 - val_department_output_accuracy: 0.5442 - val_department_output_loss: 4.1010 - val_loss: 6.3594\n",
      "Epoch 63/100\n",
      "\u001b[1m37/37\u001b[0m \u001b[32m━━━━━━━━━━━━━━━━━━━━\u001b[0m\u001b[37m\u001b[0m \u001b[1m0s\u001b[0m 4ms/step - attrition_output_accuracy: 0.9853 - attrition_output_loss: 0.0622 - department_output_accuracy: 0.9982 - department_output_loss: 0.0098 - loss: 0.0720 - val_attrition_output_accuracy: 0.7925 - val_attrition_output_loss: 1.9259 - val_department_output_accuracy: 0.5510 - val_department_output_loss: 4.1073 - val_loss: 6.3062\n",
      "Epoch 64/100\n",
      "\u001b[1m37/37\u001b[0m \u001b[32m━━━━━━━━━━━━━━━━━━━━\u001b[0m\u001b[37m\u001b[0m \u001b[1m0s\u001b[0m 4ms/step - attrition_output_accuracy: 0.9918 - attrition_output_loss: 0.0183 - department_output_accuracy: 0.9987 - department_output_loss: 0.0118 - loss: 0.0301 - val_attrition_output_accuracy: 0.8027 - val_attrition_output_loss: 1.9216 - val_department_output_accuracy: 0.5442 - val_department_output_loss: 4.2156 - val_loss: 6.4751\n",
      "Epoch 65/100\n",
      "\u001b[1m37/37\u001b[0m \u001b[32m━━━━━━━━━━━━━━━━━━━━\u001b[0m\u001b[37m\u001b[0m \u001b[1m0s\u001b[0m 4ms/step - attrition_output_accuracy: 0.9891 - attrition_output_loss: 0.0174 - department_output_accuracy: 0.9855 - department_output_loss: 0.0452 - loss: 0.0626 - val_attrition_output_accuracy: 0.7755 - val_attrition_output_loss: 1.9059 - val_department_output_accuracy: 0.4966 - val_department_output_loss: 4.0725 - val_loss: 6.3478\n",
      "Epoch 66/100\n",
      "\u001b[1m37/37\u001b[0m \u001b[32m━━━━━━━━━━━━━━━━━━━━\u001b[0m\u001b[37m\u001b[0m \u001b[1m0s\u001b[0m 4ms/step - attrition_output_accuracy: 0.9986 - attrition_output_loss: 0.0057 - department_output_accuracy: 0.9839 - department_output_loss: 0.0608 - loss: 0.0665 - val_attrition_output_accuracy: 0.8197 - val_attrition_output_loss: 1.9004 - val_department_output_accuracy: 0.5238 - val_department_output_loss: 4.2851 - val_loss: 6.5635\n",
      "Epoch 67/100\n",
      "\u001b[1m37/37\u001b[0m \u001b[32m━━━━━━━━━━━━━━━━━━━━\u001b[0m\u001b[37m\u001b[0m \u001b[1m0s\u001b[0m 4ms/step - attrition_output_accuracy: 0.9992 - attrition_output_loss: 0.0086 - department_output_accuracy: 0.9748 - department_output_loss: 0.0653 - loss: 0.0739 - val_attrition_output_accuracy: 0.7925 - val_attrition_output_loss: 1.9200 - val_department_output_accuracy: 0.5238 - val_department_output_loss: 4.4671 - val_loss: 6.4940\n",
      "Epoch 68/100\n",
      "\u001b[1m37/37\u001b[0m \u001b[32m━━━━━━━━━━━━━━━━━━━━\u001b[0m\u001b[37m\u001b[0m \u001b[1m0s\u001b[0m 4ms/step - attrition_output_accuracy: 0.9987 - attrition_output_loss: 0.0056 - department_output_accuracy: 0.9796 - department_output_loss: 0.0450 - loss: 0.0506 - val_attrition_output_accuracy: 0.7857 - val_attrition_output_loss: 1.9563 - val_department_output_accuracy: 0.5578 - val_department_output_loss: 4.2505 - val_loss: 6.4394\n",
      "Epoch 69/100\n",
      "\u001b[1m37/37\u001b[0m \u001b[32m━━━━━━━━━━━━━━━━━━━━\u001b[0m\u001b[37m\u001b[0m \u001b[1m0s\u001b[0m 4ms/step - attrition_output_accuracy: 0.9953 - attrition_output_loss: 0.0134 - department_output_accuracy: 0.9910 - department_output_loss: 0.0296 - loss: 0.0431 - val_attrition_output_accuracy: 0.7891 - val_attrition_output_loss: 1.9910 - val_department_output_accuracy: 0.5238 - val_department_output_loss: 4.2330 - val_loss: 6.5642\n",
      "Epoch 70/100\n",
      "\u001b[1m37/37\u001b[0m \u001b[32m━━━━━━━━━━━━━━━━━━━━\u001b[0m\u001b[37m\u001b[0m \u001b[1m0s\u001b[0m 4ms/step - attrition_output_accuracy: 0.9962 - attrition_output_loss: 0.0083 - department_output_accuracy: 0.9961 - department_output_loss: 0.0220 - loss: 0.0303 - val_attrition_output_accuracy: 0.7857 - val_attrition_output_loss: 2.0077 - val_department_output_accuracy: 0.5442 - val_department_output_loss: 4.0135 - val_loss: 6.3117\n",
      "Epoch 71/100\n",
      "\u001b[1m37/37\u001b[0m \u001b[32m━━━━━━━━━━━━━━━━━━━━\u001b[0m\u001b[37m\u001b[0m \u001b[1m0s\u001b[0m 5ms/step - attrition_output_accuracy: 0.9978 - attrition_output_loss: 0.0060 - department_output_accuracy: 0.9962 - department_output_loss: 0.0127 - loss: 0.0187 - val_attrition_output_accuracy: 0.7857 - val_attrition_output_loss: 1.9983 - val_department_output_accuracy: 0.5306 - val_department_output_loss: 4.2208 - val_loss: 6.5175\n",
      "Epoch 72/100\n",
      "\u001b[1m37/37\u001b[0m \u001b[32m━━━━━━━━━━━━━━━━━━━━\u001b[0m\u001b[37m\u001b[0m \u001b[1m0s\u001b[0m 4ms/step - attrition_output_accuracy: 1.0000 - attrition_output_loss: 0.0033 - department_output_accuracy: 0.9952 - department_output_loss: 0.0165 - loss: 0.0198 - val_attrition_output_accuracy: 0.7959 - val_attrition_output_loss: 2.0205 - val_department_output_accuracy: 0.5544 - val_department_output_loss: 4.2472 - val_loss: 6.5712\n",
      "Epoch 73/100\n",
      "\u001b[1m37/37\u001b[0m \u001b[32m━━━━━━━━━━━━━━━━━━━━\u001b[0m\u001b[37m\u001b[0m \u001b[1m0s\u001b[0m 4ms/step - attrition_output_accuracy: 0.9999 - attrition_output_loss: 0.0026 - department_output_accuracy: 0.9997 - department_output_loss: 0.0055 - loss: 0.0081 - val_attrition_output_accuracy: 0.7721 - val_attrition_output_loss: 2.0591 - val_department_output_accuracy: 0.5476 - val_department_output_loss: 4.2584 - val_loss: 6.5950\n",
      "Epoch 74/100\n",
      "\u001b[1m37/37\u001b[0m \u001b[32m━━━━━━━━━━━━━━━━━━━━\u001b[0m\u001b[37m\u001b[0m \u001b[1m0s\u001b[0m 4ms/step - attrition_output_accuracy: 0.9982 - attrition_output_loss: 0.0034 - department_output_accuracy: 0.9988 - department_output_loss: 0.0077 - loss: 0.0111 - val_attrition_output_accuracy: 0.7891 - val_attrition_output_loss: 2.0695 - val_department_output_accuracy: 0.5510 - val_department_output_loss: 4.2496 - val_loss: 6.5877\n",
      "Epoch 75/100\n",
      "\u001b[1m37/37\u001b[0m \u001b[32m━━━━━━━━━━━━━━━━━━━━\u001b[0m\u001b[37m\u001b[0m \u001b[1m0s\u001b[0m 5ms/step - attrition_output_accuracy: 0.9996 - attrition_output_loss: 0.0020 - department_output_accuracy: 0.9971 - department_output_loss: 0.0062 - loss: 0.0082 - val_attrition_output_accuracy: 0.7959 - val_attrition_output_loss: 2.0652 - val_department_output_accuracy: 0.5408 - val_department_output_loss: 4.2222 - val_loss: 6.5916\n",
      "Epoch 76/100\n",
      "\u001b[1m37/37\u001b[0m \u001b[32m━━━━━━━━━━━━━━━━━━━━\u001b[0m\u001b[37m\u001b[0m \u001b[1m0s\u001b[0m 4ms/step - attrition_output_accuracy: 0.9994 - attrition_output_loss: 0.0044 - department_output_accuracy: 0.9986 - department_output_loss: 0.0060 - loss: 0.0105 - val_attrition_output_accuracy: 0.7755 - val_attrition_output_loss: 2.0733 - val_department_output_accuracy: 0.5408 - val_department_output_loss: 4.3414 - val_loss: 6.6918\n",
      "Epoch 77/100\n",
      "\u001b[1m37/37\u001b[0m \u001b[32m━━━━━━━━━━━━━━━━━━━━\u001b[0m\u001b[37m\u001b[0m \u001b[1m0s\u001b[0m 4ms/step - attrition_output_accuracy: 0.9996 - attrition_output_loss: 0.0022 - department_output_accuracy: 0.9990 - department_output_loss: 0.0072 - loss: 0.0094 - val_attrition_output_accuracy: 0.7959 - val_attrition_output_loss: 2.0838 - val_department_output_accuracy: 0.5340 - val_department_output_loss: 4.2993 - val_loss: 6.6725\n",
      "Epoch 78/100\n",
      "\u001b[1m37/37\u001b[0m \u001b[32m━━━━━━━━━━━━━━━━━━━━\u001b[0m\u001b[37m\u001b[0m \u001b[1m0s\u001b[0m 6ms/step - attrition_output_accuracy: 0.9996 - attrition_output_loss: 0.0016 - department_output_accuracy: 0.9967 - department_output_loss: 0.0119 - loss: 0.0135 - val_attrition_output_accuracy: 0.7891 - val_attrition_output_loss: 2.1026 - val_department_output_accuracy: 0.5442 - val_department_output_loss: 4.3888 - val_loss: 6.7738\n",
      "Epoch 79/100\n",
      "\u001b[1m37/37\u001b[0m \u001b[32m━━━━━━━━━━━━━━━━━━━━\u001b[0m\u001b[37m\u001b[0m \u001b[1m0s\u001b[0m 4ms/step - attrition_output_accuracy: 0.9997 - attrition_output_loss: 0.0016 - department_output_accuracy: 0.9995 - department_output_loss: 0.0052 - loss: 0.0068 - val_attrition_output_accuracy: 0.7891 - val_attrition_output_loss: 2.1046 - val_department_output_accuracy: 0.5340 - val_department_output_loss: 4.3617 - val_loss: 6.7611\n",
      "Epoch 80/100\n",
      "\u001b[1m37/37\u001b[0m \u001b[32m━━━━━━━━━━━━━━━━━━━━\u001b[0m\u001b[37m\u001b[0m \u001b[1m0s\u001b[0m 4ms/step - attrition_output_accuracy: 0.9993 - attrition_output_loss: 0.0032 - department_output_accuracy: 0.9988 - department_output_loss: 0.0035 - loss: 0.0067 - val_attrition_output_accuracy: 0.7857 - val_attrition_output_loss: 2.1199 - val_department_output_accuracy: 0.5442 - val_department_output_loss: 4.4111 - val_loss: 6.8163\n",
      "Epoch 81/100\n",
      "\u001b[1m37/37\u001b[0m \u001b[32m━━━━━━━━━━━━━━━━━━━━\u001b[0m\u001b[37m\u001b[0m \u001b[1m0s\u001b[0m 4ms/step - attrition_output_accuracy: 0.9980 - attrition_output_loss: 0.0039 - department_output_accuracy: 0.9993 - department_output_loss: 0.0042 - loss: 0.0082 - val_attrition_output_accuracy: 0.7925 - val_attrition_output_loss: 2.1284 - val_department_output_accuracy: 0.5306 - val_department_output_loss: 4.3598 - val_loss: 6.7956\n",
      "Epoch 82/100\n",
      "\u001b[1m37/37\u001b[0m \u001b[32m━━━━━━━━━━━━━━━━━━━━\u001b[0m\u001b[37m\u001b[0m \u001b[1m0s\u001b[0m 4ms/step - attrition_output_accuracy: 0.9997 - attrition_output_loss: 0.0024 - department_output_accuracy: 0.9992 - department_output_loss: 0.0048 - loss: 0.0072 - val_attrition_output_accuracy: 0.7891 - val_attrition_output_loss: 2.1261 - val_department_output_accuracy: 0.5340 - val_department_output_loss: 4.4978 - val_loss: 6.9301\n",
      "Epoch 83/100\n",
      "\u001b[1m37/37\u001b[0m \u001b[32m━━━━━━━━━━━━━━━━━━━━\u001b[0m\u001b[37m\u001b[0m \u001b[1m0s\u001b[0m 4ms/step - attrition_output_accuracy: 0.9956 - attrition_output_loss: 0.0058 - department_output_accuracy: 0.9983 - department_output_loss: 0.0062 - loss: 0.0119 - val_attrition_output_accuracy: 0.7959 - val_attrition_output_loss: 2.1321 - val_department_output_accuracy: 0.5340 - val_department_output_loss: 4.4331 - val_loss: 6.8696\n",
      "Epoch 84/100\n",
      "\u001b[1m37/37\u001b[0m \u001b[32m━━━━━━━━━━━━━━━━━━━━\u001b[0m\u001b[37m\u001b[0m \u001b[1m0s\u001b[0m 4ms/step - attrition_output_accuracy: 0.9978 - attrition_output_loss: 0.0047 - department_output_accuracy: 0.9980 - department_output_loss: 0.0080 - loss: 0.0127 - val_attrition_output_accuracy: 0.7755 - val_attrition_output_loss: 2.1583 - val_department_output_accuracy: 0.5102 - val_department_output_loss: 4.4110 - val_loss: 6.8918\n",
      "Epoch 85/100\n",
      "\u001b[1m37/37\u001b[0m \u001b[32m━━━━━━━━━━━━━━━━━━━━\u001b[0m\u001b[37m\u001b[0m \u001b[1m0s\u001b[0m 4ms/step - attrition_output_accuracy: 0.9911 - attrition_output_loss: 0.0194 - department_output_accuracy: 0.9981 - department_output_loss: 0.0143 - loss: 0.0337 - val_attrition_output_accuracy: 0.7959 - val_attrition_output_loss: 2.0864 - val_department_output_accuracy: 0.5442 - val_department_output_loss: 4.3890 - val_loss: 6.7854\n",
      "Epoch 86/100\n",
      "\u001b[1m37/37\u001b[0m \u001b[32m━━━━━━━━━━━━━━━━━━━━\u001b[0m\u001b[37m\u001b[0m \u001b[1m0s\u001b[0m 4ms/step - attrition_output_accuracy: 0.9973 - attrition_output_loss: 0.0080 - department_output_accuracy: 0.9917 - department_output_loss: 0.0133 - loss: 0.0213 - val_attrition_output_accuracy: 0.7483 - val_attrition_output_loss: 2.1827 - val_department_output_accuracy: 0.5068 - val_department_output_loss: 4.4778 - val_loss: 7.0019\n",
      "Epoch 87/100\n",
      "\u001b[1m37/37\u001b[0m \u001b[32m━━━━━━━━━━━━━━━━━━━━\u001b[0m\u001b[37m\u001b[0m \u001b[1m0s\u001b[0m 4ms/step - attrition_output_accuracy: 0.9940 - attrition_output_loss: 0.0171 - department_output_accuracy: 0.9923 - department_output_loss: 0.0200 - loss: 0.0371 - val_attrition_output_accuracy: 0.7653 - val_attrition_output_loss: 2.2054 - val_department_output_accuracy: 0.5000 - val_department_output_loss: 4.4785 - val_loss: 7.0403\n",
      "Epoch 88/100\n",
      "\u001b[1m37/37\u001b[0m \u001b[32m━━━━━━━━━━━━━━━━━━━━\u001b[0m\u001b[37m\u001b[0m \u001b[1m0s\u001b[0m 4ms/step - attrition_output_accuracy: 0.9989 - attrition_output_loss: 0.0050 - department_output_accuracy: 0.9939 - department_output_loss: 0.0133 - loss: 0.0183 - val_attrition_output_accuracy: 0.7823 - val_attrition_output_loss: 2.1689 - val_department_output_accuracy: 0.5646 - val_department_output_loss: 4.7415 - val_loss: 7.1409\n",
      "Epoch 89/100\n",
      "\u001b[1m37/37\u001b[0m \u001b[32m━━━━━━━━━━━━━━━━━━━━\u001b[0m\u001b[37m\u001b[0m \u001b[1m0s\u001b[0m 4ms/step - attrition_output_accuracy: 0.9977 - attrition_output_loss: 0.0038 - department_output_accuracy: 0.9908 - department_output_loss: 0.0220 - loss: 0.0258 - val_attrition_output_accuracy: 0.7755 - val_attrition_output_loss: 2.2075 - val_department_output_accuracy: 0.5408 - val_department_output_loss: 4.4156 - val_loss: 6.9268\n",
      "Epoch 90/100\n",
      "\u001b[1m37/37\u001b[0m \u001b[32m━━━━━━━━━━━━━━━━━━━━\u001b[0m\u001b[37m\u001b[0m \u001b[1m0s\u001b[0m 4ms/step - attrition_output_accuracy: 0.9982 - attrition_output_loss: 0.0038 - department_output_accuracy: 0.9900 - department_output_loss: 0.0347 - loss: 0.0385 - val_attrition_output_accuracy: 0.7619 - val_attrition_output_loss: 2.3009 - val_department_output_accuracy: 0.4898 - val_department_output_loss: 4.4038 - val_loss: 7.0692\n",
      "Epoch 91/100\n",
      "\u001b[1m37/37\u001b[0m \u001b[32m━━━━━━━━━━━━━━━━━━━━\u001b[0m\u001b[37m\u001b[0m \u001b[1m0s\u001b[0m 4ms/step - attrition_output_accuracy: 0.9971 - attrition_output_loss: 0.0060 - department_output_accuracy: 0.9748 - department_output_loss: 0.1179 - loss: 0.1239 - val_attrition_output_accuracy: 0.7721 - val_attrition_output_loss: 2.2933 - val_department_output_accuracy: 0.5272 - val_department_output_loss: 4.3642 - val_loss: 6.9991\n",
      "Epoch 92/100\n",
      "\u001b[1m37/37\u001b[0m \u001b[32m━━━━━━━━━━━━━━━━━━━━\u001b[0m\u001b[37m\u001b[0m \u001b[1m0s\u001b[0m 4ms/step - attrition_output_accuracy: 0.9954 - attrition_output_loss: 0.0167 - department_output_accuracy: 0.9732 - department_output_loss: 0.0796 - loss: 0.0963 - val_attrition_output_accuracy: 0.7721 - val_attrition_output_loss: 2.0995 - val_department_output_accuracy: 0.5578 - val_department_output_loss: 4.1190 - val_loss: 6.5341\n",
      "Epoch 93/100\n",
      "\u001b[1m37/37\u001b[0m \u001b[32m━━━━━━━━━━━━━━━━━━━━\u001b[0m\u001b[37m\u001b[0m \u001b[1m0s\u001b[0m 4ms/step - attrition_output_accuracy: 0.9839 - attrition_output_loss: 0.0418 - department_output_accuracy: 0.9690 - department_output_loss: 0.0694 - loss: 0.1111 - val_attrition_output_accuracy: 0.7687 - val_attrition_output_loss: 2.2192 - val_department_output_accuracy: 0.5204 - val_department_output_loss: 4.1533 - val_loss: 6.6285\n",
      "Epoch 94/100\n",
      "\u001b[1m37/37\u001b[0m \u001b[32m━━━━━━━━━━━━━━━━━━━━\u001b[0m\u001b[37m\u001b[0m \u001b[1m0s\u001b[0m 4ms/step - attrition_output_accuracy: 0.9825 - attrition_output_loss: 0.0661 - department_output_accuracy: 0.9546 - department_output_loss: 0.1393 - loss: 0.2054 - val_attrition_output_accuracy: 0.7959 - val_attrition_output_loss: 1.9654 - val_department_output_accuracy: 0.5578 - val_department_output_loss: 4.3753 - val_loss: 6.5306\n",
      "Epoch 95/100\n",
      "\u001b[1m37/37\u001b[0m \u001b[32m━━━━━━━━━━━━━━━━━━━━\u001b[0m\u001b[37m\u001b[0m \u001b[1m0s\u001b[0m 4ms/step - attrition_output_accuracy: 0.9758 - attrition_output_loss: 0.0452 - department_output_accuracy: 0.9600 - department_output_loss: 0.1035 - loss: 0.1488 - val_attrition_output_accuracy: 0.7347 - val_attrition_output_loss: 2.2178 - val_department_output_accuracy: 0.5306 - val_department_output_loss: 4.0104 - val_loss: 6.4217\n",
      "Epoch 96/100\n",
      "\u001b[1m37/37\u001b[0m \u001b[32m━━━━━━━━━━━━━━━━━━━━\u001b[0m\u001b[37m\u001b[0m \u001b[1m0s\u001b[0m 4ms/step - attrition_output_accuracy: 0.9756 - attrition_output_loss: 0.0497 - department_output_accuracy: 0.9758 - department_output_loss: 0.0608 - loss: 0.1106 - val_attrition_output_accuracy: 0.7823 - val_attrition_output_loss: 1.7778 - val_department_output_accuracy: 0.5714 - val_department_output_loss: 4.0787 - val_loss: 6.0135\n",
      "Epoch 97/100\n",
      "\u001b[1m37/37\u001b[0m \u001b[32m━━━━━━━━━━━━━━━━━━━━\u001b[0m\u001b[37m\u001b[0m \u001b[1m0s\u001b[0m 4ms/step - attrition_output_accuracy: 0.9972 - attrition_output_loss: 0.0243 - department_output_accuracy: 0.9905 - department_output_loss: 0.0389 - loss: 0.0632 - val_attrition_output_accuracy: 0.7891 - val_attrition_output_loss: 1.9442 - val_department_output_accuracy: 0.4966 - val_department_output_loss: 4.1298 - val_loss: 6.3715\n",
      "Epoch 98/100\n",
      "\u001b[1m37/37\u001b[0m \u001b[32m━━━━━━━━━━━━━━━━━━━━\u001b[0m\u001b[37m\u001b[0m \u001b[1m0s\u001b[0m 4ms/step - attrition_output_accuracy: 0.9938 - attrition_output_loss: 0.0109 - department_output_accuracy: 0.9882 - department_output_loss: 0.0265 - loss: 0.0374 - val_attrition_output_accuracy: 0.7789 - val_attrition_output_loss: 2.0124 - val_department_output_accuracy: 0.5612 - val_department_output_loss: 4.1222 - val_loss: 6.3881\n",
      "Epoch 99/100\n",
      "\u001b[1m37/37\u001b[0m \u001b[32m━━━━━━━━━━━━━━━━━━━━\u001b[0m\u001b[37m\u001b[0m \u001b[1m0s\u001b[0m 4ms/step - attrition_output_accuracy: 0.9978 - attrition_output_loss: 0.0071 - department_output_accuracy: 0.9972 - department_output_loss: 0.0117 - loss: 0.0189 - val_attrition_output_accuracy: 0.7857 - val_attrition_output_loss: 1.9872 - val_department_output_accuracy: 0.5442 - val_department_output_loss: 4.1027 - val_loss: 6.3154\n",
      "Epoch 100/100\n",
      "\u001b[1m37/37\u001b[0m \u001b[32m━━━━━━━━━━━━━━━━━━━━\u001b[0m\u001b[37m\u001b[0m \u001b[1m0s\u001b[0m 4ms/step - attrition_output_accuracy: 0.9994 - attrition_output_loss: 0.0033 - department_output_accuracy: 0.9979 - department_output_loss: 0.0100 - loss: 0.0133 - val_attrition_output_accuracy: 0.7755 - val_attrition_output_loss: 2.0072 - val_department_output_accuracy: 0.5408 - val_department_output_loss: 4.2506 - val_loss: 6.5069\n"
     ]
    }
   ],
   "source": [
    "# Train the model\n",
    "history = model.fit(X_train_scaled,\n",
    "                    {'department_output': y_train_dept_encoded, 'attrition_output': y_train_attr_encoded},\n",
    "                    epochs=100,\n",
    "                    batch_size=32,\n",
    "                    validation_data=(X_test_scaled, {'department_output': y_test_dept_encoded, 'attrition_output': y_test_attr_encoded}),\n",
    "                    verbose=1)"
   ]
  },
  {
   "cell_type": "code",
   "execution_count": 61,
   "metadata": {},
   "outputs": [
    {
     "name": "stdout",
     "output_type": "stream",
     "text": [
      "\u001b[1m10/10\u001b[0m \u001b[32m━━━━━━━━━━━━━━━━━━━━\u001b[0m\u001b[37m\u001b[0m \u001b[1m0s\u001b[0m 5ms/step - attrition_output_accuracy: 0.7645 - attrition_output_loss: 2.5702 - department_output_accuracy: 0.5154 - department_output_loss: 4.3880 - loss: 7.0035 \n"
     ]
    },
    {
     "data": {
      "text/plain": [
       "[6.5069403648376465,\n",
       " 4.250622272491455,\n",
       " 2.007215976715088,\n",
       " 0.7755101919174194,\n",
       " 0.5408163070678711]"
      ]
     },
     "execution_count": 61,
     "metadata": {},
     "output_type": "execute_result"
    }
   ],
   "source": [
    "test_results = model.evaluate(X_test_scaled, {'department_output': y_test_dept_encoded, 'attrition_output': y_test_attr_encoded})\n",
    "test_results"
   ]
  },
  {
   "cell_type": "code",
   "execution_count": null,
   "metadata": {
    "colab": {
     "base_uri": "https://localhost:8080/"
    },
    "executionInfo": {
     "elapsed": 379,
     "status": "ok",
     "timestamp": 1730699259894,
     "user": {
      "displayName": "Alexander Booth",
      "userId": "02269714993535573104"
     },
     "user_tz": 360
    },
    "id": "VsMoaQlgGc3U",
    "outputId": "636c85ba-ee63-4087-b7d1-00b408f1055a"
   },
   "outputs": [
    {
     "name": "stdout",
     "output_type": "stream",
     "text": [
      "\u001b[1m12/12\u001b[0m \u001b[32m━━━━━━━━━━━━━━━━━━━━\u001b[0m\u001b[37m\u001b[0m \u001b[1m0s\u001b[0m 2ms/step - attrition_output_accuracy: 0.7868 - department_output_accuracy: 0.4877 - loss: 4.0711  \n"
     ]
    },
    {
     "data": {
      "text/plain": [
       "[4.038690090179443, 0.7880434989929199, 0.5]"
      ]
     },
     "execution_count": 16,
     "metadata": {},
     "output_type": "execute_result"
    }
   ],
   "source": [
    "# Evaluate the model with the testing data\n",
    "test_results = model.evaluate(X_test_scaled, {'department_output': y_test_dept_encoded, 'attrition_output': y_test_attr_encoded})\n",
    "test_results"
   ]
  },
  {
   "cell_type": "code",
   "execution_count": null,
   "metadata": {
    "colab": {
     "base_uri": "https://localhost:8080/"
    },
    "executionInfo": {
     "elapsed": 113,
     "status": "ok",
     "timestamp": 1730699260004,
     "user": {
      "displayName": "Alexander Booth",
      "userId": "02269714993535573104"
     },
     "user_tz": 360
    },
    "id": "ZlCtlHi0Vt54",
    "outputId": "3a32435c-11cf-48da-81b5-1431d6c00da2"
   },
   "outputs": [
    {
     "name": "stdout",
     "output_type": "stream",
     "text": [
      "Attrition predictions accuracy: 0.7880434989929199\n",
      "Department predictions accuracy: 0.5\n"
     ]
    }
   ],
   "source": [
    "# Print the accuracy for both department and attrition\n",
    "print(f\"Department Accuracy: {test_results[4]}\")\n",
    "print(f\"Attrition Accuracy: {test_results[3]}\")"
   ]
  },
  {
   "cell_type": "markdown",
   "metadata": {
    "id": "eGSyfsZfWOQM"
   },
   "source": [
    "# Summary\n",
    "\n",
    "In the provided space below, briefly answer the following questions.\n",
    "\n",
    "1. Is accuracy the best metric to use on this data? Why or why not?\n",
    "\n",
    "2. What activation functions did you choose for your output layers, and why?\n",
    "\n",
    "3. Can you name a few ways that this model might be improved?"
   ]
  },
  {
   "cell_type": "markdown",
   "metadata": {
    "id": "pi9SLpFnWvbF"
   },
   "source": [
    "YOUR ANSWERS HERE\n",
    "\n",
    "1. \n",
    "2. \n",
    "3. "
   ]
  },
  {
   "cell_type": "code",
   "execution_count": 17,
   "metadata": {
    "executionInfo": {
     "elapsed": 3,
     "status": "ok",
     "timestamp": 1730699260004,
     "user": {
      "displayName": "Alexander Booth",
      "userId": "02269714993535573104"
     },
     "user_tz": 360
    },
    "id": "ZuQWjGgGXZ3C"
   },
   "outputs": [],
   "source": []
  }
 ],
 "metadata": {
  "colab": {
   "provenance": []
  },
  "kernelspec": {
   "display_name": "dev2",
   "language": "python",
   "name": "python3"
  },
  "language_info": {
   "codemirror_mode": {
    "name": "ipython",
    "version": 3
   },
   "file_extension": ".py",
   "mimetype": "text/x-python",
   "name": "python",
   "nbconvert_exporter": "python",
   "pygments_lexer": "ipython3",
   "version": "3.12.7"
  }
 },
 "nbformat": 4,
 "nbformat_minor": 0
}
